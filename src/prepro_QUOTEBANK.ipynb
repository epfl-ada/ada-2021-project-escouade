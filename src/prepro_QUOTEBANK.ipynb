{
 "cells": [
  {
   "cell_type": "code",
   "execution_count": 2,
   "id": "474c05ca",
   "metadata": {
    "execution": {
     "iopub.execute_input": "2021-12-12T17:48:01.165073Z",
     "iopub.status.busy": "2021-12-12T17:48:01.164567Z",
     "iopub.status.idle": "2021-12-12T17:48:03.592627Z",
     "shell.execute_reply": "2021-12-12T17:48:03.591837Z",
     "shell.execute_reply.started": "2021-12-12T17:48:01.165032Z"
    },
    "tags": []
   },
   "outputs": [],
   "source": [
    "import bz2\n",
    "import json\n",
    "import numpy as np\n",
    "import pandas as pd\n",
    "import spacy\n",
    "import pickle\n",
    "from pathlib import Path\n",
    "\n",
    "from IPython.display import display, HTML\n",
    "\n",
    "from ressources import config\n",
    "from ressources.empath_cat import Empath"
   ]
  },
  {
   "cell_type": "code",
   "execution_count": 2,
   "id": "c1ccebb1",
   "metadata": {
    "tags": []
   },
   "outputs": [],
   "source": [
    "RAW_DATA_FOLDER = config.RAW_DATA_FOLDER\n",
    "GENERATED_DATA_FOLDER = config.GENERATED_DATA_FOLDER"
   ]
  },
  {
   "cell_type": "markdown",
   "id": "16aff467",
   "metadata": {},
   "source": [
    "## QUOTEBANK Dataset\n",
    "Exploring and filtering of quotbank Dataset"
   ]
  },
  {
   "cell_type": "code",
   "execution_count": 3,
   "id": "f3194c76",
   "metadata": {
    "tags": []
   },
   "outputs": [],
   "source": [
    "QUOTEBANK_FOLDER = RAW_DATA_FOLDER / \"QUOTEBANK\"\n",
    "file_list = list(QUOTEBANK_FOLDER.glob('*.json.bz2'))"
   ]
  },
  {
   "cell_type": "markdown",
   "id": "b8040bf5",
   "metadata": {},
   "source": [
    "### List of features"
   ]
  },
  {
   "cell_type": "code",
   "execution_count": null,
   "id": "fa74e1da",
   "metadata": {
    "tags": []
   },
   "outputs": [],
   "source": [
    "with pd.read_json(file_list[0], lines=True, compression='bz2', chunksize=1) as df_reader:\n",
    "    for chunk in df_reader:\n",
    "        df_quotebank = chunk\n",
    "        break\n",
    "# column list for Quotebank dataset\n",
    "print(f\"\\nColumns quotebank:\\n{df_quotebank.columns}\")"
   ]
  },
  {
   "cell_type": "markdown",
   "id": "12e6ef71",
   "metadata": {},
   "source": [
    "### Sample"
   ]
  },
  {
   "cell_type": "code",
   "execution_count": null,
   "id": "d22c6dfe",
   "metadata": {
    "tags": []
   },
   "outputs": [],
   "source": [
    "# Sample for Quotebank dataset\n",
    "print(\"\\nSample quotebank:\\n\")\n",
    "display(df_quotebank)"
   ]
  },
  {
   "cell_type": "markdown",
   "id": "7f21ccfb",
   "metadata": {},
   "source": [
    "### Number of rows"
   ]
  },
  {
   "cell_type": "code",
   "execution_count": null,
   "id": "6f6ac89d",
   "metadata": {
    "tags": []
   },
   "outputs": [],
   "source": [
    "# Number of rows for quotebank dataset\n",
    "chunksize = 10000\n",
    "for file in file_list:\n",
    "    n = 0\n",
    "    print(f\"Processing file {file.name}\")\n",
    "    with pd.read_json(file, lines=True, compression='bz2', chunksize=chunksize) as df_reader:\n",
    "        for chunk in df_reader:\n",
    "            n += len(chunk)\n",
    "            print(n, end = \"\\r\")\n",
    "    \n",
    "    print(f\"{n} rows in {file.name}\")"
   ]
  },
  {
   "cell_type": "markdown",
   "id": "e24a7fce",
   "metadata": {
    "execution": {
     "iopub.execute_input": "2021-11-10T09:42:24.070186Z",
     "iopub.status.busy": "2021-11-10T09:42:24.067422Z",
     "iopub.status.idle": "2021-11-10T10:39:35.926430Z",
     "shell.execute_reply": "2021-11-10T10:39:35.925677Z",
     "shell.execute_reply.started": "2021-11-10T09:42:24.070126Z"
    },
    "tags": []
   },
   "source": [
    "Output:\n",
    "\n",
    "Processing file quotes-2015.json.bz2</br>\n",
    "20874338 rows in quotes-2015.json.bz2</br>\n",
    "Processing file quotes-2016.json.bz2</br>\n",
    "13862129 rows in quotes-2016.json.bz2</br>\n",
    "Processing file quotes-2017.json.bz2</br>\n",
    "26611588 rows in quotes-2017.json.bz2</br>\n",
    "Processing file quotes-2018.json.bz2</br>\n",
    "27228451 rows in quotes-2018.json.bz2</br>\n",
    "Processing file quotes-2019.json.bz2</br>\n",
    "21763302 rows in quotes-2019.json.bz2</br>"
   ]
  },
  {
   "cell_type": "markdown",
   "id": "64b8a714",
   "metadata": {},
   "source": [
    "### Filtering out data\n",
    "We decided to keep only the data that contains some keywords in the quote itself or in the url"
   ]
  },
  {
   "cell_type": "code",
   "execution_count": null,
   "id": "1df3d2b6",
   "metadata": {
    "tags": []
   },
   "outputs": [],
   "source": [
    "for file in file_list:\n",
    "    path_to_out = GENERATED_DATA_FOLDER / \"QUOTEBANK\"\n",
    "    path_to_out = path_to_out / f\"{file.name.split('.', 1)[0]}-cinema.{file.name.split('.', 1)[1]}\"\n",
    "    with bz2.open(file, 'rb') as in_file:\n",
    "        with bz2.open(path_to_out, 'wb') as out_file:\n",
    "            for instance in in_file:\n",
    "                instance = json.loads(instance)\n",
    "                quote = instance['quotation']\n",
    "                urls = instance['urls']\n",
    "                if 'cinema' in quote or 'film' in quote or 'movie' in quote:\n",
    "                    d_file.write((json.dumps(instance)+'\\n').encode('utf-8'))\n",
    "                elif:\n",
    "                    for url in urls:\n",
    "                        if 'cinema' in url or 'film' in url or 'movie' in url:\n",
    "                            d_file.write((json.dumps(instance)+'\\n').encode('utf-8'))\n",
    "                            break"
   ]
  },
  {
   "cell_type": "markdown",
   "id": "4dae4992",
   "metadata": {},
   "source": [
    "### Open quotebank 2018 and add columns for gender and dob "
   ]
  },
  {
   "cell_type": "code",
   "execution_count": 12,
   "id": "51411825",
   "metadata": {},
   "outputs": [],
   "source": [
    "#open wikidata dictionary\n",
    "with open('../generated/WIKIDATA/dict_wikidata_people.pickle', 'rb') as f: \n",
    "     dict_wikidata_people = pickle.loads(f.read())"
   ]
  },
  {
   "cell_type": "code",
   "execution_count": null,
   "id": "fd9ec0fe",
   "metadata": {},
   "outputs": [],
   "source": [
    "path_to_file = '../data/QUOTEBANK/quotes-2018.json.bz2'\n",
    "path_to_out = '.../people_quotes-2018.json.bz2'\n",
    "\n",
    "with bz2.open(path_to_file, 'rb') as s_file:\n",
    "    with bz2.open(path_to_out, 'wb') as d_file:\n",
    "        for instance in s_file:\n",
    "            instance = json.loads(instance) # loading a sample\n",
    "            qids = instance['qids'] # extracting list of qids\n",
    "            gender = []\n",
    "            dob = []\n",
    "            for qid in qids:\n",
    "                for qid_wiki in dict_wikidata_people.items() : \n",
    "                    if qid == qid_wiki[0] : \n",
    "                        gender = q[1]['genderlabel']\n",
    "                        dob = q[1]['dob_std']\n",
    "                        gender.append(gender)\n",
    "                        dob.append(dob)\n",
    "                    else :\n",
    "                        gender.append('None')\n",
    "                        dob.append('None')\n",
    "            instance['gender'] = gender # updating the sample with gender\n",
    "            instance['dob'] = dob # updating the sample with date of bith\n",
    "            d_file.write((json.dumps(instance)+'\\n').encode('utf-8')) # writing in the new file"
   ]
  },
  {
   "cell_type": "markdown",
   "id": "bce97762",
   "metadata": {},
   "source": [
    "### Open complete quotbank 2018 and search movies in quotes"
   ]
  },
  {
   "cell_type": "code",
   "execution_count": 2,
   "id": "61dedbb0",
   "metadata": {
    "execution": {
     "iopub.execute_input": "2021-12-12T17:46:06.997831Z",
     "iopub.status.busy": "2021-12-12T17:46:06.997381Z",
     "iopub.status.idle": "2021-12-12T17:46:07.460161Z",
     "shell.execute_reply": "2021-12-12T17:46:07.459095Z",
     "shell.execute_reply.started": "2021-12-12T17:46:06.997786Z"
    },
    "tags": []
   },
   "outputs": [],
   "source": [
    "#lexicon initialization\n",
    "lexicon = Empath('ressources/empath_cat')"
   ]
  },
  {
   "cell_type": "code",
   "execution_count": 4,
   "id": "75a20c45",
   "metadata": {
    "execution": {
     "iopub.execute_input": "2021-12-13T13:55:34.210988Z",
     "iopub.status.busy": "2021-12-13T13:55:34.209851Z",
     "iopub.status.idle": "2021-12-13T13:55:34.619402Z",
     "shell.execute_reply": "2021-12-13T13:55:34.617444Z",
     "shell.execute_reply.started": "2021-12-13T13:55:34.210913Z"
    },
    "tags": []
   },
   "outputs": [
    {
     "name": "stdout",
     "output_type": "stream",
     "text": [
      "525377\n"
     ]
    }
   ],
   "source": [
    "#open the pickle list with names of the movies\n",
    "with open('../generated/IMDb/film_name_list.pickle', 'rb') as f: \n",
    "     list_imdb_san = pickle.loads(f.read())\n",
    "list_imdb_san = list(set(list_imdb_san))\n",
    "print(len(list_imdb_san))"
   ]
  },
  {
   "cell_type": "code",
   "execution_count": 4,
   "id": "398f4fdf",
   "metadata": {
    "execution": {
     "iopub.execute_input": "2021-12-12T16:49:23.784998Z",
     "iopub.status.busy": "2021-12-12T16:49:23.784285Z",
     "iopub.status.idle": "2021-12-12T16:49:24.722315Z",
     "shell.execute_reply": "2021-12-12T16:49:24.720823Z",
     "shell.execute_reply.started": "2021-12-12T16:49:23.784944Z"
    }
   },
   "outputs": [],
   "source": [
    "#create a categorie with all movies\n",
    "lexicon.create_category('ADA_film_name',list_imdb_san)"
   ]
  },
  {
   "cell_type": "code",
   "execution_count": null,
   "id": "8973616e",
   "metadata": {
    "tags": []
   },
   "outputs": [],
   "source": [
    "#reseach movies in quote and add a column 'film' in the dataset\n",
    "path_to_file = '../generated/QUOTEBANK/people_quotes-2018.json.bz2'\n",
    "path_to_out = '../temp/QUOTEBANK/moviefiltered_quotes-2018.json.bz2'\n",
    "\n",
    "\n",
    "with bz2.open(path_to_file, 'rb') as s_file:\n",
    "    with bz2.open(path_to_out, 'wb') as d_file:\n",
    "        n = 0\n",
    "        for instance in s_file:\n",
    "            n += 1\n",
    "            instance = json.loads(instance) # loading a sample\n",
    "            if instance['quotation'] != 'None':\n",
    "                features = lexicon.analyze(instance['quotation'],['ADA_film_name'],tokenizer=3,verbose=True,debug = True)\n",
    "                if features['count']['ADA_film_name']>0 :\n",
    "                    instance['film'] = features['match']\n",
    "                    instance.pop('probas', None)\n",
    "                    instance.pop('urls', None)\n",
    "                    instance.pop('qids', None)\n",
    "                    d_file.write((json.dumps(instance)+'\\n').encode('utf-8'))\n"
   ]
  },
  {
   "cell_type": "code",
   "execution_count": null,
   "id": "8ae604c9-7e90-4ba2-b271-90e070ac84f6",
   "metadata": {
    "tags": []
   },
   "outputs": [],
   "source": [
    "path_to_out = '../generated/QUOTEBANK/moviefiltered_quotes-2018.json.bz2'\n",
    "\n",
    "with bz2.open(path_to_out, 'rb') as f:\n",
    "    for instance in f:\n",
    "        instance = json.loads(instance)\n",
    "        print(instance)\n",
    "        break"
   ]
  },
  {
   "cell_type": "code",
   "execution_count": null,
   "id": "23ac988f-1439-4940-8676-5c3a286fc955",
   "metadata": {},
   "outputs": [],
   "source": []
  }
 ],
 "metadata": {
  "kernelspec": {
   "display_name": "Python 3 (ipykernel)",
   "language": "python",
   "name": "python3"
  },
  "language_info": {
   "codemirror_mode": {
    "name": "ipython",
    "version": 3
   },
   "file_extension": ".py",
   "mimetype": "text/x-python",
   "name": "python",
   "nbconvert_exporter": "python",
   "pygments_lexer": "ipython3",
   "version": "3.8.11"
  }
 },
 "nbformat": 4,
 "nbformat_minor": 5
}
