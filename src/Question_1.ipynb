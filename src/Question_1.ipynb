{
 "cells": [
  {
   "cell_type": "markdown",
   "metadata": {},
   "source": [
    "# First question : Who are people talking about cinema, regarding gender and age ?"
   ]
  },
  {
   "cell_type": "code",
   "execution_count": null,
   "metadata": {},
   "outputs": [],
   "source": [
    "import pandas as pd\n",
    "import bz2\n",
    "import json\n",
    "import pickle\n",
    "import numpy as np\n",
    "import matplotlib.pyplot as plt\n",
    "import matplotlib.ticker as mtick\n",
    "\n",
    "from pathlib import Path\n",
    "from datetime import datetime, date\n",
    "from dateutil import relativedelta\n",
    "\n",
    "from ressources import config"
   ]
  },
  {
   "cell_type": "code",
   "execution_count": null,
   "metadata": {},
   "outputs": [],
   "source": [
    "#function to format datetime with all exceptions \n",
    "def parse_date(date):\n",
    "    try:\n",
    "        if not isinstance(date, str):\n",
    "            return np.NaN\n",
    "        elif len(date)%10 != 0:\n",
    "            return np.NaN\n",
    "        elif date == 'None' or date[0] == '-':\n",
    "            return np.NaN\n",
    "        elif '00.00.0000' in date[0:10] :\n",
    "            return '01.01.0001'\n",
    "        elif '00.0000' in date[0:10] :\n",
    "            return datetime.strptime(date[0:10], '%d.00.0000').strftime('%d.%m.%Y')\n",
    "        elif '0000' in date[0:10] :\n",
    "            return datetime.strptime(date[0:10], '%d.%m.0000').strftime('%d.%m.%Y')\n",
    "        elif '+1939-02-29T00:00:00Z' in date:\n",
    "            return '28.02.1939'\n",
    "        elif '0' in date[6]: \n",
    "            return np.NaN\n",
    "        elif '00' in date[6:7]: \n",
    "            return np.NaN\n",
    "        else :\n",
    "            return datetime.strptime(date[0:10], '%d.%m.%Y').strftime('%d.%m.%Y')\n",
    "    except ValueError as e:\n",
    "        if str(e) == 'day is out of range for month':\n",
    "            return datetime.strptime(date[0:8], '%Y.%m').strftime('%d.%m.%Y')\n",
    "        else:\n",
    "            print(date)\n",
    "            raise e"
   ]
  },
  {
   "cell_type": "markdown",
   "metadata": {},
   "source": [
    "## Task 1"
   ]
  },
  {
   "cell_type": "markdown",
   "metadata": {},
   "source": [
    "We first import the data. A dataframe with url containing the key words 'movies', 'films' and 'cinema' were extracted from Quotebank in a json file.\n",
    "\n",
    "Summary of the features:\n",
    "\n",
    "- quoteID : primary key of the quotation\n",
    "- quotation : text of the longest encountered original form of the quotation\n",
    "- speaker : selected most likely speaker. This matches the the first speaker entry in `probas`\n",
    "- qids : wikidata IDs of all aliases that match the selected speaker\n",
    "- date : earliest occurrence date of any version of the quotation\n",
    "- numOccurences : number of time this quotation occurs in the articles\n",
    "- probas : array representing the probabilities of each speaker having uttered the quotation.\n",
    "- urls : list of links to the original articles containing the quotation \n",
    "- phase : corresponding phase of the data in which the quotation first occurred (A-E)\n",
    "\n",
    "Unattributed quotes has already been filtered. Indeed, it is not relevant to take the second most likely person, since it make no sense to take a a more likely speaker than no one."
   ]
  },
  {
   "cell_type": "code",
   "execution_count": null,
   "metadata": {},
   "outputs": [
    {
     "data": {
      "text/html": [
       "<div>\n",
       "<style scoped>\n",
       "    .dataframe tbody tr th:only-of-type {\n",
       "        vertical-align: middle;\n",
       "    }\n",
       "\n",
       "    .dataframe tbody tr th {\n",
       "        vertical-align: top;\n",
       "    }\n",
       "\n",
       "    .dataframe thead th {\n",
       "        text-align: right;\n",
       "    }\n",
       "</style>\n",
       "<table border=\"1\" class=\"dataframe\">\n",
       "  <thead>\n",
       "    <tr style=\"text-align: right;\">\n",
       "      <th></th>\n",
       "      <th>quoteID</th>\n",
       "      <th>quotation</th>\n",
       "      <th>speaker</th>\n",
       "      <th>qids</th>\n",
       "      <th>date</th>\n",
       "      <th>numOccurrences</th>\n",
       "      <th>probas</th>\n",
       "      <th>urls</th>\n",
       "      <th>phase</th>\n",
       "      <th>gender</th>\n",
       "      <th>dob</th>\n",
       "    </tr>\n",
       "  </thead>\n",
       "  <tbody>\n",
       "    <tr>\n",
       "      <th>0</th>\n",
       "      <td>2018-12-06-000021</td>\n",
       "      <td>... a race to see who could sail around the wo...</td>\n",
       "      <td>James Marsh</td>\n",
       "      <td>[Q2720543, Q41757028, Q56510432, Q6138937, Q99...</td>\n",
       "      <td>2018-12-06 12:00:34</td>\n",
       "      <td>1</td>\n",
       "      <td>[[James Marsh, 0.6787], [None, 0.3213]]</td>\n",
       "      <td>[http://filmthreat.com/reviews/the-mercy/]</td>\n",
       "      <td>E</td>\n",
       "      <td>male</td>\n",
       "      <td>30.04.1963</td>\n",
       "    </tr>\n",
       "    <tr>\n",
       "      <th>1</th>\n",
       "      <td>2018-05-06-000178</td>\n",
       "      <td>... never as fascinating as the philosophy or ...</td>\n",
       "      <td>Ed Moy</td>\n",
       "      <td>[Q26828697]</td>\n",
       "      <td>2018-05-06 01:00:55</td>\n",
       "      <td>1</td>\n",
       "      <td>[[Ed Moy, 0.7867], [None, 0.2133]]</td>\n",
       "      <td>[http://filmthreat.com/reviews/luminaries/]</td>\n",
       "      <td>E</td>\n",
       "      <td>male</td>\n",
       "      <td>None</td>\n",
       "    </tr>\n",
       "    <tr>\n",
       "      <th>2</th>\n",
       "      <td>2018-07-09-000437</td>\n",
       "      <td>$100,000 to punch me in the face right now.</td>\n",
       "      <td>Johnny Depp</td>\n",
       "      <td>[Q37175]</td>\n",
       "      <td>2018-07-09 21:26:13</td>\n",
       "      <td>4</td>\n",
       "      <td>[[Johnny Depp, 0.5001], [None, 0.4624], [Brad ...</td>\n",
       "      <td>[https://www.vanityfair.com/hollywood/2018/07/...</td>\n",
       "      <td>E</td>\n",
       "      <td>male</td>\n",
       "      <td>09.06.1963</td>\n",
       "    </tr>\n",
       "    <tr>\n",
       "      <th>3</th>\n",
       "      <td>2018-03-16-002261</td>\n",
       "      <td>A lot of it is pure entertainment but the film...</td>\n",
       "      <td>Tim White</td>\n",
       "      <td>[Q15443196, Q16762431, Q18164313, Q18600422, Q...</td>\n",
       "      <td>2018-03-16 09:30:00</td>\n",
       "      <td>1</td>\n",
       "      <td>[[Tim White, 0.912], [None, 0.088]]</td>\n",
       "      <td>[http://www.capitalgazette.com/entertainment/a...</td>\n",
       "      <td>E</td>\n",
       "      <td>male</td>\n",
       "      <td>None</td>\n",
       "    </tr>\n",
       "    <tr>\n",
       "      <th>4</th>\n",
       "      <td>2018-05-20-000976</td>\n",
       "      <td>A moment during the making of Raazi. Words can...</td>\n",
       "      <td>Alia Bhatt</td>\n",
       "      <td>[Q4725343]</td>\n",
       "      <td>2018-05-20 11:01:19</td>\n",
       "      <td>2</td>\n",
       "      <td>[[Alia Bhatt, 0.8059], [None, 0.1805], [Ashwin...</td>\n",
       "      <td>[https://www.thestatesman.com/entertainment/bo...</td>\n",
       "      <td>E</td>\n",
       "      <td>female</td>\n",
       "      <td>15.03.1993</td>\n",
       "    </tr>\n",
       "  </tbody>\n",
       "</table>\n",
       "</div>"
      ],
      "text/plain": [
       "             quoteID                                          quotation  \\\n",
       "0  2018-12-06-000021  ... a race to see who could sail around the wo...   \n",
       "1  2018-05-06-000178  ... never as fascinating as the philosophy or ...   \n",
       "2  2018-07-09-000437        $100,000 to punch me in the face right now.   \n",
       "3  2018-03-16-002261  A lot of it is pure entertainment but the film...   \n",
       "4  2018-05-20-000976  A moment during the making of Raazi. Words can...   \n",
       "\n",
       "       speaker                                               qids  \\\n",
       "0  James Marsh  [Q2720543, Q41757028, Q56510432, Q6138937, Q99...   \n",
       "1       Ed Moy                                        [Q26828697]   \n",
       "2  Johnny Depp                                           [Q37175]   \n",
       "3    Tim White  [Q15443196, Q16762431, Q18164313, Q18600422, Q...   \n",
       "4   Alia Bhatt                                         [Q4725343]   \n",
       "\n",
       "                 date  numOccurrences  \\\n",
       "0 2018-12-06 12:00:34               1   \n",
       "1 2018-05-06 01:00:55               1   \n",
       "2 2018-07-09 21:26:13               4   \n",
       "3 2018-03-16 09:30:00               1   \n",
       "4 2018-05-20 11:01:19               2   \n",
       "\n",
       "                                              probas  \\\n",
       "0            [[James Marsh, 0.6787], [None, 0.3213]]   \n",
       "1                 [[Ed Moy, 0.7867], [None, 0.2133]]   \n",
       "2  [[Johnny Depp, 0.5001], [None, 0.4624], [Brad ...   \n",
       "3                [[Tim White, 0.912], [None, 0.088]]   \n",
       "4  [[Alia Bhatt, 0.8059], [None, 0.1805], [Ashwin...   \n",
       "\n",
       "                                                urls phase  gender         dob  \n",
       "0         [http://filmthreat.com/reviews/the-mercy/]     E    male  30.04.1963  \n",
       "1        [http://filmthreat.com/reviews/luminaries/]     E    male        None  \n",
       "2  [https://www.vanityfair.com/hollywood/2018/07/...     E    male  09.06.1963  \n",
       "3  [http://www.capitalgazette.com/entertainment/a...     E    male        None  \n",
       "4  [https://www.thestatesman.com/entertainment/bo...     E  female  15.03.1993  "
      ]
     },
     "execution_count": 9,
     "metadata": {},
     "output_type": "execute_result"
    }
   ],
   "source": [
    "# Loading the dataframe to have a look on the data\n",
    "path_to_file = '../generated/QUOTEBANK/movie_quotes-2018.json.bz2'\n",
    "\n",
    "df_movie_quote = pd.read_json(path_to_file, lines=True, compression='bz2')\n",
    "df_movie_quote.head()"
   ]
  },
  {
   "cell_type": "code",
   "execution_count": null,
   "metadata": {},
   "outputs": [],
   "source": [
    "#drop columns that aren't relevant for the question\n",
    "df_movie_quote.drop(['qids', 'probas', 'urls', 'phase', 'quoteID'], axis = 1, inplace = True)"
   ]
  },
  {
   "cell_type": "code",
   "execution_count": null,
   "metadata": {},
   "outputs": [
    {
     "data": {
      "text/html": [
       "<div>\n",
       "<style scoped>\n",
       "    .dataframe tbody tr th:only-of-type {\n",
       "        vertical-align: middle;\n",
       "    }\n",
       "\n",
       "    .dataframe tbody tr th {\n",
       "        vertical-align: top;\n",
       "    }\n",
       "\n",
       "    .dataframe thead th {\n",
       "        text-align: right;\n",
       "    }\n",
       "</style>\n",
       "<table border=\"1\" class=\"dataframe\">\n",
       "  <thead>\n",
       "    <tr style=\"text-align: right;\">\n",
       "      <th></th>\n",
       "      <th>quotation</th>\n",
       "      <th>speaker</th>\n",
       "      <th>date</th>\n",
       "      <th>numOccurrences</th>\n",
       "      <th>gender</th>\n",
       "      <th>dob</th>\n",
       "    </tr>\n",
       "  </thead>\n",
       "  <tbody>\n",
       "    <tr>\n",
       "      <th>0</th>\n",
       "      <td>... a race to see who could sail around the wo...</td>\n",
       "      <td>James Marsh</td>\n",
       "      <td>2018-12-06 12:00:34</td>\n",
       "      <td>1</td>\n",
       "      <td>male</td>\n",
       "      <td>30.04.1963</td>\n",
       "    </tr>\n",
       "    <tr>\n",
       "      <th>1</th>\n",
       "      <td>... never as fascinating as the philosophy or ...</td>\n",
       "      <td>Ed Moy</td>\n",
       "      <td>2018-05-06 01:00:55</td>\n",
       "      <td>1</td>\n",
       "      <td>male</td>\n",
       "      <td>None</td>\n",
       "    </tr>\n",
       "    <tr>\n",
       "      <th>2</th>\n",
       "      <td>$100,000 to punch me in the face right now.</td>\n",
       "      <td>Johnny Depp</td>\n",
       "      <td>2018-07-09 21:26:13</td>\n",
       "      <td>4</td>\n",
       "      <td>male</td>\n",
       "      <td>09.06.1963</td>\n",
       "    </tr>\n",
       "    <tr>\n",
       "      <th>3</th>\n",
       "      <td>A lot of it is pure entertainment but the film...</td>\n",
       "      <td>Tim White</td>\n",
       "      <td>2018-03-16 09:30:00</td>\n",
       "      <td>1</td>\n",
       "      <td>male</td>\n",
       "      <td>None</td>\n",
       "    </tr>\n",
       "    <tr>\n",
       "      <th>4</th>\n",
       "      <td>A moment during the making of Raazi. Words can...</td>\n",
       "      <td>Alia Bhatt</td>\n",
       "      <td>2018-05-20 11:01:19</td>\n",
       "      <td>2</td>\n",
       "      <td>female</td>\n",
       "      <td>15.03.1993</td>\n",
       "    </tr>\n",
       "  </tbody>\n",
       "</table>\n",
       "</div>"
      ],
      "text/plain": [
       "                                           quotation      speaker  \\\n",
       "0  ... a race to see who could sail around the wo...  James Marsh   \n",
       "1  ... never as fascinating as the philosophy or ...       Ed Moy   \n",
       "2        $100,000 to punch me in the face right now.  Johnny Depp   \n",
       "3  A lot of it is pure entertainment but the film...    Tim White   \n",
       "4  A moment during the making of Raazi. Words can...   Alia Bhatt   \n",
       "\n",
       "                 date  numOccurrences  gender         dob  \n",
       "0 2018-12-06 12:00:34               1    male  30.04.1963  \n",
       "1 2018-05-06 01:00:55               1    male        None  \n",
       "2 2018-07-09 21:26:13               4    male  09.06.1963  \n",
       "3 2018-03-16 09:30:00               1    male        None  \n",
       "4 2018-05-20 11:01:19               2  female  15.03.1993  "
      ]
     },
     "execution_count": 11,
     "metadata": {},
     "output_type": "execute_result"
    }
   ],
   "source": [
    "df_movie_quote.head()"
   ]
  },
  {
   "cell_type": "markdown",
   "metadata": {},
   "source": [
    "## Task 2 - Describing data"
   ]
  },
  {
   "cell_type": "code",
   "execution_count": 117,
   "metadata": {},
   "outputs": [
    {
     "name": "stdout",
     "output_type": "stream",
     "text": [
      "There are 427368 quotes about cinema\n"
     ]
    }
   ],
   "source": [
    "print(f'There are {len(df_movie_quote)} quotes about cinema')"
   ]
  },
  {
   "cell_type": "markdown",
   "metadata": {},
   "source": [
    "## Task 3 - Analysing data"
   ]
  },
  {
   "cell_type": "markdown",
   "metadata": {},
   "source": [
    "- Group by gender\n",
    "- Create visualisations"
   ]
  },
  {
   "cell_type": "code",
   "execution_count": 142,
   "metadata": {},
   "outputs": [
    {
     "data": {
      "text/html": [
       "<div>\n",
       "<style scoped>\n",
       "    .dataframe tbody tr th:only-of-type {\n",
       "        vertical-align: middle;\n",
       "    }\n",
       "\n",
       "    .dataframe tbody tr th {\n",
       "        vertical-align: top;\n",
       "    }\n",
       "\n",
       "    .dataframe thead th {\n",
       "        text-align: right;\n",
       "    }\n",
       "</style>\n",
       "<table border=\"1\" class=\"dataframe\">\n",
       "  <thead>\n",
       "    <tr style=\"text-align: right;\">\n",
       "      <th></th>\n",
       "      <th>quotation</th>\n",
       "      <th>date</th>\n",
       "      <th>numOccurrences</th>\n",
       "      <th>gender</th>\n",
       "      <th>dob</th>\n",
       "    </tr>\n",
       "    <tr>\n",
       "      <th>speaker</th>\n",
       "      <th></th>\n",
       "      <th></th>\n",
       "      <th></th>\n",
       "      <th></th>\n",
       "      <th></th>\n",
       "    </tr>\n",
       "  </thead>\n",
       "  <tbody>\n",
       "    <tr>\n",
       "      <th>Kevin Feige</th>\n",
       "      <td>1769</td>\n",
       "      <td>1769</td>\n",
       "      <td>1769</td>\n",
       "      <td>1769</td>\n",
       "      <td>1769</td>\n",
       "    </tr>\n",
       "    <tr>\n",
       "      <th>Joe Russo</th>\n",
       "      <td>1362</td>\n",
       "      <td>1362</td>\n",
       "      <td>1362</td>\n",
       "      <td>1362</td>\n",
       "      <td>1362</td>\n",
       "    </tr>\n",
       "    <tr>\n",
       "      <th>Karan Johar</th>\n",
       "      <td>1102</td>\n",
       "      <td>1102</td>\n",
       "      <td>1102</td>\n",
       "      <td>1102</td>\n",
       "      <td>1102</td>\n",
       "    </tr>\n",
       "    <tr>\n",
       "      <th>Steven Spielberg</th>\n",
       "      <td>1080</td>\n",
       "      <td>1080</td>\n",
       "      <td>1080</td>\n",
       "      <td>1080</td>\n",
       "      <td>1080</td>\n",
       "    </tr>\n",
       "    <tr>\n",
       "      <th>Salman Khan</th>\n",
       "      <td>992</td>\n",
       "      <td>992</td>\n",
       "      <td>992</td>\n",
       "      <td>992</td>\n",
       "      <td>992</td>\n",
       "    </tr>\n",
       "    <tr>\n",
       "      <th>...</th>\n",
       "      <td>...</td>\n",
       "      <td>...</td>\n",
       "      <td>...</td>\n",
       "      <td>...</td>\n",
       "      <td>...</td>\n",
       "    </tr>\n",
       "    <tr>\n",
       "      <th>John Magri</th>\n",
       "      <td>1</td>\n",
       "      <td>1</td>\n",
       "      <td>1</td>\n",
       "      <td>1</td>\n",
       "      <td>1</td>\n",
       "    </tr>\n",
       "    <tr>\n",
       "      <th>John Mackin</th>\n",
       "      <td>1</td>\n",
       "      <td>1</td>\n",
       "      <td>1</td>\n",
       "      <td>1</td>\n",
       "      <td>1</td>\n",
       "    </tr>\n",
       "    <tr>\n",
       "      <th>John MacDonald</th>\n",
       "      <td>1</td>\n",
       "      <td>1</td>\n",
       "      <td>1</td>\n",
       "      <td>1</td>\n",
       "      <td>1</td>\n",
       "    </tr>\n",
       "    <tr>\n",
       "      <th>John Mabry</th>\n",
       "      <td>1</td>\n",
       "      <td>1</td>\n",
       "      <td>1</td>\n",
       "      <td>1</td>\n",
       "      <td>1</td>\n",
       "    </tr>\n",
       "    <tr>\n",
       "      <th>Ólafur Darri Ólafsson</th>\n",
       "      <td>1</td>\n",
       "      <td>1</td>\n",
       "      <td>1</td>\n",
       "      <td>1</td>\n",
       "      <td>1</td>\n",
       "    </tr>\n",
       "  </tbody>\n",
       "</table>\n",
       "<p>52448 rows × 5 columns</p>\n",
       "</div>"
      ],
      "text/plain": [
       "                       quotation  date  numOccurrences  gender   dob\n",
       "speaker                                                             \n",
       "Kevin Feige                 1769  1769            1769    1769  1769\n",
       "Joe Russo                   1362  1362            1362    1362  1362\n",
       "Karan Johar                 1102  1102            1102    1102  1102\n",
       "Steven Spielberg            1080  1080            1080    1080  1080\n",
       "Salman Khan                  992   992             992     992   992\n",
       "...                          ...   ...             ...     ...   ...\n",
       "John Magri                     1     1               1       1     1\n",
       "John Mackin                    1     1               1       1     1\n",
       "John MacDonald                 1     1               1       1     1\n",
       "John Mabry                     1     1               1       1     1\n",
       "Ólafur Darri Ólafsson          1     1               1       1     1\n",
       "\n",
       "[52448 rows x 5 columns]"
      ]
     },
     "execution_count": 142,
     "metadata": {},
     "output_type": "execute_result"
    }
   ],
   "source": [
    "df_movie_quote.groupby(['speaker']).count().sort_values(by = 'quotation', ascending=False)"
   ]
  },
  {
   "cell_type": "markdown",
   "metadata": {},
   "source": [
    "With the groupby, we see that the person who talks the most about cinema is Kevin Feige, who is an american film producer, what is relevant for our study."
   ]
  },
  {
   "cell_type": "markdown",
   "metadata": {},
   "source": [
    "### Comparing representation of women's speech in all quotation from 2018 with cinema quotation from 2018"
   ]
  },
  {
   "cell_type": "code",
   "execution_count": 129,
   "metadata": {},
   "outputs": [
    {
     "data": {
      "text/plain": [
       "{'male': 14252335, 'female': 3090108, 'other': 221386}"
      ]
     },
     "execution_count": 129,
     "metadata": {},
     "output_type": "execute_result"
    }
   ],
   "source": [
    "#dictionnary with gender of all speaker from 2018\n",
    "with open('../generated/QUOTEBANK/dict_gender_all.pickle', 'rb') as f: \n",
    "    dict_gender_quote = pickle.loads(f.read())\n",
    "dict_gender_quote"
   ]
  },
  {
   "cell_type": "code",
   "execution_count": 130,
   "metadata": {},
   "outputs": [
    {
     "data": {
      "text/html": [
       "<div>\n",
       "<style scoped>\n",
       "    .dataframe tbody tr th:only-of-type {\n",
       "        vertical-align: middle;\n",
       "    }\n",
       "\n",
       "    .dataframe tbody tr th {\n",
       "        vertical-align: top;\n",
       "    }\n",
       "\n",
       "    .dataframe thead th {\n",
       "        text-align: right;\n",
       "    }\n",
       "</style>\n",
       "<table border=\"1\" class=\"dataframe\">\n",
       "  <thead>\n",
       "    <tr style=\"text-align: right;\">\n",
       "      <th></th>\n",
       "      <th>Sum</th>\n",
       "    </tr>\n",
       "  </thead>\n",
       "  <tbody>\n",
       "    <tr>\n",
       "      <th>male</th>\n",
       "      <td>14252335</td>\n",
       "    </tr>\n",
       "    <tr>\n",
       "      <th>female</th>\n",
       "      <td>3090108</td>\n",
       "    </tr>\n",
       "    <tr>\n",
       "      <th>other</th>\n",
       "      <td>221386</td>\n",
       "    </tr>\n",
       "  </tbody>\n",
       "</table>\n",
       "</div>"
      ],
      "text/plain": [
       "             Sum\n",
       "male    14252335\n",
       "female   3090108\n",
       "other     221386"
      ]
     },
     "execution_count": 130,
     "metadata": {},
     "output_type": "execute_result"
    }
   ],
   "source": [
    "df_gender = pd.DataFrame.from_dict(dict_gender_quote, orient ='index', columns = ['Sum'])\n",
    "df_gender"
   ]
  },
  {
   "cell_type": "code",
   "execution_count": 131,
   "metadata": {},
   "outputs": [
    {
     "name": "stdout",
     "output_type": "stream",
     "text": [
      "0.8114594488479705\n",
      "0.17593589643807167\n",
      "0.012604654713957874\n"
     ]
    }
   ],
   "source": [
    "#calculate a percentage\n",
    "for i in df_gender['Sum']:\n",
    "    i = i / df_gender['Sum'].sum()\n",
    "    print(i)"
   ]
  },
  {
   "cell_type": "code",
   "execution_count": 132,
   "metadata": {},
   "outputs": [
    {
     "data": {
      "text/html": [
       "<div>\n",
       "<style scoped>\n",
       "    .dataframe tbody tr th:only-of-type {\n",
       "        vertical-align: middle;\n",
       "    }\n",
       "\n",
       "    .dataframe tbody tr th {\n",
       "        vertical-align: top;\n",
       "    }\n",
       "\n",
       "    .dataframe thead th {\n",
       "        text-align: right;\n",
       "    }\n",
       "</style>\n",
       "<table border=\"1\" class=\"dataframe\">\n",
       "  <thead>\n",
       "    <tr style=\"text-align: right;\">\n",
       "      <th></th>\n",
       "      <th>Sum</th>\n",
       "    </tr>\n",
       "  </thead>\n",
       "  <tbody>\n",
       "    <tr>\n",
       "      <th>male</th>\n",
       "      <td>0.811459</td>\n",
       "    </tr>\n",
       "    <tr>\n",
       "      <th>female</th>\n",
       "      <td>0.175936</td>\n",
       "    </tr>\n",
       "    <tr>\n",
       "      <th>other</th>\n",
       "      <td>0.012605</td>\n",
       "    </tr>\n",
       "  </tbody>\n",
       "</table>\n",
       "</div>"
      ],
      "text/plain": [
       "             Sum\n",
       "male    0.811459\n",
       "female  0.175936\n",
       "other   0.012605"
      ]
     },
     "execution_count": 132,
     "metadata": {},
     "output_type": "execute_result"
    }
   ],
   "source": [
    "dict_gender = {'male': 0.8114594488479705, 'female': 0.17593589643807167, 'other': 0.012604654713957874}\n",
    "\n",
    "df_gender_perc = pd.DataFrame.from_dict(dict_gender, orient ='index', columns = ['Sum'])\n",
    "df_gender_perc"
   ]
  },
  {
   "cell_type": "code",
   "execution_count": 107,
   "metadata": {},
   "outputs": [
    {
     "data": {
      "text/plain": [
       "Sum    17563829\n",
       "dtype: int64"
      ]
     },
     "execution_count": 107,
     "metadata": {},
     "output_type": "execute_result"
    }
   ],
   "source": [
    "df_gender.sum()"
   ]
  },
  {
   "cell_type": "code",
   "execution_count": 108,
   "metadata": {},
   "outputs": [],
   "source": [
    "gender_cinema = list(df_movie_quote['gender'].value_counts(normalize=True).mul(100))"
   ]
  },
  {
   "cell_type": "code",
   "execution_count": 109,
   "metadata": {},
   "outputs": [],
   "source": [
    "df_gender_perc.rename(columns={'Sum' : 'All quotes (N = 17563829)'}, inplace = True)"
   ]
  },
  {
   "cell_type": "code",
   "execution_count": 110,
   "metadata": {},
   "outputs": [],
   "source": [
    "df_gender_perc['All quotes (N = 17563829)'] = df_gender_perc['All quotes (N = 17563829)'].mul(100)"
   ]
  },
  {
   "cell_type": "code",
   "execution_count": 111,
   "metadata": {},
   "outputs": [],
   "source": [
    "df_gender_perc['Cinema'] = gender_cinema"
   ]
  },
  {
   "cell_type": "code",
   "execution_count": 112,
   "metadata": {},
   "outputs": [],
   "source": [
    "df_gender_perc.rename(columns={'Cinema' : 'Cinema\\'s quotes (N = 427368)'}, inplace = True)"
   ]
  },
  {
   "cell_type": "code",
   "execution_count": 113,
   "metadata": {},
   "outputs": [
    {
     "data": {
      "text/html": [
       "<div>\n",
       "<style scoped>\n",
       "    .dataframe tbody tr th:only-of-type {\n",
       "        vertical-align: middle;\n",
       "    }\n",
       "\n",
       "    .dataframe tbody tr th {\n",
       "        vertical-align: top;\n",
       "    }\n",
       "\n",
       "    .dataframe thead th {\n",
       "        text-align: right;\n",
       "    }\n",
       "</style>\n",
       "<table border=\"1\" class=\"dataframe\">\n",
       "  <thead>\n",
       "    <tr style=\"text-align: right;\">\n",
       "      <th></th>\n",
       "      <th>All quotes (N = 17563829)</th>\n",
       "      <th>Cinema's quotes (N = 427368)</th>\n",
       "    </tr>\n",
       "  </thead>\n",
       "  <tbody>\n",
       "    <tr>\n",
       "      <th>male</th>\n",
       "      <td>81.145945</td>\n",
       "      <td>69.438517</td>\n",
       "    </tr>\n",
       "    <tr>\n",
       "      <th>female</th>\n",
       "      <td>17.593590</td>\n",
       "      <td>29.459155</td>\n",
       "    </tr>\n",
       "    <tr>\n",
       "      <th>other</th>\n",
       "      <td>1.260465</td>\n",
       "      <td>1.102329</td>\n",
       "    </tr>\n",
       "  </tbody>\n",
       "</table>\n",
       "</div>"
      ],
      "text/plain": [
       "        All quotes (N = 17563829)  Cinema's quotes (N = 427368)\n",
       "male                    81.145945                     69.438517\n",
       "female                  17.593590                     29.459155\n",
       "other                    1.260465                      1.102329"
      ]
     },
     "execution_count": 113,
     "metadata": {},
     "output_type": "execute_result"
    }
   ],
   "source": [
    "df_gender_perc"
   ]
  },
  {
   "cell_type": "code",
   "execution_count": 126,
   "metadata": {},
   "outputs": [
    {
     "data": {
      "text/plain": [
       "Text(0.5, 0, '\\nPercentage of speakers')"
      ]
     },
     "execution_count": 126,
     "metadata": {},
     "output_type": "execute_result"
    },
    {
     "data": {
      "image/png": "[encoded data removed]",
      "text/plain": [
       "<Figure size 720x504 with 1 Axes>"
      ]
     },
     "metadata": {
      "needs_background": "light"
     },
     "output_type": "display_data"
    }
   ],
   "source": [
    "plt.rc('font', size=12) \n",
    "\n",
    "df_gender_perc.plot.barh(figsize=(10, 7),\n",
    "                        color={\"All quotes (N = 17563829)\": \"#333\", \"Cinema\\'s quotes (N = 427368)\": \"#41D9A4\"})\n",
    "\n",
    "plt.title(\"2018 Quotebank's Speakers\\n\")\n",
    "plt.ylabel(\"Gender\\n\")\n",
    "plt.xlabel(\"\\nPercentage of speakers\")\n",
    "#plt.savefig('../results/Plot_speaker_by_gender_all.png', bbox_inches='tight')"
   ]
  },
  {
   "cell_type": "code",
   "execution_count": null,
   "metadata": {},
   "outputs": [],
   "source": []
  }
 ],
 "metadata": {
  "kernelspec": {
   "display_name": "Python [conda env:ada] *",
   "language": "python",
   "name": "conda-env-ada-py"
  },
  "language_info": {
   "codemirror_mode": {
    "name": "ipython",
    "version": 3
   },
   "file_extension": ".py",
   "mimetype": "text/x-python",
   "name": "python",
   "nbconvert_exporter": "python",
   "pygments_lexer": "ipython3",
   "version": "3.8.11"
  }
 },
 "nbformat": 4,
 "nbformat_minor": 4
}
