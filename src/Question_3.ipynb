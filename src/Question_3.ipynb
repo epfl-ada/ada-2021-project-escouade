{
 "cells": [
  {
   "cell_type": "markdown",
   "metadata": {},
   "source": [
    "# Could Quotebank's data predict the genre and the rating of a movie ? "
   ]
  },
  {
   "cell_type": "markdown",
   "metadata": {},
   "source": [
    "Regarding the memorability of a movies, and the gender of the contributors (actors, directors, producers, writers)."
   ]
  },
  {
   "cell_type": "code",
   "execution_count": 182,
   "metadata": {},
   "outputs": [],
   "source": [
    "import pandas as pd\n",
    "from sklearn.model_selection import train_test_split\n",
    "import sklearn\n",
    "from sklearn.linear_model import LogisticRegression\n",
    "from sklearn.metrics import euclidean_distances, r2_score\n",
    "import matplotlib.pyplot as plt\n",
    "import sklearn\n",
    "from sklearn.model_selection import cross_val_predict\n",
    "from sklearn.model_selection import cross_val_score\n",
    "from sklearn.metrics import mean_squared_error, auc, roc_curve"
   ]
  },
  {
   "cell_type": "code",
   "execution_count": 72,
   "metadata": {},
   "outputs": [],
   "source": [
    "QUOTEBANK ='../generated/QUOTEBANK/sample/moviefiltered_10tk_random.json.bz2'"
   ]
  },
  {
   "cell_type": "code",
   "execution_count": 73,
   "metadata": {},
   "outputs": [
    {
     "name": "stdout",
     "output_type": "stream",
     "text": [
      "\n",
      "Columns quotebank:\n",
      "Index(['quoteID', 'quotation', 'speaker', 'date', 'numOccurrences', 'phase',\n",
      "       'gender', 'dob', 'film', 'id_film', 'gender_pct', 'release_date'],\n",
      "      dtype='object')\n"
     ]
    }
   ],
   "source": [
    "with pd.read_json(QUOTEBANK, lines=True, compression='bz2', chunksize=100) as df_reader:\n",
    "    for chunk in df_reader:\n",
    "        df_quotebank = chunk\n",
    "        break\n",
    "# column list for Quotebank dataset\n",
    "print(f\"\\nColumns quotebank:\\n{df_quotebank.columns}\")"
   ]
  },
  {
   "cell_type": "code",
   "execution_count": 74,
   "metadata": {},
   "outputs": [
    {
     "name": "stdout",
     "output_type": "stream",
     "text": [
      "\n",
      "Sample quotebank:\n",
      "\n"
     ]
    },
    {
     "data": {
      "text/html": [
       "<div>\n",
       "<style scoped>\n",
       "    .dataframe tbody tr th:only-of-type {\n",
       "        vertical-align: middle;\n",
       "    }\n",
       "\n",
       "    .dataframe tbody tr th {\n",
       "        vertical-align: top;\n",
       "    }\n",
       "\n",
       "    .dataframe thead th {\n",
       "        text-align: right;\n",
       "    }\n",
       "</style>\n",
       "<table border=\"1\" class=\"dataframe\">\n",
       "  <thead>\n",
       "    <tr style=\"text-align: right;\">\n",
       "      <th></th>\n",
       "      <th>quoteID</th>\n",
       "      <th>quotation</th>\n",
       "      <th>speaker</th>\n",
       "      <th>date</th>\n",
       "      <th>numOccurrences</th>\n",
       "      <th>phase</th>\n",
       "      <th>gender</th>\n",
       "      <th>dob</th>\n",
       "      <th>film</th>\n",
       "      <th>id_film</th>\n",
       "      <th>gender_pct</th>\n",
       "      <th>release_date</th>\n",
       "    </tr>\n",
       "  </thead>\n",
       "  <tbody>\n",
       "    <tr>\n",
       "      <th>0</th>\n",
       "      <td>2018-04-09-000057</td>\n",
       "      <td>[ América ] is a good team, a team that if you...</td>\n",
       "      <td>Michael Bradley</td>\n",
       "      <td>2018-04-09 22:35:52</td>\n",
       "      <td>1</td>\n",
       "      <td>E</td>\n",
       "      <td>male</td>\n",
       "      <td>18.04.1979</td>\n",
       "      <td>90</td>\n",
       "      <td>tt13906590</td>\n",
       "      <td>0.023064</td>\n",
       "      <td>7.5.2017</td>\n",
       "    </tr>\n",
       "    <tr>\n",
       "      <th>1</th>\n",
       "      <td>2018-04-09-000057</td>\n",
       "      <td>[ América ] is a good team, a team that if you...</td>\n",
       "      <td>Michael Bradley</td>\n",
       "      <td>2018-04-09 22:35:52</td>\n",
       "      <td>1</td>\n",
       "      <td>E</td>\n",
       "      <td>male</td>\n",
       "      <td>18.04.1979</td>\n",
       "      <td>América</td>\n",
       "      <td>tt1670931</td>\n",
       "      <td>0.790548</td>\n",
       "      <td>3.7.2017</td>\n",
       "    </tr>\n",
       "    <tr>\n",
       "      <th>2</th>\n",
       "      <td>2018-02-23-000084</td>\n",
       "      <td>... at least 10 years is what we can see in th...</td>\n",
       "      <td>Mark Thompson</td>\n",
       "      <td>2018-02-23 03:56:00</td>\n",
       "      <td>1</td>\n",
       "      <td>E</td>\n",
       "      <td>male</td>\n",
       "      <td>31.07.1957</td>\n",
       "      <td>10</td>\n",
       "      <td>tt5282238</td>\n",
       "      <td>0.291034</td>\n",
       "      <td>21.7.2017</td>\n",
       "    </tr>\n",
       "    <tr>\n",
       "      <th>3</th>\n",
       "      <td>2018-04-02-000086</td>\n",
       "      <td>[ Bhagwan ] had the dream, the vision, and I h...</td>\n",
       "      <td>Ma Anand Sheela</td>\n",
       "      <td>2018-04-02 06:23:00</td>\n",
       "      <td>2</td>\n",
       "      <td>E</td>\n",
       "      <td>female</td>\n",
       "      <td>28.12.1949</td>\n",
       "      <td>I</td>\n",
       "      <td>tt2302966</td>\n",
       "      <td>0.726772</td>\n",
       "      <td>2.7.2017</td>\n",
       "    </tr>\n",
       "    <tr>\n",
       "      <th>4</th>\n",
       "      <td>2018-06-21-000076</td>\n",
       "      <td>[ But ] Abang Johari does not have charisma li...</td>\n",
       "      <td>James Chin</td>\n",
       "      <td>2018-06-21 07:00:00</td>\n",
       "      <td>1</td>\n",
       "      <td>E</td>\n",
       "      <td>male</td>\n",
       "      <td>None</td>\n",
       "      <td>Johari</td>\n",
       "      <td>tt0353582</td>\n",
       "      <td>0.000000</td>\n",
       "      <td>6.9.2017</td>\n",
       "    </tr>\n",
       "    <tr>\n",
       "      <th>...</th>\n",
       "      <td>...</td>\n",
       "      <td>...</td>\n",
       "      <td>...</td>\n",
       "      <td>...</td>\n",
       "      <td>...</td>\n",
       "      <td>...</td>\n",
       "      <td>...</td>\n",
       "      <td>...</td>\n",
       "      <td>...</td>\n",
       "      <td>...</td>\n",
       "      <td>...</td>\n",
       "      <td>...</td>\n",
       "    </tr>\n",
       "    <tr>\n",
       "      <th>95</th>\n",
       "      <td>2018-03-20-001997</td>\n",
       "      <td>A large part of this has been as a member and ...</td>\n",
       "      <td>Jeremy Stubbs</td>\n",
       "      <td>2018-03-20 21:46:45</td>\n",
       "      <td>1</td>\n",
       "      <td>E</td>\n",
       "      <td>male</td>\n",
       "      <td>10.02.1960</td>\n",
       "      <td>A</td>\n",
       "      <td>tt7300956</td>\n",
       "      <td>0.000000</td>\n",
       "      <td>21.7.2017</td>\n",
       "    </tr>\n",
       "    <tr>\n",
       "      <th>96</th>\n",
       "      <td>2018-01-30-002009</td>\n",
       "      <td>a life model for those who seek the truth. We ...</td>\n",
       "      <td>John Lewis</td>\n",
       "      <td>2018-01-30 05:53:05</td>\n",
       "      <td>1</td>\n",
       "      <td>E</td>\n",
       "      <td>male</td>\n",
       "      <td>04.10.1934</td>\n",
       "      <td>We</td>\n",
       "      <td>tt6866446</td>\n",
       "      <td>1.000000</td>\n",
       "      <td>19.1.2017</td>\n",
       "    </tr>\n",
       "    <tr>\n",
       "      <th>97</th>\n",
       "      <td>2018-12-17-001457</td>\n",
       "      <td>A local housing authority that is designated a...</td>\n",
       "      <td>Mary James</td>\n",
       "      <td>2018-12-17 01:00:00</td>\n",
       "      <td>3</td>\n",
       "      <td>E</td>\n",
       "      <td>female</td>\n",
       "      <td>None</td>\n",
       "      <td>5</td>\n",
       "      <td>tt6410524</td>\n",
       "      <td>0.937053</td>\n",
       "      <td>11.3.2017</td>\n",
       "    </tr>\n",
       "    <tr>\n",
       "      <th>98</th>\n",
       "      <td>2018-12-17-001457</td>\n",
       "      <td>A local housing authority that is designated a...</td>\n",
       "      <td>Mary James</td>\n",
       "      <td>2018-12-17 01:00:00</td>\n",
       "      <td>3</td>\n",
       "      <td>E</td>\n",
       "      <td>female</td>\n",
       "      <td>None</td>\n",
       "      <td>A</td>\n",
       "      <td>tt7300956</td>\n",
       "      <td>1.000000</td>\n",
       "      <td>7.2.2017</td>\n",
       "    </tr>\n",
       "    <tr>\n",
       "      <th>99</th>\n",
       "      <td>2018-07-21-000610</td>\n",
       "      <td>A lot has changed because it's the [ LGBT ] po...</td>\n",
       "      <td>Mariela Castro Espín</td>\n",
       "      <td>2018-07-21 20:42:19</td>\n",
       "      <td>1</td>\n",
       "      <td>E</td>\n",
       "      <td>female</td>\n",
       "      <td>27.07.1962</td>\n",
       "      <td>A</td>\n",
       "      <td>tt7300956</td>\n",
       "      <td>0.326961</td>\n",
       "      <td>2.7.2017</td>\n",
       "    </tr>\n",
       "  </tbody>\n",
       "</table>\n",
       "<p>100 rows × 12 columns</p>\n",
       "</div>"
      ],
      "text/plain": [
       "              quoteID                                          quotation  \\\n",
       "0   2018-04-09-000057  [ América ] is a good team, a team that if you...   \n",
       "1   2018-04-09-000057  [ América ] is a good team, a team that if you...   \n",
       "2   2018-02-23-000084  ... at least 10 years is what we can see in th...   \n",
       "3   2018-04-02-000086  [ Bhagwan ] had the dream, the vision, and I h...   \n",
       "4   2018-06-21-000076  [ But ] Abang Johari does not have charisma li...   \n",
       "..                ...                                                ...   \n",
       "95  2018-03-20-001997  A large part of this has been as a member and ...   \n",
       "96  2018-01-30-002009  a life model for those who seek the truth. We ...   \n",
       "97  2018-12-17-001457  A local housing authority that is designated a...   \n",
       "98  2018-12-17-001457  A local housing authority that is designated a...   \n",
       "99  2018-07-21-000610  A lot has changed because it's the [ LGBT ] po...   \n",
       "\n",
       "                 speaker                date  numOccurrences phase  gender  \\\n",
       "0        Michael Bradley 2018-04-09 22:35:52               1     E    male   \n",
       "1        Michael Bradley 2018-04-09 22:35:52               1     E    male   \n",
       "2          Mark Thompson 2018-02-23 03:56:00               1     E    male   \n",
       "3        Ma Anand Sheela 2018-04-02 06:23:00               2     E  female   \n",
       "4             James Chin 2018-06-21 07:00:00               1     E    male   \n",
       "..                   ...                 ...             ...   ...     ...   \n",
       "95         Jeremy Stubbs 2018-03-20 21:46:45               1     E    male   \n",
       "96            John Lewis 2018-01-30 05:53:05               1     E    male   \n",
       "97            Mary James 2018-12-17 01:00:00               3     E  female   \n",
       "98            Mary James 2018-12-17 01:00:00               3     E  female   \n",
       "99  Mariela Castro Espín 2018-07-21 20:42:19               1     E  female   \n",
       "\n",
       "           dob     film     id_film  gender_pct release_date  \n",
       "0   18.04.1979       90  tt13906590    0.023064     7.5.2017  \n",
       "1   18.04.1979  América   tt1670931    0.790548     3.7.2017  \n",
       "2   31.07.1957       10   tt5282238    0.291034    21.7.2017  \n",
       "3   28.12.1949        I   tt2302966    0.726772     2.7.2017  \n",
       "4         None   Johari   tt0353582    0.000000     6.9.2017  \n",
       "..         ...      ...         ...         ...          ...  \n",
       "95  10.02.1960        A   tt7300956    0.000000    21.7.2017  \n",
       "96  04.10.1934       We   tt6866446    1.000000    19.1.2017  \n",
       "97        None        5   tt6410524    0.937053    11.3.2017  \n",
       "98        None        A   tt7300956    1.000000     7.2.2017  \n",
       "99  27.07.1962        A   tt7300956    0.326961     2.7.2017  \n",
       "\n",
       "[100 rows x 12 columns]"
      ]
     },
     "metadata": {},
     "output_type": "display_data"
    }
   ],
   "source": [
    "# Sample for Quotebank dataset\n",
    "print(\"\\nSample quotebank:\\n\")\n",
    "display(df_quotebank)"
   ]
  },
  {
   "cell_type": "markdown",
   "metadata": {},
   "source": [
    "## Task 1 \n",
    "Load quotebank dataset previously filtered and completed (question_2). Then add ratings and number of voting columns into the dataframe thanks to IMDb. "
   ]
  },
  {
   "cell_type": "code",
   "execution_count": 75,
   "metadata": {},
   "outputs": [],
   "source": [
    "#open a pickle fil with id of the movies, numVotes and averageRating.\n",
    "df_ratings = pd.read_pickle('../generated/QUOTEBANK/sample/df_ratings.pickle')\n",
    "df_ratings.rename(columns={'tconst': 'id_film'}, inplace=True)"
   ]
  },
  {
   "cell_type": "code",
   "execution_count": 76,
   "metadata": {},
   "outputs": [],
   "source": [
    "#insert columns numVotes and averageRating to quotebank\n",
    "df_ML = pd.merge(df_quotebank,df_ratings,on='id_film',how='left')"
   ]
  },
  {
   "cell_type": "code",
   "execution_count": 77,
   "metadata": {},
   "outputs": [
    {
     "data": {
      "text/html": [
       "<div>\n",
       "<style scoped>\n",
       "    .dataframe tbody tr th:only-of-type {\n",
       "        vertical-align: middle;\n",
       "    }\n",
       "\n",
       "    .dataframe tbody tr th {\n",
       "        vertical-align: top;\n",
       "    }\n",
       "\n",
       "    .dataframe thead th {\n",
       "        text-align: right;\n",
       "    }\n",
       "</style>\n",
       "<table border=\"1\" class=\"dataframe\">\n",
       "  <thead>\n",
       "    <tr style=\"text-align: right;\">\n",
       "      <th></th>\n",
       "      <th>quoteID</th>\n",
       "      <th>quotation</th>\n",
       "      <th>speaker</th>\n",
       "      <th>date</th>\n",
       "      <th>numOccurrences</th>\n",
       "      <th>phase</th>\n",
       "      <th>gender</th>\n",
       "      <th>dob</th>\n",
       "      <th>film</th>\n",
       "      <th>id_film</th>\n",
       "      <th>gender_pct</th>\n",
       "      <th>release_date</th>\n",
       "      <th>numVotes</th>\n",
       "      <th>averageRating</th>\n",
       "    </tr>\n",
       "  </thead>\n",
       "  <tbody>\n",
       "    <tr>\n",
       "      <th>0</th>\n",
       "      <td>2018-04-09-000057</td>\n",
       "      <td>[ América ] is a good team, a team that if you...</td>\n",
       "      <td>Michael Bradley</td>\n",
       "      <td>2018-04-09 22:35:52</td>\n",
       "      <td>1</td>\n",
       "      <td>E</td>\n",
       "      <td>male</td>\n",
       "      <td>18.04.1979</td>\n",
       "      <td>90</td>\n",
       "      <td>tt13906590</td>\n",
       "      <td>0.023064</td>\n",
       "      <td>7.5.2017</td>\n",
       "      <td>NaN</td>\n",
       "      <td>NaN</td>\n",
       "    </tr>\n",
       "    <tr>\n",
       "      <th>1</th>\n",
       "      <td>2018-04-09-000057</td>\n",
       "      <td>[ América ] is a good team, a team that if you...</td>\n",
       "      <td>Michael Bradley</td>\n",
       "      <td>2018-04-09 22:35:52</td>\n",
       "      <td>1</td>\n",
       "      <td>E</td>\n",
       "      <td>male</td>\n",
       "      <td>18.04.1979</td>\n",
       "      <td>América</td>\n",
       "      <td>tt1670931</td>\n",
       "      <td>0.790548</td>\n",
       "      <td>3.7.2017</td>\n",
       "      <td>90.0</td>\n",
       "      <td>6.5</td>\n",
       "    </tr>\n",
       "  </tbody>\n",
       "</table>\n",
       "</div>"
      ],
      "text/plain": [
       "             quoteID                                          quotation  \\\n",
       "0  2018-04-09-000057  [ América ] is a good team, a team that if you...   \n",
       "1  2018-04-09-000057  [ América ] is a good team, a team that if you...   \n",
       "\n",
       "           speaker                date  numOccurrences phase gender  \\\n",
       "0  Michael Bradley 2018-04-09 22:35:52               1     E   male   \n",
       "1  Michael Bradley 2018-04-09 22:35:52               1     E   male   \n",
       "\n",
       "          dob     film     id_film  gender_pct release_date  numVotes  \\\n",
       "0  18.04.1979       90  tt13906590    0.023064     7.5.2017       NaN   \n",
       "1  18.04.1979  América   tt1670931    0.790548     3.7.2017      90.0   \n",
       "\n",
       "   averageRating  \n",
       "0            NaN  \n",
       "1            6.5  "
      ]
     },
     "execution_count": 77,
     "metadata": {},
     "output_type": "execute_result"
    }
   ],
   "source": [
    "df_ML.head(2)"
   ]
  },
  {
   "cell_type": "markdown",
   "metadata": {},
   "source": [
    "## Task 2\n",
    "Creat good environnement for machine learning : data training set, data validation and testing data."
   ]
  },
  {
   "cell_type": "markdown",
   "metadata": {},
   "source": [
    "What are the **features**? \n",
    "- gender : gender of the speaker \n",
    "- num_oc : number of quotes occurences\n",
    "- day_mean_before: average number of days before the release date\n",
    "- day_max_before : number of days from the first day we talk about it until the release \n",
    "- nb_quote_month_before: the number of situations one month before the exit  \n",
    "- day_mean: average number of days after the release date (where it is discussed)\n",
    "- day_max : number of days until the last day that it is discussed\n",
    "- nb_quote_month : the number of situations one month after discharge\n",
    "\n",
    "What is the **response**?\n",
    "-ratings : determine if the film is a success or a failure"
   ]
  },
  {
   "cell_type": "code",
   "execution_count": 78,
   "metadata": {},
   "outputs": [],
   "source": [
    "#create a colonne with the response (success if rating is >= 5.5 else the movie is an echec)\n",
    "ratings_predict = []\n",
    "for row in df_ML['averageRating'] : \n",
    "    if row < 6 :\n",
    "        ratings_predict.append(0)\n",
    "    elif row >= 5.5 :\n",
    "         ratings_predict.append(1)\n",
    "    else :\n",
    "         ratings_predict.append('')\n",
    "df_ML['ratings_predict'] = ratings_predict"
   ]
  },
  {
   "cell_type": "code",
   "execution_count": 164,
   "metadata": {},
   "outputs": [
    {
     "data": {
      "text/plain": [
       "quoteID                    object\n",
       "quotation                  object\n",
       "speaker                    object\n",
       "date               datetime64[ns]\n",
       "numOccurrences              int64\n",
       "phase                      object\n",
       "gender                     object\n",
       "dob                        object\n",
       "film                       object\n",
       "id_film                    object\n",
       "gender_pct                float64\n",
       "release_date               object\n",
       "numVotes                  float64\n",
       "averageRating             float64\n",
       "ratings_predict            object\n",
       "dtype: object"
      ]
     },
     "execution_count": 164,
     "metadata": {},
     "output_type": "execute_result"
    }
   ],
   "source": [
    "#delete row with no label\n",
    "df_ML_filtred = df_ML[(df_ML.ratings_predict != '')]"
   ]
  },
  {
   "cell_type": "code",
   "execution_count": 129,
   "metadata": {},
   "outputs": [],
   "source": [
    "#specify feature for the machine learning\n",
    "#movies_features = ['gender', 'num_oc', 'day_mean_before', 'day_max_before', 'nb_quote_month_before', 'day_mean','day_max','nb_quote_month']\n",
    "movies_features = ['gender']"
   ]
  },
  {
   "cell_type": "code",
   "execution_count": 146,
   "metadata": {},
   "outputs": [
    {
     "data": {
      "text/html": [
       "<div>\n",
       "<style scoped>\n",
       "    .dataframe tbody tr th:only-of-type {\n",
       "        vertical-align: middle;\n",
       "    }\n",
       "\n",
       "    .dataframe tbody tr th {\n",
       "        vertical-align: top;\n",
       "    }\n",
       "\n",
       "    .dataframe thead th {\n",
       "        text-align: right;\n",
       "    }\n",
       "</style>\n",
       "<table border=\"1\" class=\"dataframe\">\n",
       "  <thead>\n",
       "    <tr style=\"text-align: right;\">\n",
       "      <th></th>\n",
       "      <th>gender_female</th>\n",
       "      <th>gender_male</th>\n",
       "      <th>gender_other</th>\n",
       "    </tr>\n",
       "  </thead>\n",
       "  <tbody>\n",
       "    <tr>\n",
       "      <th>1</th>\n",
       "      <td>0</td>\n",
       "      <td>1</td>\n",
       "      <td>0</td>\n",
       "    </tr>\n",
       "    <tr>\n",
       "      <th>2</th>\n",
       "      <td>0</td>\n",
       "      <td>1</td>\n",
       "      <td>0</td>\n",
       "    </tr>\n",
       "    <tr>\n",
       "      <th>3</th>\n",
       "      <td>1</td>\n",
       "      <td>0</td>\n",
       "      <td>0</td>\n",
       "    </tr>\n",
       "    <tr>\n",
       "      <th>5</th>\n",
       "      <td>0</td>\n",
       "      <td>1</td>\n",
       "      <td>0</td>\n",
       "    </tr>\n",
       "    <tr>\n",
       "      <th>9</th>\n",
       "      <td>1</td>\n",
       "      <td>0</td>\n",
       "      <td>0</td>\n",
       "    </tr>\n",
       "  </tbody>\n",
       "</table>\n",
       "</div>"
      ],
      "text/plain": [
       "   gender_female  gender_male  gender_other\n",
       "1              0            1             0\n",
       "2              0            1             0\n",
       "3              1            0             0\n",
       "5              0            1             0\n",
       "9              1            0             0"
      ]
     },
     "execution_count": 146,
     "metadata": {},
     "output_type": "execute_result"
    }
   ],
   "source": [
    "#the dataset contains one categorical variable: gender (male|female)\n",
    "#convert it to a numerical variable in order to have the features vector\n",
    "X = pd.get_dummies(df_ML_filtred[movies_features])\n",
    "X.head()"
   ]
  },
  {
   "cell_type": "code",
   "execution_count": 147,
   "metadata": {},
   "outputs": [
    {
     "data": {
      "text/plain": [
       "0"
      ]
     },
     "execution_count": 147,
     "metadata": {},
     "output_type": "execute_result"
    }
   ],
   "source": [
    "#to make a prediction we must eliminate the missing values\n",
    "len(X[X.isna().any(axis=1)])\n",
    "#replace nan values with mean \n",
    "X = X.fillna(X.mean())\n",
    "len(X[X.isna().any(axis=1)])"
   ]
  },
  {
   "cell_type": "code",
   "execution_count": 165,
   "metadata": {},
   "outputs": [],
   "source": [
    "#store labels for the training\n",
    "#y = df_ML_filtred['ratings_predict']\n",
    "df_ML_filtred = df_ML_filtred.astype({'ratings_predict': int})"
   ]
  },
  {
   "cell_type": "code",
   "execution_count": 166,
   "metadata": {},
   "outputs": [
    {
     "data": {
      "text/plain": [
       "quoteID                    object\n",
       "quotation                  object\n",
       "speaker                    object\n",
       "date               datetime64[ns]\n",
       "numOccurrences              int64\n",
       "phase                      object\n",
       "gender                     object\n",
       "dob                        object\n",
       "film                       object\n",
       "id_film                    object\n",
       "gender_pct                float64\n",
       "release_date               object\n",
       "numVotes                  float64\n",
       "averageRating             float64\n",
       "ratings_predict             int32\n",
       "dtype: object"
      ]
     },
     "execution_count": 166,
     "metadata": {},
     "output_type": "execute_result"
    }
   ],
   "source": [
    "df_ML_filtred.dtypes"
   ]
  },
  {
   "cell_type": "code",
   "execution_count": 167,
   "metadata": {},
   "outputs": [],
   "source": [
    "# Function taking as argument a dataframe and a list of columns\n",
    "# It return a numpy array containing the dataframe columns \n",
    "# It checks if the dimension of the returning array has the correct dimension\n",
    "def numpy_helper(df, cols):\n",
    "    result = df[cols].to_numpy(copy = True)\n",
    "    if len(df) == result.shape[0] and len(cols) == result.shape[1] :\n",
    "        return result\n",
    "    else:\n",
    "        raise Exception(f\"Dimensions of the array is wrong: {result.shape = }\")"
   ]
  },
  {
   "cell_type": "code",
   "execution_count": 168,
   "metadata": {},
   "outputs": [
    {
     "name": "stdout",
     "output_type": "stream",
     "text": [
      "The size of our splitted dataset is now :\n",
      "X_train.shape = (24, 3)\n",
      "X_test.shape = (11, 3)\n",
      "y_train.shape = (24, 1)\n",
      "y_test.shape = (11, 1)\n"
     ]
    }
   ],
   "source": [
    "movies_features_new = ['gender_female', 'gender_male', 'gender_other']#, 'num_oc', 'day_mean_before', 'day_max_before', 'nb_quote_month_before', 'day_mean','day_max','nb_quote_month']\n",
    "# Creating the features array and the label array\n",
    "X_array = numpy_helper(X,movies_features_new)\n",
    "Y_array = numpy_helper(df_ML_filtred, ['ratings_predict'])\n",
    "# Splitting the dataset in training and testing subset\n",
    "X_train, X_test, y_train, y_test = sklearn.model_selection.train_test_split(X_array,\n",
    "                                                                            Y_array,\n",
    "                                                                            test_size = 0.3,\n",
    "                                                                            train_size = 0.7,\n",
    "                                                                            random_state = 123)\n",
    "\n",
    "# Checking that the dimension of subsets are coherent with the parameterw we used\n",
    "print(f\"The size of our splitted dataset is now :\")\n",
    "print(f\"{X_train.shape = }\")\n",
    "print(f\"{X_test.shape = }\")\n",
    "print(f\"{y_train.shape = }\")\n",
    "print(f\"{y_test.shape = }\")"
   ]
  },
  {
   "cell_type": "markdown",
   "metadata": {},
   "source": [
    "## Task 3 \n",
    "Make machine leaning model."
   ]
  },
  {
   "cell_type": "code",
   "execution_count": 171,
   "metadata": {},
   "outputs": [
    {
     "name": "stdout",
     "output_type": "stream",
     "text": [
      "R2 = -0.5714285714285714\n"
     ]
    },
    {
     "name": "stderr",
     "output_type": "stream",
     "text": [
      "C:\\Users\\inesg\\anaconda3\\lib\\site-packages\\sklearn\\utils\\validation.py:73: DataConversionWarning: A column-vector y was passed when a 1d array was expected. Please change the shape of y to (n_samples, ), for example using ravel().\n",
      "  return f(**kwargs)\n"
     ]
    }
   ],
   "source": [
    "logistic = LogisticRegression(solver='lbfgs', max_iter=10000)\n",
    "logistic.fit(X_train,y_train)\n",
    "\n",
    "# Using the model on the test set\n",
    "y_predicted = logistic.predict(X_test)\n",
    "\n",
    "#proba = logistic.predict_proba(X_test)\n",
    "# Computing R squared metric for the model\n",
    "print(f\"R2 = {r2_score(y_test, y_predicted)}\")\n",
    "\n",
    "\n"
   ]
  },
  {
   "cell_type": "code",
   "execution_count": 174,
   "metadata": {},
   "outputs": [
    {
     "data": {
      "image/png": "[encoded data removed]",
      "text/plain": [
       "<Figure size 864x576 with 1 Axes>"
      ]
     },
     "metadata": {
      "needs_background": "light"
     },
     "output_type": "display_data"
    }
   ],
   "source": [
    "# Plotting the results\n",
    "fig, ax = plt.subplots(figsize=(12, 8))\n",
    "ax.scatter(y_test, y_predicted, edgecolors=(0, 0, 0))\n",
    "ax.plot([min(y_test), max(y_test)], [min(y_test), max(y_test)], 'r--', lw=4)\n",
    "ax.set_xlabel('Original')\n",
    "ax.set_ylabel('Predicted')\n",
    "plt.title('\\nScore prediction using the features \\n Split 80% - Logistic', fontsize = 14)\n",
    "plt.show()"
   ]
  },
  {
   "cell_type": "code",
   "execution_count": null,
   "metadata": {},
   "outputs": [],
   "source": [
    "precision = cross_val_score(logistic, X_train, y_train, cv=10, scoring=\"precision\")\n",
    "recall = cross_val_score(logistic, X, y, cv=10, scoring=\"recall\")\n",
    "\n",
    "# Precision: avoid false positives\n",
    "print(\"Precision: %0.2f (+/- %0.2f)\" % (precision.mean(), precision.std() * 2))\n",
    "# Recall: avoid false negatives\n",
    "print(\"Recall: %0.2f (+/- %0.2f)\" % (recall.mean(), recall.std() * 2))"
   ]
  },
  {
   "cell_type": "code",
   "execution_count": 183,
   "metadata": {},
   "outputs": [
    {
     "ename": "ValueError",
     "evalue": "unknown format is not supported",
     "output_type": "error",
     "traceback": [
      "\u001b[1;31m---------------------------------------------------------------------------\u001b[0m",
      "\u001b[1;31mValueError\u001b[0m                                Traceback (most recent call last)",
      "\u001b[1;32m<ipython-input-183-2d2230e72a16>\u001b[0m in \u001b[0;36m<module>\u001b[1;34m\u001b[0m\n\u001b[0;32m      2\u001b[0m \u001b[0my_pred\u001b[0m \u001b[1;33m=\u001b[0m \u001b[0mcross_val_predict\u001b[0m\u001b[1;33m(\u001b[0m\u001b[0mlogistic\u001b[0m\u001b[1;33m,\u001b[0m \u001b[0mX\u001b[0m\u001b[1;33m,\u001b[0m \u001b[0my\u001b[0m\u001b[1;33m,\u001b[0m \u001b[0mcv\u001b[0m\u001b[1;33m=\u001b[0m\u001b[1;36m10\u001b[0m\u001b[1;33m,\u001b[0m \u001b[0mmethod\u001b[0m\u001b[1;33m=\u001b[0m\u001b[1;34m\"predict_proba\"\u001b[0m\u001b[1;33m)\u001b[0m\u001b[1;33m\u001b[0m\u001b[1;33m\u001b[0m\u001b[0m\n\u001b[0;32m      3\u001b[0m \u001b[1;31m# Compute the False Positive Rate and True Positive Rate\u001b[0m\u001b[1;33m\u001b[0m\u001b[1;33m\u001b[0m\u001b[1;33m\u001b[0m\u001b[0m\n\u001b[1;32m----> 4\u001b[1;33m \u001b[0mfpr\u001b[0m\u001b[1;33m,\u001b[0m \u001b[0mtpr\u001b[0m\u001b[1;33m,\u001b[0m \u001b[0m_\u001b[0m \u001b[1;33m=\u001b[0m \u001b[0mroc_curve\u001b[0m\u001b[1;33m(\u001b[0m\u001b[0my\u001b[0m\u001b[1;33m,\u001b[0m \u001b[0my_pred\u001b[0m\u001b[1;33m[\u001b[0m\u001b[1;33m:\u001b[0m\u001b[1;33m,\u001b[0m \u001b[1;36m1\u001b[0m\u001b[1;33m]\u001b[0m\u001b[1;33m)\u001b[0m\u001b[1;33m\u001b[0m\u001b[1;33m\u001b[0m\u001b[0m\n\u001b[0m\u001b[0;32m      5\u001b[0m \u001b[1;31m# Compute the area under the fpt-tpf curve\u001b[0m\u001b[1;33m\u001b[0m\u001b[1;33m\u001b[0m\u001b[1;33m\u001b[0m\u001b[0m\n\u001b[0;32m      6\u001b[0m \u001b[0mauc_score\u001b[0m \u001b[1;33m=\u001b[0m \u001b[0mauc\u001b[0m\u001b[1;33m(\u001b[0m\u001b[0mfpr\u001b[0m\u001b[1;33m,\u001b[0m \u001b[0mtpr\u001b[0m\u001b[1;33m)\u001b[0m\u001b[1;33m\u001b[0m\u001b[1;33m\u001b[0m\u001b[0m\n",
      "\u001b[1;32m~\\anaconda3\\lib\\site-packages\\sklearn\\utils\\validation.py\u001b[0m in \u001b[0;36minner_f\u001b[1;34m(*args, **kwargs)\u001b[0m\n\u001b[0;32m     71\u001b[0m                           FutureWarning)\n\u001b[0;32m     72\u001b[0m         \u001b[0mkwargs\u001b[0m\u001b[1;33m.\u001b[0m\u001b[0mupdate\u001b[0m\u001b[1;33m(\u001b[0m\u001b[1;33m{\u001b[0m\u001b[0mk\u001b[0m\u001b[1;33m:\u001b[0m \u001b[0marg\u001b[0m \u001b[1;32mfor\u001b[0m \u001b[0mk\u001b[0m\u001b[1;33m,\u001b[0m \u001b[0marg\u001b[0m \u001b[1;32min\u001b[0m \u001b[0mzip\u001b[0m\u001b[1;33m(\u001b[0m\u001b[0msig\u001b[0m\u001b[1;33m.\u001b[0m\u001b[0mparameters\u001b[0m\u001b[1;33m,\u001b[0m \u001b[0margs\u001b[0m\u001b[1;33m)\u001b[0m\u001b[1;33m}\u001b[0m\u001b[1;33m)\u001b[0m\u001b[1;33m\u001b[0m\u001b[1;33m\u001b[0m\u001b[0m\n\u001b[1;32m---> 73\u001b[1;33m         \u001b[1;32mreturn\u001b[0m \u001b[0mf\u001b[0m\u001b[1;33m(\u001b[0m\u001b[1;33m**\u001b[0m\u001b[0mkwargs\u001b[0m\u001b[1;33m)\u001b[0m\u001b[1;33m\u001b[0m\u001b[1;33m\u001b[0m\u001b[0m\n\u001b[0m\u001b[0;32m     74\u001b[0m     \u001b[1;32mreturn\u001b[0m \u001b[0minner_f\u001b[0m\u001b[1;33m\u001b[0m\u001b[1;33m\u001b[0m\u001b[0m\n\u001b[0;32m     75\u001b[0m \u001b[1;33m\u001b[0m\u001b[0m\n",
      "\u001b[1;32m~\\anaconda3\\lib\\site-packages\\sklearn\\metrics\\_ranking.py\u001b[0m in \u001b[0;36mroc_curve\u001b[1;34m(y_true, y_score, pos_label, sample_weight, drop_intermediate)\u001b[0m\n\u001b[0;32m    773\u001b[0m \u001b[1;33m\u001b[0m\u001b[0m\n\u001b[0;32m    774\u001b[0m     \"\"\"\n\u001b[1;32m--> 775\u001b[1;33m     fps, tps, thresholds = _binary_clf_curve(\n\u001b[0m\u001b[0;32m    776\u001b[0m         y_true, y_score, pos_label=pos_label, sample_weight=sample_weight)\n\u001b[0;32m    777\u001b[0m \u001b[1;33m\u001b[0m\u001b[0m\n",
      "\u001b[1;32m~\\anaconda3\\lib\\site-packages\\sklearn\\metrics\\_ranking.py\u001b[0m in \u001b[0;36m_binary_clf_curve\u001b[1;34m(y_true, y_score, pos_label, sample_weight)\u001b[0m\n\u001b[0;32m    537\u001b[0m     if not (y_type == \"binary\" or\n\u001b[0;32m    538\u001b[0m             (y_type == \"multiclass\" and pos_label is not None)):\n\u001b[1;32m--> 539\u001b[1;33m         \u001b[1;32mraise\u001b[0m \u001b[0mValueError\u001b[0m\u001b[1;33m(\u001b[0m\u001b[1;34m\"{0} format is not supported\"\u001b[0m\u001b[1;33m.\u001b[0m\u001b[0mformat\u001b[0m\u001b[1;33m(\u001b[0m\u001b[0my_type\u001b[0m\u001b[1;33m)\u001b[0m\u001b[1;33m)\u001b[0m\u001b[1;33m\u001b[0m\u001b[1;33m\u001b[0m\u001b[0m\n\u001b[0m\u001b[0;32m    540\u001b[0m \u001b[1;33m\u001b[0m\u001b[0m\n\u001b[0;32m    541\u001b[0m     \u001b[0mcheck_consistent_length\u001b[0m\u001b[1;33m(\u001b[0m\u001b[0my_true\u001b[0m\u001b[1;33m,\u001b[0m \u001b[0my_score\u001b[0m\u001b[1;33m,\u001b[0m \u001b[0msample_weight\u001b[0m\u001b[1;33m)\u001b[0m\u001b[1;33m\u001b[0m\u001b[1;33m\u001b[0m\u001b[0m\n",
      "\u001b[1;31mValueError\u001b[0m: unknown format is not supported"
     ]
    }
   ],
   "source": [
    "# Predict the probabilities with a cross validationn\n",
    "y_pred = cross_val_predict(logistic, X, y, cv=10, method=\"predict_proba\")\n",
    "# Compute the False Positive Rate and True Positive Rate\n",
    "fpr, tpr, _ = roc_curve(y, y_pred[:, 1])\n",
    "# Compute the area under the fpt-tpf curve\n",
    "auc_score = auc(fpr, tpr)"
   ]
  },
  {
   "cell_type": "code",
   "execution_count": 185,
   "metadata": {},
   "outputs": [
    {
     "ename": "NameError",
     "evalue": "name 'fpr' is not defined",
     "output_type": "error",
     "traceback": [
      "\u001b[1;31m---------------------------------------------------------------------------\u001b[0m",
      "\u001b[1;31mNameError\u001b[0m                                 Traceback (most recent call last)",
      "\u001b[1;32m<ipython-input-185-ea37961ed205>\u001b[0m in \u001b[0;36m<module>\u001b[1;34m\u001b[0m\n\u001b[1;32m----> 1\u001b[1;33m \u001b[0mplt\u001b[0m\u001b[1;33m.\u001b[0m\u001b[0mplot\u001b[0m\u001b[1;33m(\u001b[0m\u001b[0mfpr\u001b[0m\u001b[1;33m,\u001b[0m \u001b[0mtpr\u001b[0m\u001b[1;33m)\u001b[0m\u001b[1;33m\u001b[0m\u001b[1;33m\u001b[0m\u001b[0m\n\u001b[0m\u001b[0;32m      2\u001b[0m \u001b[0mplt\u001b[0m\u001b[1;33m.\u001b[0m\u001b[0mplot\u001b[0m\u001b[1;33m(\u001b[0m\u001b[1;33m[\u001b[0m\u001b[1;36m0\u001b[0m\u001b[1;33m,\u001b[0m \u001b[1;36m1\u001b[0m\u001b[1;33m]\u001b[0m\u001b[1;33m,\u001b[0m \u001b[1;33m[\u001b[0m\u001b[1;36m0\u001b[0m\u001b[1;33m,\u001b[0m \u001b[1;36m1\u001b[0m\u001b[1;33m]\u001b[0m\u001b[1;33m,\u001b[0m\u001b[1;34m'r--'\u001b[0m\u001b[1;33m)\u001b[0m\u001b[1;33m\u001b[0m\u001b[1;33m\u001b[0m\u001b[0m\n\u001b[0;32m      3\u001b[0m \u001b[0mplt\u001b[0m\u001b[1;33m.\u001b[0m\u001b[0mxlabel\u001b[0m\u001b[1;33m(\u001b[0m\u001b[1;34m\"False Positive Rate\"\u001b[0m\u001b[1;33m)\u001b[0m\u001b[1;33m\u001b[0m\u001b[1;33m\u001b[0m\u001b[0m\n\u001b[0;32m      4\u001b[0m \u001b[0mplt\u001b[0m\u001b[1;33m.\u001b[0m\u001b[0mylabel\u001b[0m\u001b[1;33m(\u001b[0m\u001b[1;34m\"True Positive Rate\"\u001b[0m\u001b[1;33m)\u001b[0m\u001b[1;33m\u001b[0m\u001b[1;33m\u001b[0m\u001b[0m\n\u001b[0;32m      5\u001b[0m \u001b[0mplt\u001b[0m\u001b[1;33m.\u001b[0m\u001b[0mtitle\u001b[0m\u001b[1;33m(\u001b[0m\u001b[1;34m\"ROC Curve - Area = {:.5f}\"\u001b[0m\u001b[1;33m.\u001b[0m\u001b[0mformat\u001b[0m\u001b[1;33m(\u001b[0m\u001b[0mauc_score\u001b[0m\u001b[1;33m)\u001b[0m\u001b[1;33m)\u001b[0m\u001b[1;33m;\u001b[0m\u001b[1;33m\u001b[0m\u001b[1;33m\u001b[0m\u001b[0m\n",
      "\u001b[1;31mNameError\u001b[0m: name 'fpr' is not defined"
     ]
    }
   ],
   "source": [
    "plt.plot(fpr, tpr)\n",
    "plt.plot([0, 1], [0, 1],'r--')\n",
    "plt.xlabel(\"False Positive Rate\")\n",
    "plt.ylabel(\"True Positive Rate\")\n",
    "plt.title(\"ROC Curve - Area = {:.5f}\".format(auc_score));"
   ]
  },
  {
   "cell_type": "markdown",
   "metadata": {},
   "source": [
    "## Task 4\n",
    "Try to predict the movies feature (rating) with machine learning model.\n"
   ]
  },
  {
   "cell_type": "code",
   "execution_count": null,
   "metadata": {},
   "outputs": [],
   "source": []
  }
 ],
 "metadata": {
  "kernelspec": {
   "display_name": "Python 3",
   "language": "python",
   "name": "python3"
  },
  "language_info": {
   "codemirror_mode": {
    "name": "ipython",
    "version": 3
   },
   "file_extension": ".py",
   "mimetype": "text/x-python",
   "name": "python",
   "nbconvert_exporter": "python",
   "pygments_lexer": "ipython3",
   "version": "3.8.3"
  }
 },
 "nbformat": 4,
 "nbformat_minor": 4
}
