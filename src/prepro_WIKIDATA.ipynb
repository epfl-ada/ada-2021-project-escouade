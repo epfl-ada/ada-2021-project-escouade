{
 "cells": [
  {
   "cell_type": "code",
   "execution_count": 1,
   "id": "3c1f6e7d",
   "metadata": {
    "tags": []
   },
   "outputs": [],
   "source": [
    "import bz2\n",
    "import json\n",
    "import numpy as np\n",
    "import pandas as pd\n",
    "import spacy\n",
    "import pickle\n",
    "from pathlib import Path\n",
    "from collections import defaultdict\n",
    "from datetime import datetime\n",
    "\n",
    "from IPython.display import display, HTML\n",
    "\n",
    "from ressources import config"
   ]
  },
  {
   "cell_type": "code",
   "execution_count": 2,
   "id": "f9d3fccc",
   "metadata": {
    "tags": []
   },
   "outputs": [],
   "source": [
    "RAW_DATA_FOLDER = config.RAW_DATA_FOLDER\n",
    "GENERATED_DATA_FOLDER = config.GENERATED_DATA_FOLDER"
   ]
  },
  {
   "cell_type": "markdown",
   "id": "e089d768",
   "metadata": {},
   "source": [
    "## WIKIDATA Speaker Dataset\n",
    "We got two wikidata datasets. The following section deal with the first dataset. The first one contains informations about all the speaker from quotebank. From this one we want to extract the gender of the speakers based on their qid"
   ]
  },
  {
   "cell_type": "code",
   "execution_count": null,
   "id": "8d05939e",
   "metadata": {
    "tags": []
   },
   "outputs": [],
   "source": [
    "# opening the parquet data\n",
    "wiki = pd.read_parquet(RAW_DATA_FOLDER / 'WIKIDATA')\n",
    "wiki = wiki[['id','aliases', 'label','date_of_birth','gender']]\n",
    "# Wikidata is unique so there's no double\n",
    "print(wiki['id'].is_unique)\n",
    "print(wiki.shape)\n",
    "wiki.sample(2)"
   ]
  },
  {
   "cell_type": "code",
   "execution_count": null,
   "id": "b96be97e",
   "metadata": {
    "tags": []
   },
   "outputs": [],
   "source": [
    "# Function to get rid of list in a column\n",
    "\n",
    "def try_join(cell):\n",
    "    try:\n",
    "        return ' '.join(map(str, cell))\n",
    "    except TypeError:\n",
    "        return np.nan"
   ]
  },
  {
   "cell_type": "code",
   "execution_count": 6,
   "id": "94f4ab7e",
   "metadata": {},
   "outputs": [],
   "source": [
    "# converting gender column (type: list / object) to a str\n",
    "wiki['genderlabel'] = [try_join(cell) for cell in wiki['gender']]"
   ]
  },
  {
   "cell_type": "markdown",
   "id": "a7dfca70-3e4d-4bcd-9d5c-56e9d90b7f66",
   "metadata": {},
   "source": [
    "We want to convert the gender id to str (Q6581097 = male and Q6581072 = female). If the gender is not one of these two, we mark it as other. We are aware that if the person has noted two of more genders, it would return \"other\" but it is a really small percentage when we applied that to the quotebank speakers"
   ]
  },
  {
   "cell_type": "code",
   "execution_count": 7,
   "id": "02625a48",
   "metadata": {},
   "outputs": [],
   "source": [
    "# We want to convert the id to str\n",
    "gender_dict = defaultdict(lambda : 'other')\n",
    "gender_dict.update({\"Q6581097\" : 'male', \"Q6581072\" : 'female'})\n",
    "wiki['genderlabel'] = wiki['genderlabel'].map(gender_dict)"
   ]
  },
  {
   "cell_type": "code",
   "execution_count": 8,
   "id": "788655d1",
   "metadata": {
    "tags": []
   },
   "outputs": [
    {
     "data": {
      "text/plain": [
       "male      5418464\n",
       "other     1953347\n",
       "female    1684170\n",
       "Name: genderlabel, dtype: int64"
      ]
     },
     "execution_count": 8,
     "metadata": {},
     "output_type": "execute_result"
    }
   ],
   "source": [
    "# Check we only have male female and other in Wikidata\n",
    "wiki['genderlabel'].value_counts()"
   ]
  },
  {
   "cell_type": "markdown",
   "id": "1c6367f5-e1a4-40a7-9acf-432e249369c6",
   "metadata": {},
   "source": [
    "Next step is to parse the date of birth. There are quite a lot of errors in the dataset, so we had to handle it the best we could with the funciton parse date"
   ]
  },
  {
   "cell_type": "code",
   "execution_count": 9,
   "id": "0d7e4447",
   "metadata": {},
   "outputs": [],
   "source": [
    "# converting date_of_birth column (type: list / object) to a str\n",
    "wiki['date_of_birth'] = [try_join(cell) for cell in wiki['date_of_birth']]"
   ]
  },
  {
   "cell_type": "code",
   "execution_count": 10,
   "id": "16448d6e",
   "metadata": {},
   "outputs": [
    {
     "data": {
      "text/plain": [
       "0    +1732-02-22T00:00:00Z\n",
       "1    +1952-03-11T00:00:00Z\n",
       "2    +1868-08-23T00:00:00Z\n",
       "3    +1946-07-06T00:00:00Z\n",
       "4    +1599-06-06T00:00:00Z\n",
       "Name: date_of_birth, dtype: object"
      ]
     },
     "execution_count": 10,
     "metadata": {},
     "output_type": "execute_result"
    }
   ],
   "source": [
    "# parse date and time to extract only date and calculate age of the speaker\n",
    "wiki['date_of_birth'].head(5)"
   ]
  },
  {
   "cell_type": "code",
   "execution_count": 11,
   "id": "ad4ff854",
   "metadata": {},
   "outputs": [],
   "source": [
    "def parse_date(date):\n",
    "    try:\n",
    "        if not isinstance(date, str):\n",
    "            return np.NaN\n",
    "        elif len(date)%21 != 0:\n",
    "            return np.NaN\n",
    "        elif date == 'None' or date[0] == '-':\n",
    "            return np.NaN\n",
    "        elif '+0000-00-00T00:00:00Z' in date[0:21] :\n",
    "            return '01.01.0001'\n",
    "        elif '-00-00T00:00:00' in date[0:21] :\n",
    "            return datetime.strptime(date[0:21], '+%Y-00-00T00:00:00Z').strftime('%d.%m.%Y')\n",
    "        elif '-00T00:00:00' in date[0:21] :\n",
    "            return datetime.strptime(date[0:21], '+%Y-%m-00T00:00:00Z').strftime('%d.%m.%Y')\n",
    "        elif '+1939-02-29T00:00:00Z' in date:\n",
    "            return '28.02.1939'\n",
    "        else :\n",
    "            return datetime.strptime(date[0:21], '+%Y-%m-%dT%H:%M:%SZ').strftime('%d.%m.%Y')\n",
    "    except ValueError as e:\n",
    "        if str(e) == 'day is out of range for month':\n",
    "            return datetime.strptime(date[0:8], '+%Y-%m').strftime('%d.%m.%Y')\n",
    "        else:\n",
    "            print(date)\n",
    "            raise e"
   ]
  },
  {
   "cell_type": "code",
   "execution_count": 12,
   "id": "17b49a94",
   "metadata": {},
   "outputs": [],
   "source": [
    "wiki['dob_std'] = wiki['date_of_birth'].map(parse_date)"
   ]
  },
  {
   "cell_type": "code",
   "execution_count": 13,
   "id": "8c042349",
   "metadata": {},
   "outputs": [
    {
     "data": {
      "text/plain": [
       "0    22.02.1732\n",
       "1    11.03.1952\n",
       "2    23.08.1868\n",
       "3    06.07.1946\n",
       "4    06.06.1599\n",
       "Name: dob_std, dtype: object"
      ]
     },
     "execution_count": 13,
     "metadata": {},
     "output_type": "execute_result"
    }
   ],
   "source": [
    "wiki['dob_std'].head()"
   ]
  },
  {
   "cell_type": "code",
   "execution_count": 25,
   "id": "ae53b043",
   "metadata": {},
   "outputs": [
    {
     "data": {
      "text/plain": [
       "['id', 'aliases', 'label', 'genderlabel', 'dob_std']"
      ]
     },
     "execution_count": 25,
     "metadata": {},
     "output_type": "execute_result"
    }
   ],
   "source": [
    "wiki.drop(columns = 'gender', inplace=True)\n",
    "list(wiki)"
   ]
  },
  {
   "cell_type": "code",
   "execution_count": 26,
   "id": "2839df1f",
   "metadata": {},
   "outputs": [
    {
     "data": {
      "text/html": [
       "<div>\n",
       "<style scoped>\n",
       "    .dataframe tbody tr th:only-of-type {\n",
       "        vertical-align: middle;\n",
       "    }\n",
       "\n",
       "    .dataframe tbody tr th {\n",
       "        vertical-align: top;\n",
       "    }\n",
       "\n",
       "    .dataframe thead th {\n",
       "        text-align: right;\n",
       "    }\n",
       "</style>\n",
       "<table border=\"1\" class=\"dataframe\">\n",
       "  <thead>\n",
       "    <tr style=\"text-align: right;\">\n",
       "      <th></th>\n",
       "      <th>id</th>\n",
       "      <th>aliases</th>\n",
       "      <th>label</th>\n",
       "      <th>genderlabel</th>\n",
       "      <th>dob_std</th>\n",
       "    </tr>\n",
       "  </thead>\n",
       "  <tbody>\n",
       "    <tr>\n",
       "      <th>0</th>\n",
       "      <td>Q23</td>\n",
       "      <td>[Washington, President Washington, G. Washingt...</td>\n",
       "      <td>George Washington</td>\n",
       "      <td>male</td>\n",
       "      <td>22.02.1732</td>\n",
       "    </tr>\n",
       "    <tr>\n",
       "      <th>1</th>\n",
       "      <td>Q42</td>\n",
       "      <td>[Douglas Noel Adams, Douglas Noël Adams, Dougl...</td>\n",
       "      <td>Douglas Adams</td>\n",
       "      <td>male</td>\n",
       "      <td>11.03.1952</td>\n",
       "    </tr>\n",
       "    <tr>\n",
       "      <th>2</th>\n",
       "      <td>Q1868</td>\n",
       "      <td>[Paul Marie Ghislain Otlet, Paul Marie Otlet]</td>\n",
       "      <td>Paul Otlet</td>\n",
       "      <td>male</td>\n",
       "      <td>23.08.1868</td>\n",
       "    </tr>\n",
       "    <tr>\n",
       "      <th>3</th>\n",
       "      <td>Q207</td>\n",
       "      <td>[George Walker Bush, Bush Jr., Dubya, GWB, Bus...</td>\n",
       "      <td>George W. Bush</td>\n",
       "      <td>male</td>\n",
       "      <td>06.07.1946</td>\n",
       "    </tr>\n",
       "    <tr>\n",
       "      <th>4</th>\n",
       "      <td>Q297</td>\n",
       "      <td>[Velázquez, Diego Rodríguez de Silva y Velázqu...</td>\n",
       "      <td>Diego Velázquez</td>\n",
       "      <td>male</td>\n",
       "      <td>06.06.1599</td>\n",
       "    </tr>\n",
       "    <tr>\n",
       "      <th>...</th>\n",
       "      <td>...</td>\n",
       "      <td>...</td>\n",
       "      <td>...</td>\n",
       "      <td>...</td>\n",
       "      <td>...</td>\n",
       "    </tr>\n",
       "    <tr>\n",
       "      <th>9055976</th>\n",
       "      <td>Q106406560</td>\n",
       "      <td>[Barker Howard]</td>\n",
       "      <td>Barker B. Howard</td>\n",
       "      <td>male</td>\n",
       "      <td>NaN</td>\n",
       "    </tr>\n",
       "    <tr>\n",
       "      <th>9055977</th>\n",
       "      <td>Q106406571</td>\n",
       "      <td>[Charles Macomber]</td>\n",
       "      <td>Charles H. Macomber</td>\n",
       "      <td>male</td>\n",
       "      <td>NaN</td>\n",
       "    </tr>\n",
       "    <tr>\n",
       "      <th>9055978</th>\n",
       "      <td>Q106406588</td>\n",
       "      <td>None</td>\n",
       "      <td>Dina David</td>\n",
       "      <td>female</td>\n",
       "      <td>01.04.1848</td>\n",
       "    </tr>\n",
       "    <tr>\n",
       "      <th>9055979</th>\n",
       "      <td>Q106406593</td>\n",
       "      <td>None</td>\n",
       "      <td>Irma Dexinger</td>\n",
       "      <td>female</td>\n",
       "      <td>18.03.1899</td>\n",
       "    </tr>\n",
       "    <tr>\n",
       "      <th>9055980</th>\n",
       "      <td>Q106406643</td>\n",
       "      <td>[Fred Trull]</td>\n",
       "      <td>Fred F. Trull</td>\n",
       "      <td>male</td>\n",
       "      <td>NaN</td>\n",
       "    </tr>\n",
       "  </tbody>\n",
       "</table>\n",
       "<p>9055981 rows × 5 columns</p>\n",
       "</div>"
      ],
      "text/plain": [
       "                 id                                            aliases  \\\n",
       "0               Q23  [Washington, President Washington, G. Washingt...   \n",
       "1               Q42  [Douglas Noel Adams, Douglas Noël Adams, Dougl...   \n",
       "2             Q1868      [Paul Marie Ghislain Otlet, Paul Marie Otlet]   \n",
       "3              Q207  [George Walker Bush, Bush Jr., Dubya, GWB, Bus...   \n",
       "4              Q297  [Velázquez, Diego Rodríguez de Silva y Velázqu...   \n",
       "...             ...                                                ...   \n",
       "9055976  Q106406560                                    [Barker Howard]   \n",
       "9055977  Q106406571                                 [Charles Macomber]   \n",
       "9055978  Q106406588                                               None   \n",
       "9055979  Q106406593                                               None   \n",
       "9055980  Q106406643                                       [Fred Trull]   \n",
       "\n",
       "                       label genderlabel     dob_std  \n",
       "0          George Washington        male  22.02.1732  \n",
       "1              Douglas Adams        male  11.03.1952  \n",
       "2                 Paul Otlet        male  23.08.1868  \n",
       "3             George W. Bush        male  06.07.1946  \n",
       "4            Diego Velázquez        male  06.06.1599  \n",
       "...                      ...         ...         ...  \n",
       "9055976     Barker B. Howard        male         NaN  \n",
       "9055977  Charles H. Macomber        male         NaN  \n",
       "9055978           Dina David      female  01.04.1848  \n",
       "9055979        Irma Dexinger      female  18.03.1899  \n",
       "9055980        Fred F. Trull        male         NaN  \n",
       "\n",
       "[9055981 rows x 5 columns]"
      ]
     },
     "execution_count": 26,
     "metadata": {},
     "output_type": "execute_result"
    }
   ],
   "source": [
    "wiki"
   ]
  },
  {
   "cell_type": "code",
   "execution_count": 35,
   "id": "57948b4b",
   "metadata": {},
   "outputs": [],
   "source": [
    "#save wiki into pickle\n",
    "wiki.to_pickle('../generated/WIKIDATA/df_wikidata_speakers.pickle')"
   ]
  },
  {
   "cell_type": "code",
   "execution_count": null,
   "id": "56172a2e",
   "metadata": {},
   "outputs": [],
   "source": [
    "#with open('../generated/WIKIDATA/df_wikidata_final.pickle', 'wb') as f: \n",
    "    #pickle.dump(wiki, f)"
   ]
  },
  {
   "cell_type": "code",
   "execution_count": 5,
   "id": "8ecb356f",
   "metadata": {},
   "outputs": [],
   "source": [
    "#open pickle file (just to make sure it's properly saved)\n",
    "with open('../generated/WIKIDATA/df_wikidata_speakers.pickle', 'rb') as f: \n",
    "     df_wikidata = pickle.loads(f.read())"
   ]
  },
  {
   "cell_type": "code",
   "execution_count": 6,
   "id": "4850ed46",
   "metadata": {},
   "outputs": [
    {
     "data": {
      "text/html": [
       "<div>\n",
       "<style scoped>\n",
       "    .dataframe tbody tr th:only-of-type {\n",
       "        vertical-align: middle;\n",
       "    }\n",
       "\n",
       "    .dataframe tbody tr th {\n",
       "        vertical-align: top;\n",
       "    }\n",
       "\n",
       "    .dataframe thead th {\n",
       "        text-align: right;\n",
       "    }\n",
       "</style>\n",
       "<table border=\"1\" class=\"dataframe\">\n",
       "  <thead>\n",
       "    <tr style=\"text-align: right;\">\n",
       "      <th></th>\n",
       "      <th>id</th>\n",
       "      <th>aliases</th>\n",
       "      <th>label</th>\n",
       "      <th>genderlabel</th>\n",
       "      <th>dob_std</th>\n",
       "    </tr>\n",
       "  </thead>\n",
       "  <tbody>\n",
       "    <tr>\n",
       "      <th>0</th>\n",
       "      <td>Q23</td>\n",
       "      <td>[Washington, President Washington, G. Washingt...</td>\n",
       "      <td>George Washington</td>\n",
       "      <td>male</td>\n",
       "      <td>22.02.1732</td>\n",
       "    </tr>\n",
       "    <tr>\n",
       "      <th>1</th>\n",
       "      <td>Q42</td>\n",
       "      <td>[Douglas Noel Adams, Douglas Noël Adams, Dougl...</td>\n",
       "      <td>Douglas Adams</td>\n",
       "      <td>male</td>\n",
       "      <td>11.03.1952</td>\n",
       "    </tr>\n",
       "    <tr>\n",
       "      <th>2</th>\n",
       "      <td>Q1868</td>\n",
       "      <td>[Paul Marie Ghislain Otlet, Paul Marie Otlet]</td>\n",
       "      <td>Paul Otlet</td>\n",
       "      <td>male</td>\n",
       "      <td>23.08.1868</td>\n",
       "    </tr>\n",
       "    <tr>\n",
       "      <th>3</th>\n",
       "      <td>Q207</td>\n",
       "      <td>[George Walker Bush, Bush Jr., Dubya, GWB, Bus...</td>\n",
       "      <td>George W. Bush</td>\n",
       "      <td>male</td>\n",
       "      <td>06.07.1946</td>\n",
       "    </tr>\n",
       "    <tr>\n",
       "      <th>4</th>\n",
       "      <td>Q297</td>\n",
       "      <td>[Velázquez, Diego Rodríguez de Silva y Velázqu...</td>\n",
       "      <td>Diego Velázquez</td>\n",
       "      <td>male</td>\n",
       "      <td>06.06.1599</td>\n",
       "    </tr>\n",
       "    <tr>\n",
       "      <th>...</th>\n",
       "      <td>...</td>\n",
       "      <td>...</td>\n",
       "      <td>...</td>\n",
       "      <td>...</td>\n",
       "      <td>...</td>\n",
       "    </tr>\n",
       "    <tr>\n",
       "      <th>9055976</th>\n",
       "      <td>Q106406560</td>\n",
       "      <td>[Barker Howard]</td>\n",
       "      <td>Barker B. Howard</td>\n",
       "      <td>male</td>\n",
       "      <td>NaN</td>\n",
       "    </tr>\n",
       "    <tr>\n",
       "      <th>9055977</th>\n",
       "      <td>Q106406571</td>\n",
       "      <td>[Charles Macomber]</td>\n",
       "      <td>Charles H. Macomber</td>\n",
       "      <td>male</td>\n",
       "      <td>NaN</td>\n",
       "    </tr>\n",
       "    <tr>\n",
       "      <th>9055978</th>\n",
       "      <td>Q106406588</td>\n",
       "      <td>None</td>\n",
       "      <td>Dina David</td>\n",
       "      <td>female</td>\n",
       "      <td>01.04.1848</td>\n",
       "    </tr>\n",
       "    <tr>\n",
       "      <th>9055979</th>\n",
       "      <td>Q106406593</td>\n",
       "      <td>None</td>\n",
       "      <td>Irma Dexinger</td>\n",
       "      <td>female</td>\n",
       "      <td>18.03.1899</td>\n",
       "    </tr>\n",
       "    <tr>\n",
       "      <th>9055980</th>\n",
       "      <td>Q106406643</td>\n",
       "      <td>[Fred Trull]</td>\n",
       "      <td>Fred F. Trull</td>\n",
       "      <td>male</td>\n",
       "      <td>NaN</td>\n",
       "    </tr>\n",
       "  </tbody>\n",
       "</table>\n",
       "<p>9055981 rows × 5 columns</p>\n",
       "</div>"
      ],
      "text/plain": [
       "                 id                                            aliases  \\\n",
       "0               Q23  [Washington, President Washington, G. Washingt...   \n",
       "1               Q42  [Douglas Noel Adams, Douglas Noël Adams, Dougl...   \n",
       "2             Q1868      [Paul Marie Ghislain Otlet, Paul Marie Otlet]   \n",
       "3              Q207  [George Walker Bush, Bush Jr., Dubya, GWB, Bus...   \n",
       "4              Q297  [Velázquez, Diego Rodríguez de Silva y Velázqu...   \n",
       "...             ...                                                ...   \n",
       "9055976  Q106406560                                    [Barker Howard]   \n",
       "9055977  Q106406571                                 [Charles Macomber]   \n",
       "9055978  Q106406588                                               None   \n",
       "9055979  Q106406593                                               None   \n",
       "9055980  Q106406643                                       [Fred Trull]   \n",
       "\n",
       "                       label genderlabel     dob_std  \n",
       "0          George Washington        male  22.02.1732  \n",
       "1              Douglas Adams        male  11.03.1952  \n",
       "2                 Paul Otlet        male  23.08.1868  \n",
       "3             George W. Bush        male  06.07.1946  \n",
       "4            Diego Velázquez        male  06.06.1599  \n",
       "...                      ...         ...         ...  \n",
       "9055976     Barker B. Howard        male         NaN  \n",
       "9055977  Charles H. Macomber        male         NaN  \n",
       "9055978           Dina David      female  01.04.1848  \n",
       "9055979        Irma Dexinger      female  18.03.1899  \n",
       "9055980        Fred F. Trull        male         NaN  \n",
       "\n",
       "[9055981 rows x 5 columns]"
      ]
     },
     "execution_count": 6,
     "metadata": {},
     "output_type": "execute_result"
    }
   ],
   "source": [
    "df_wikidata"
   ]
  },
  {
   "cell_type": "code",
   "execution_count": 72,
   "id": "e46eb88a",
   "metadata": {},
   "outputs": [],
   "source": [
    "#keep columns of interest and change index\n",
    "df_wikidata_dico = df_wikidata.drop(columns = 'aliases')\n",
    "df_wikidata_dico.set_index('id',inplace = True)"
   ]
  },
  {
   "cell_type": "code",
   "execution_count": 73,
   "id": "8e36fc3f",
   "metadata": {},
   "outputs": [],
   "source": [
    "#create a dictionary with index as key\n",
    "dict_wikidata_people = df_wikidata_dico.to_dict('index')"
   ]
  },
  {
   "cell_type": "code",
   "execution_count": 76,
   "id": "bf645f0a",
   "metadata": {},
   "outputs": [],
   "source": [
    "#save into pickle\n",
    "with open('../generated/WIKIDATA/dict_wikidata_people.pickle', 'wb') as g:\n",
    "    pickle.dump(dict_wikidata_people, g, protocol=pickle.HIGHEST_PROTOCOL)"
   ]
  },
  {
   "cell_type": "markdown",
   "id": "31715611-0f01-42a8-9221-d7c3afd55887",
   "metadata": {},
   "source": [
    "# Parsing WIKIDATA for realease date of film\n",
    "This section parse the wkidata dataset in order to get release date of films and gender of actors/crew based on IMDb id"
   ]
  },
  {
   "cell_type": "code",
   "execution_count": null,
   "id": "9a11e6ce-8570-4f4a-8716-d708bb64d99f",
   "metadata": {},
   "outputs": [],
   "source": [
    "import gzip\n",
    "import pickle\n",
    "import bz2\n",
    "import json\n",
    "\n",
    "path_to_file = '../data/wikidata-20211122-all.json.gz'\n",
    "path_to_out_nconst = '../temp/QUOTEBANK/nconst_dict.bz2.json'\n",
    "path_to_out_tconst = '../temp/QUOTEBANK/tconst_dict.bz2.json'\n",
    "with open('../generated/IMDb/nconst_list.pickle', 'rb') as f:\n",
    "    nconst_list = pickle.loads(f.read())\n",
    "with open('../generated/IMDb/tconst_list.pickle', 'rb') as f:\n",
    "    tconst_list = pickle.loads(f.read())\n",
    "\n",
    "print(\"Starting\")\n",
    "\n",
    "n, m = 0, 0\n",
    "# Do not enforce encoding here since the input encoding is correct\n",
    "with bz2.open(path_to_out_nconst, 'wb') as nconst_file:\n",
    "    with bz2.open(path_to_out_tconst, 'wb') as tconst_file:\n",
    "        with gzip.open(path_to_file, 'rb') as s_file:\n",
    "            for instance in s_file:\n",
    "                instance = instance.decode('utf-8')\n",
    "                instance = instance[:-2]\n",
    "                if len(instance) == 0:\n",
    "                    continue\n",
    "                try:\n",
    "                    s = json.loads(instance.strip(\"\\n\"))\n",
    "                except:\n",
    "                    continue\n",
    "\n",
    "                if s.get(\"labels\", {}).get(\"en\") is not None:\n",
    "                    s[\"label\"] = s[\"labels\"][\"en\"][\"value\"]\n",
    "                if s.get(\"labels\") is not None:\n",
    "                    del s[\"labels\"]\n",
    "                else:\n",
    "                    continue\n",
    "\n",
    "                # Occupation\n",
    "                if len(s.get(\"claims\", {}).get(\"P345\", [])) > 0:\n",
    "                    result = {}\n",
    "                    try:\n",
    "                        ID = s[\"claims\"][\"P345\"][0]['mainsnak']['datavalue']['value']\n",
    "                    except KeyError:\n",
    "                        continue\n",
    "                    if ID in nconst_list:\n",
    "                        n += 1\n",
    "                        result['nconst'] = ID\n",
    "                        try:\n",
    "                            gender = s[\"claims\"][\"P21\"][0]['mainsnak']['datavalue']['value']['id']\n",
    "                        except KeyError:\n",
    "                            result['gender'] = None\n",
    "                        else:\n",
    "                            result['gender'] = gender\n",
    "                        try:\n",
    "                            dob = s[\"claims\"][\"P569\"][0]['mainsnak']['datavalue']['value']['time']\n",
    "                        except KeyError:\n",
    "                            result['dob'] = None\n",
    "                        else:\n",
    "                            result['dob'] = dob\n",
    "                        nconst_file.write((json.dumps(result) + '\\n').encode('utf-8'))\n",
    "                    elif ID in tconst_list:\n",
    "                        m += 1\n",
    "                        result['tconst'] = ID\n",
    "                        try:\n",
    "                            for e in s[\"claims\"][\"P577\"]:\n",
    "                                if 'qualifiers' in e.keys():\n",
    "                                    for f in e['qualifiers']['P291']:\n",
    "                                        if f['datavalue']['value']['id'] == 'Q30':\n",
    "                                            result['publicy_place'] = 'Q30'\n",
    "                                            result['publicy_date'] = e['mainsnak']['datavalue']['value']['time']\n",
    "\n",
    "                            if 'publicy_date' not in result.keys():\n",
    "                                result['publicy_place'] = 'Unknown'\n",
    "                                result['publicy_date'] = s[\"claims\"][\"P577\"][0]['mainsnak']['datavalue']['value']['time']\n",
    "                        except KeyError:\n",
    "                            result['publicy_place'] = None\n",
    "                            result['publicy_date'] = None\n",
    "                        tconst_file.write((json.dumps(result) + '\\n').encode('utf-8'))\n",
    "\n",
    "\n",
    "print(\"Finish\")"
   ]
  }
 ],
 "metadata": {
  "kernelspec": {
   "display_name": "Python 3 (ipykernel)",
   "language": "python",
   "name": "python3"
  },
  "language_info": {
   "codemirror_mode": {
    "name": "ipython",
    "version": 3
   },
   "file_extension": ".py",
   "mimetype": "text/x-python",
   "name": "python",
   "nbconvert_exporter": "python",
   "pygments_lexer": "ipython3",
   "version": "3.8.11"
  }
 },
 "nbformat": 4,
 "nbformat_minor": 5
}
