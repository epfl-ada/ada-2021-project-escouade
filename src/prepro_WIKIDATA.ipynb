{
 "cells": [
  {
   "cell_type": "code",
   "execution_count": 1,
   "id": "5b07368c",
   "metadata": {
    "tags": []
   },
   "outputs": [],
   "source": [
    "import bz2\n",
    "import json\n",
    "import numpy as np\n",
    "import pandas as pd\n",
    "import spacy\n",
    "import pickle\n",
    "from pathlib import Path\n",
    "from collections import defaultdict\n",
    "from datetime import datetime\n",
    "\n",
    "from IPython.display import display, HTML\n",
    "\n",
    "from ressources import config"
   ]
  },
  {
   "cell_type": "code",
   "execution_count": 2,
   "id": "7dca3f7c",
   "metadata": {
    "tags": []
   },
   "outputs": [],
   "source": [
    "RAW_DATA_FOLDER = config.RAW_DATA_FOLDER\n",
    "GENERATED_DATA_FOLDER = config.GENERATED_DATA_FOLDER"
   ]
  },
  {
   "cell_type": "markdown",
   "id": "dbdae98c-4444-4248-9525-38eb898b976f",
   "metadata": {},
   "source": [
    "## WIKIDATA Dataset\n",
    "Exploring and filtering of Wikidata Dataset"
   ]
  },
  {
   "cell_type": "code",
   "execution_count": 3,
   "id": "dfa85e9e-0b0c-4936-9005-ef7f40f2862a",
   "metadata": {
    "tags": []
   },
   "outputs": [
    {
     "name": "stdout",
     "output_type": "stream",
     "text": [
      "True\n",
      "(9055981, 5)\n"
     ]
    },
    {
     "data": {
      "text/html": [
       "<div>\n",
       "<style scoped>\n",
       "    .dataframe tbody tr th:only-of-type {\n",
       "        vertical-align: middle;\n",
       "    }\n",
       "\n",
       "    .dataframe tbody tr th {\n",
       "        vertical-align: top;\n",
       "    }\n",
       "\n",
       "    .dataframe thead th {\n",
       "        text-align: right;\n",
       "    }\n",
       "</style>\n",
       "<table border=\"1\" class=\"dataframe\">\n",
       "  <thead>\n",
       "    <tr style=\"text-align: right;\">\n",
       "      <th></th>\n",
       "      <th>id</th>\n",
       "      <th>aliases</th>\n",
       "      <th>label</th>\n",
       "      <th>date_of_birth</th>\n",
       "      <th>gender</th>\n",
       "    </tr>\n",
       "  </thead>\n",
       "  <tbody>\n",
       "    <tr>\n",
       "      <th>2081222</th>\n",
       "      <td>Q95333820</td>\n",
       "      <td>None</td>\n",
       "      <td>Andreas Loder</td>\n",
       "      <td>None</td>\n",
       "      <td>[Q6581097]</td>\n",
       "    </tr>\n",
       "    <tr>\n",
       "      <th>5788828</th>\n",
       "      <td>Q4786824</td>\n",
       "      <td>None</td>\n",
       "      <td>Archie Whyte</td>\n",
       "      <td>[+1919-07-17T00:00:00Z]</td>\n",
       "      <td>[Q6581097]</td>\n",
       "    </tr>\n",
       "  </tbody>\n",
       "</table>\n",
       "</div>"
      ],
      "text/plain": [
       "                id aliases          label            date_of_birth      gender\n",
       "2081222  Q95333820    None  Andreas Loder                     None  [Q6581097]\n",
       "5788828   Q4786824    None   Archie Whyte  [+1919-07-17T00:00:00Z]  [Q6581097]"
      ]
     },
     "execution_count": 3,
     "metadata": {},
     "output_type": "execute_result"
    }
   ],
   "source": [
    "# opening the parquet data\n",
    "wiki = pd.read_parquet(RAW_DATA_FOLDER / 'WIKIDATA')\n",
    "wiki = wiki[['id','aliases', 'label','date_of_birth','gender']]\n",
    "# Wikidata is unique so there's no double\n",
    "print(wiki['id'].is_unique)\n",
    "print(wiki.shape)\n",
    "wiki.sample(2)"
   ]
  },
  {
   "cell_type": "code",
   "execution_count": 4,
   "id": "d753a0e6-9d1b-4953-8344-0730c2263208",
   "metadata": {},
   "outputs": [
    {
     "data": {
      "text/html": [
       "<div>\n",
       "<style scoped>\n",
       "    .dataframe tbody tr th:only-of-type {\n",
       "        vertical-align: middle;\n",
       "    }\n",
       "\n",
       "    .dataframe tbody tr th {\n",
       "        vertical-align: top;\n",
       "    }\n",
       "\n",
       "    .dataframe thead th {\n",
       "        text-align: right;\n",
       "    }\n",
       "</style>\n",
       "<table border=\"1\" class=\"dataframe\">\n",
       "  <thead>\n",
       "    <tr style=\"text-align: right;\">\n",
       "      <th></th>\n",
       "      <th>id</th>\n",
       "      <th>aliases</th>\n",
       "      <th>label</th>\n",
       "      <th>date_of_birth</th>\n",
       "      <th>gender</th>\n",
       "    </tr>\n",
       "  </thead>\n",
       "  <tbody>\n",
       "    <tr>\n",
       "      <th>3166473</th>\n",
       "      <td>Q92947683</td>\n",
       "      <td>None</td>\n",
       "      <td>Umanga De Silva</td>\n",
       "      <td>None</td>\n",
       "      <td>None</td>\n",
       "    </tr>\n",
       "    <tr>\n",
       "      <th>6673722</th>\n",
       "      <td>Q98613747</td>\n",
       "      <td>None</td>\n",
       "      <td>I Cori Baill</td>\n",
       "      <td>None</td>\n",
       "      <td>None</td>\n",
       "    </tr>\n",
       "  </tbody>\n",
       "</table>\n",
       "</div>"
      ],
      "text/plain": [
       "                id aliases            label date_of_birth gender\n",
       "3166473  Q92947683    None  Umanga De Silva          None   None\n",
       "6673722  Q98613747    None     I Cori Baill          None   None"
      ]
     },
     "execution_count": 4,
     "metadata": {},
     "output_type": "execute_result"
    }
   ],
   "source": [
    "wiki.sample(2)"
   ]
  },
  {
   "cell_type": "code",
   "execution_count": 5,
   "id": "8d31bd88-18bc-4f51-a8ca-8d2257ea3012",
   "metadata": {
    "tags": []
   },
   "outputs": [],
   "source": [
    "# Function to get rid of list in a column\n",
    "\n",
    "def try_join(cell):\n",
    "    try:\n",
    "        return ' '.join(map(str, cell))\n",
    "    except TypeError:\n",
    "        return np.nan"
   ]
  },
  {
   "cell_type": "code",
   "execution_count": 6,
   "id": "0bf6b1ce-e671-477d-8bc4-d9d404730905",
   "metadata": {},
   "outputs": [],
   "source": [
    "# converting gender column (type: list / object) to a str\n",
    "wiki['genderlabel'] = [try_join(cell) for cell in wiki['gender']]"
   ]
  },
  {
   "cell_type": "code",
   "execution_count": 7,
   "id": "dbcc8c4f-16de-4905-adc4-e46cdcc0e387",
   "metadata": {},
   "outputs": [],
   "source": [
    "gender_dict = defaultdict(lambda : 'other')\n",
    "gender_dict.update({\"Q6581097\" : 'male', \"Q6581072\" : 'female'})\n",
    "wiki['genderlabel'] = wiki['genderlabel'].map(gender_dict)"
   ]
  },
  {
   "cell_type": "code",
   "execution_count": 8,
   "id": "1f1d05bc-597b-44bc-adaf-832ece8cf07c",
   "metadata": {
    "tags": []
   },
   "outputs": [
    {
     "data": {
      "text/plain": [
       "male      5418464\n",
       "other     1953347\n",
       "female    1684170\n",
       "Name: genderlabel, dtype: int64"
      ]
     },
     "execution_count": 8,
     "metadata": {},
     "output_type": "execute_result"
    }
   ],
   "source": [
    "# Check we only have male female and other in Wikidata\n",
    "wiki['genderlabel'].value_counts()"
   ]
  },
  {
   "cell_type": "code",
   "execution_count": 9,
   "id": "8dcf5f9f-deed-4dc3-b15e-fa63fded8d3b",
   "metadata": {},
   "outputs": [],
   "source": [
    "# converting date_of_birth column (type: list / object) to a str\n",
    "wiki['date_of_birth'] = [try_join(cell) for cell in wiki['date_of_birth']]"
   ]
  },
  {
   "cell_type": "code",
   "execution_count": 10,
   "id": "f3365bc2-d2aa-4e4b-9e0f-68a30fdb6196",
   "metadata": {},
   "outputs": [
    {
     "data": {
      "text/plain": [
       "0    +1732-02-22T00:00:00Z\n",
       "1    +1952-03-11T00:00:00Z\n",
       "2    +1868-08-23T00:00:00Z\n",
       "3    +1946-07-06T00:00:00Z\n",
       "4    +1599-06-06T00:00:00Z\n",
       "Name: date_of_birth, dtype: object"
      ]
     },
     "execution_count": 10,
     "metadata": {},
     "output_type": "execute_result"
    }
   ],
   "source": [
    "# TODO: parse date and time to extract only date and calculate age of the speaker\n",
    "wiki['date_of_birth'].head(5)"
   ]
  },
  {
   "cell_type": "code",
   "execution_count": 11,
   "id": "65713467-4215-4c1c-aa04-8132d673ab62",
   "metadata": {},
   "outputs": [],
   "source": [
    "def parse_date(date):\n",
    "    try:\n",
    "        if not isinstance(date, str):\n",
    "            return np.NaN\n",
    "        elif len(date)%21 != 0:\n",
    "            return np.NaN\n",
    "        elif date == 'None' or date[0] == '-':\n",
    "            return np.NaN\n",
    "        elif '+0000-00-00T00:00:00Z' in date[0:21] :\n",
    "            return '01.01.0001'\n",
    "        elif '-00-00T00:00:00' in date[0:21] :\n",
    "            return datetime.strptime(date[0:21], '+%Y-00-00T00:00:00Z').strftime('%d.%m.%Y')\n",
    "        elif '-00T00:00:00' in date[0:21] :\n",
    "            return datetime.strptime(date[0:21], '+%Y-%m-00T00:00:00Z').strftime('%d.%m.%Y')\n",
    "        elif '+1939-02-29T00:00:00Z' in date:\n",
    "            return '28.02.1939'\n",
    "        else :\n",
    "            return datetime.strptime(date[0:21], '+%Y-%m-%dT%H:%M:%SZ').strftime('%d.%m.%Y')\n",
    "    except ValueError as e:\n",
    "        if str(e) == 'day is out of range for month':\n",
    "            return datetime.strptime(date[0:8], '+%Y-%m').strftime('%d.%m.%Y')\n",
    "        else:\n",
    "            print(date)\n",
    "            raise e"
   ]
  },
  {
   "cell_type": "code",
   "execution_count": 12,
   "id": "798854ad-fa8b-4431-9d4d-1ecaf3ad8a59",
   "metadata": {},
   "outputs": [],
   "source": [
    "wiki['dob_std'] = wiki['date_of_birth'].map(parse_date)"
   ]
  },
  {
   "cell_type": "code",
   "execution_count": 13,
   "id": "83ae9875-ee92-4e47-948f-6ed0925c9d34",
   "metadata": {},
   "outputs": [
    {
     "data": {
      "text/plain": [
       "0    22.02.1732\n",
       "1    11.03.1952\n",
       "2    23.08.1868\n",
       "3    06.07.1946\n",
       "4    06.06.1599\n",
       "Name: dob_std, dtype: object"
      ]
     },
     "execution_count": 13,
     "metadata": {},
     "output_type": "execute_result"
    }
   ],
   "source": [
    "wiki['dob_std'].head()"
   ]
  },
  {
   "cell_type": "code",
   "execution_count": 14,
   "id": "4c7d5a1f-eaa9-4fab-bb03-f009d1d1ed82",
   "metadata": {},
   "outputs": [
    {
     "data": {
      "text/plain": [
       "4149336"
      ]
     },
     "execution_count": 14,
     "metadata": {},
     "output_type": "execute_result"
    }
   ],
   "source": [
    "wiki['dob_std'].isna().sum()"
   ]
  },
  {
   "cell_type": "code",
   "execution_count": 16,
   "id": "bcc99605-efba-46fc-8038-16c3e6289c25",
   "metadata": {},
   "outputs": [],
   "source": [
    "#wiki['dob_std_auto'] = pd.to_datetime(wiki['date_of_birth'], errors = 'coerce', infer_datetime_format = True, exact = False)"
   ]
  },
  {
   "cell_type": "code",
   "execution_count": 17,
   "id": "aa793986-1eee-482e-a493-cf69f26d0ff6",
   "metadata": {},
   "outputs": [
    {
     "data": {
      "text/plain": [
       "9055981"
      ]
     },
     "execution_count": 17,
     "metadata": {},
     "output_type": "execute_result"
    }
   ],
   "source": [
    "#wiki['dob_std_auto'].isna().sum()"
   ]
  },
  {
   "cell_type": "code",
   "execution_count": 19,
   "id": "cf8fed80-ae3c-49e1-882a-76dcdeb4498e",
   "metadata": {},
   "outputs": [
    {
     "data": {
      "text/plain": [
       "Series([], Name: dob_std_auto, dtype: int64)"
      ]
     },
     "execution_count": 19,
     "metadata": {},
     "output_type": "execute_result"
    }
   ],
   "source": [
    "wiki['dob_std_auto'].value_counts()"
   ]
  },
  {
   "cell_type": "code",
   "execution_count": 25,
   "id": "e5512ac3-5c9a-469a-91c8-e7c55fc208b3",
   "metadata": {},
   "outputs": [
    {
     "data": {
      "text/plain": [
       "['id', 'aliases', 'label', 'genderlabel', 'dob_std']"
      ]
     },
     "execution_count": 25,
     "metadata": {},
     "output_type": "execute_result"
    }
   ],
   "source": [
    "wiki.drop(columns = 'gender', inplace=True)\n",
    "list(wiki)"
   ]
  },
  {
   "cell_type": "code",
   "execution_count": 26,
   "id": "a23b64b6-c8fe-4ff4-8887-cf68c2116728",
   "metadata": {},
   "outputs": [
    {
     "data": {
      "text/html": [
       "<div>\n",
       "<style scoped>\n",
       "    .dataframe tbody tr th:only-of-type {\n",
       "        vertical-align: middle;\n",
       "    }\n",
       "\n",
       "    .dataframe tbody tr th {\n",
       "        vertical-align: top;\n",
       "    }\n",
       "\n",
       "    .dataframe thead th {\n",
       "        text-align: right;\n",
       "    }\n",
       "</style>\n",
       "<table border=\"1\" class=\"dataframe\">\n",
       "  <thead>\n",
       "    <tr style=\"text-align: right;\">\n",
       "      <th></th>\n",
       "      <th>id</th>\n",
       "      <th>aliases</th>\n",
       "      <th>label</th>\n",
       "      <th>genderlabel</th>\n",
       "      <th>dob_std</th>\n",
       "    </tr>\n",
       "  </thead>\n",
       "  <tbody>\n",
       "    <tr>\n",
       "      <th>0</th>\n",
       "      <td>Q23</td>\n",
       "      <td>[Washington, President Washington, G. Washingt...</td>\n",
       "      <td>George Washington</td>\n",
       "      <td>male</td>\n",
       "      <td>22.02.1732</td>\n",
       "    </tr>\n",
       "    <tr>\n",
       "      <th>1</th>\n",
       "      <td>Q42</td>\n",
       "      <td>[Douglas Noel Adams, Douglas Noël Adams, Dougl...</td>\n",
       "      <td>Douglas Adams</td>\n",
       "      <td>male</td>\n",
       "      <td>11.03.1952</td>\n",
       "    </tr>\n",
       "    <tr>\n",
       "      <th>2</th>\n",
       "      <td>Q1868</td>\n",
       "      <td>[Paul Marie Ghislain Otlet, Paul Marie Otlet]</td>\n",
       "      <td>Paul Otlet</td>\n",
       "      <td>male</td>\n",
       "      <td>23.08.1868</td>\n",
       "    </tr>\n",
       "    <tr>\n",
       "      <th>3</th>\n",
       "      <td>Q207</td>\n",
       "      <td>[George Walker Bush, Bush Jr., Dubya, GWB, Bus...</td>\n",
       "      <td>George W. Bush</td>\n",
       "      <td>male</td>\n",
       "      <td>06.07.1946</td>\n",
       "    </tr>\n",
       "    <tr>\n",
       "      <th>4</th>\n",
       "      <td>Q297</td>\n",
       "      <td>[Velázquez, Diego Rodríguez de Silva y Velázqu...</td>\n",
       "      <td>Diego Velázquez</td>\n",
       "      <td>male</td>\n",
       "      <td>06.06.1599</td>\n",
       "    </tr>\n",
       "    <tr>\n",
       "      <th>...</th>\n",
       "      <td>...</td>\n",
       "      <td>...</td>\n",
       "      <td>...</td>\n",
       "      <td>...</td>\n",
       "      <td>...</td>\n",
       "    </tr>\n",
       "    <tr>\n",
       "      <th>9055976</th>\n",
       "      <td>Q106406560</td>\n",
       "      <td>[Barker Howard]</td>\n",
       "      <td>Barker B. Howard</td>\n",
       "      <td>male</td>\n",
       "      <td>NaN</td>\n",
       "    </tr>\n",
       "    <tr>\n",
       "      <th>9055977</th>\n",
       "      <td>Q106406571</td>\n",
       "      <td>[Charles Macomber]</td>\n",
       "      <td>Charles H. Macomber</td>\n",
       "      <td>male</td>\n",
       "      <td>NaN</td>\n",
       "    </tr>\n",
       "    <tr>\n",
       "      <th>9055978</th>\n",
       "      <td>Q106406588</td>\n",
       "      <td>None</td>\n",
       "      <td>Dina David</td>\n",
       "      <td>female</td>\n",
       "      <td>01.04.1848</td>\n",
       "    </tr>\n",
       "    <tr>\n",
       "      <th>9055979</th>\n",
       "      <td>Q106406593</td>\n",
       "      <td>None</td>\n",
       "      <td>Irma Dexinger</td>\n",
       "      <td>female</td>\n",
       "      <td>18.03.1899</td>\n",
       "    </tr>\n",
       "    <tr>\n",
       "      <th>9055980</th>\n",
       "      <td>Q106406643</td>\n",
       "      <td>[Fred Trull]</td>\n",
       "      <td>Fred F. Trull</td>\n",
       "      <td>male</td>\n",
       "      <td>NaN</td>\n",
       "    </tr>\n",
       "  </tbody>\n",
       "</table>\n",
       "<p>9055981 rows × 5 columns</p>\n",
       "</div>"
      ],
      "text/plain": [
       "                 id                                            aliases  \\\n",
       "0               Q23  [Washington, President Washington, G. Washingt...   \n",
       "1               Q42  [Douglas Noel Adams, Douglas Noël Adams, Dougl...   \n",
       "2             Q1868      [Paul Marie Ghislain Otlet, Paul Marie Otlet]   \n",
       "3              Q207  [George Walker Bush, Bush Jr., Dubya, GWB, Bus...   \n",
       "4              Q297  [Velázquez, Diego Rodríguez de Silva y Velázqu...   \n",
       "...             ...                                                ...   \n",
       "9055976  Q106406560                                    [Barker Howard]   \n",
       "9055977  Q106406571                                 [Charles Macomber]   \n",
       "9055978  Q106406588                                               None   \n",
       "9055979  Q106406593                                               None   \n",
       "9055980  Q106406643                                       [Fred Trull]   \n",
       "\n",
       "                       label genderlabel     dob_std  \n",
       "0          George Washington        male  22.02.1732  \n",
       "1              Douglas Adams        male  11.03.1952  \n",
       "2                 Paul Otlet        male  23.08.1868  \n",
       "3             George W. Bush        male  06.07.1946  \n",
       "4            Diego Velázquez        male  06.06.1599  \n",
       "...                      ...         ...         ...  \n",
       "9055976     Barker B. Howard        male         NaN  \n",
       "9055977  Charles H. Macomber        male         NaN  \n",
       "9055978           Dina David      female  01.04.1848  \n",
       "9055979        Irma Dexinger      female  18.03.1899  \n",
       "9055980        Fred F. Trull        male         NaN  \n",
       "\n",
       "[9055981 rows x 5 columns]"
      ]
     },
     "execution_count": 26,
     "metadata": {},
     "output_type": "execute_result"
    }
   ],
   "source": [
    "wiki"
   ]
  },
  {
   "cell_type": "code",
   "execution_count": 35,
   "id": "c5304dfb-9b4b-471c-a92d-10ace2a3591c",
   "metadata": {},
   "outputs": [],
   "source": [
    "wiki.to_pickle('../generated/WIKIDATA/df_wikidata_final.pickle')"
   ]
  },
  {
   "cell_type": "code",
   "execution_count": null,
   "id": "4b4cce22-c0d5-4801-8f17-25d87f0b0305",
   "metadata": {},
   "outputs": [],
   "source": [
    "#with open('../generated/WIKIDATA/df_wikidata_final.pickle', 'wb') as f: \n",
    "    #pickle.dump(wiki, f)"
   ]
  },
  {
   "cell_type": "code",
   "execution_count": 36,
   "id": "8a1ab19e-2d81-43ed-8ca4-0df0ff559c7d",
   "metadata": {},
   "outputs": [],
   "source": [
    "with open('../generated/WIKIDATA/df_wikidata_final.pickle', 'rb') as f: \n",
    "     df_wikidata = pickle.loads(f.read())"
   ]
  },
  {
   "cell_type": "code",
   "execution_count": 37,
   "id": "b5e8d32f-7964-4ca0-8e9c-772ba7558f02",
   "metadata": {},
   "outputs": [
    {
     "data": {
      "text/html": [
       "<div>\n",
       "<style scoped>\n",
       "    .dataframe tbody tr th:only-of-type {\n",
       "        vertical-align: middle;\n",
       "    }\n",
       "\n",
       "    .dataframe tbody tr th {\n",
       "        vertical-align: top;\n",
       "    }\n",
       "\n",
       "    .dataframe thead th {\n",
       "        text-align: right;\n",
       "    }\n",
       "</style>\n",
       "<table border=\"1\" class=\"dataframe\">\n",
       "  <thead>\n",
       "    <tr style=\"text-align: right;\">\n",
       "      <th></th>\n",
       "      <th>id</th>\n",
       "      <th>aliases</th>\n",
       "      <th>label</th>\n",
       "      <th>genderlabel</th>\n",
       "      <th>dob_std</th>\n",
       "    </tr>\n",
       "  </thead>\n",
       "  <tbody>\n",
       "    <tr>\n",
       "      <th>0</th>\n",
       "      <td>Q23</td>\n",
       "      <td>[Washington, President Washington, G. Washingt...</td>\n",
       "      <td>George Washington</td>\n",
       "      <td>male</td>\n",
       "      <td>22.02.1732</td>\n",
       "    </tr>\n",
       "    <tr>\n",
       "      <th>1</th>\n",
       "      <td>Q42</td>\n",
       "      <td>[Douglas Noel Adams, Douglas Noël Adams, Dougl...</td>\n",
       "      <td>Douglas Adams</td>\n",
       "      <td>male</td>\n",
       "      <td>11.03.1952</td>\n",
       "    </tr>\n",
       "    <tr>\n",
       "      <th>2</th>\n",
       "      <td>Q1868</td>\n",
       "      <td>[Paul Marie Ghislain Otlet, Paul Marie Otlet]</td>\n",
       "      <td>Paul Otlet</td>\n",
       "      <td>male</td>\n",
       "      <td>23.08.1868</td>\n",
       "    </tr>\n",
       "    <tr>\n",
       "      <th>3</th>\n",
       "      <td>Q207</td>\n",
       "      <td>[George Walker Bush, Bush Jr., Dubya, GWB, Bus...</td>\n",
       "      <td>George W. Bush</td>\n",
       "      <td>male</td>\n",
       "      <td>06.07.1946</td>\n",
       "    </tr>\n",
       "    <tr>\n",
       "      <th>4</th>\n",
       "      <td>Q297</td>\n",
       "      <td>[Velázquez, Diego Rodríguez de Silva y Velázqu...</td>\n",
       "      <td>Diego Velázquez</td>\n",
       "      <td>male</td>\n",
       "      <td>06.06.1599</td>\n",
       "    </tr>\n",
       "    <tr>\n",
       "      <th>...</th>\n",
       "      <td>...</td>\n",
       "      <td>...</td>\n",
       "      <td>...</td>\n",
       "      <td>...</td>\n",
       "      <td>...</td>\n",
       "    </tr>\n",
       "    <tr>\n",
       "      <th>9055976</th>\n",
       "      <td>Q106406560</td>\n",
       "      <td>[Barker Howard]</td>\n",
       "      <td>Barker B. Howard</td>\n",
       "      <td>male</td>\n",
       "      <td>NaN</td>\n",
       "    </tr>\n",
       "    <tr>\n",
       "      <th>9055977</th>\n",
       "      <td>Q106406571</td>\n",
       "      <td>[Charles Macomber]</td>\n",
       "      <td>Charles H. Macomber</td>\n",
       "      <td>male</td>\n",
       "      <td>NaN</td>\n",
       "    </tr>\n",
       "    <tr>\n",
       "      <th>9055978</th>\n",
       "      <td>Q106406588</td>\n",
       "      <td>None</td>\n",
       "      <td>Dina David</td>\n",
       "      <td>female</td>\n",
       "      <td>01.04.1848</td>\n",
       "    </tr>\n",
       "    <tr>\n",
       "      <th>9055979</th>\n",
       "      <td>Q106406593</td>\n",
       "      <td>None</td>\n",
       "      <td>Irma Dexinger</td>\n",
       "      <td>female</td>\n",
       "      <td>18.03.1899</td>\n",
       "    </tr>\n",
       "    <tr>\n",
       "      <th>9055980</th>\n",
       "      <td>Q106406643</td>\n",
       "      <td>[Fred Trull]</td>\n",
       "      <td>Fred F. Trull</td>\n",
       "      <td>male</td>\n",
       "      <td>NaN</td>\n",
       "    </tr>\n",
       "  </tbody>\n",
       "</table>\n",
       "<p>9055981 rows × 5 columns</p>\n",
       "</div>"
      ],
      "text/plain": [
       "                 id                                            aliases  \\\n",
       "0               Q23  [Washington, President Washington, G. Washingt...   \n",
       "1               Q42  [Douglas Noel Adams, Douglas Noël Adams, Dougl...   \n",
       "2             Q1868      [Paul Marie Ghislain Otlet, Paul Marie Otlet]   \n",
       "3              Q207  [George Walker Bush, Bush Jr., Dubya, GWB, Bus...   \n",
       "4              Q297  [Velázquez, Diego Rodríguez de Silva y Velázqu...   \n",
       "...             ...                                                ...   \n",
       "9055976  Q106406560                                    [Barker Howard]   \n",
       "9055977  Q106406571                                 [Charles Macomber]   \n",
       "9055978  Q106406588                                               None   \n",
       "9055979  Q106406593                                               None   \n",
       "9055980  Q106406643                                       [Fred Trull]   \n",
       "\n",
       "                       label genderlabel     dob_std  \n",
       "0          George Washington        male  22.02.1732  \n",
       "1              Douglas Adams        male  11.03.1952  \n",
       "2                 Paul Otlet        male  23.08.1868  \n",
       "3             George W. Bush        male  06.07.1946  \n",
       "4            Diego Velázquez        male  06.06.1599  \n",
       "...                      ...         ...         ...  \n",
       "9055976     Barker B. Howard        male         NaN  \n",
       "9055977  Charles H. Macomber        male         NaN  \n",
       "9055978           Dina David      female  01.04.1848  \n",
       "9055979        Irma Dexinger      female  18.03.1899  \n",
       "9055980        Fred F. Trull        male         NaN  \n",
       "\n",
       "[9055981 rows x 5 columns]"
      ]
     },
     "execution_count": 37,
     "metadata": {},
     "output_type": "execute_result"
    }
   ],
   "source": [
    "df_wikidata"
   ]
  },
  {
   "cell_type": "code",
   "execution_count": null,
   "id": "012fc310-30d0-4503-856c-7769e8f46d6a",
   "metadata": {},
   "outputs": [],
   "source": []
  }
 ],
 "metadata": {
  "kernelspec": {
   "display_name": "Python [conda env:ada] *",
   "language": "python",
   "name": "conda-env-ada-py"
  },
  "language_info": {
   "codemirror_mode": {
    "name": "ipython",
    "version": 3
   },
   "file_extension": ".py",
   "mimetype": "text/x-python",
   "name": "python",
   "nbconvert_exporter": "python",
   "pygments_lexer": "ipython3",
   "version": "3.8.11"
  }
 },
 "nbformat": 4,
 "nbformat_minor": 5
}
