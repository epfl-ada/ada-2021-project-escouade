{
 "cells": [
  {
   "cell_type": "code",
   "execution_count": 1,
   "metadata": {
    "tags": []
   },
   "outputs": [],
   "source": [
    "import bz2\n",
    "import json\n",
    "import numpy as np\n",
    "import pandas as pd\n",
    "import spacy\n",
    "import pickle\n",
    "from pathlib import Path\n",
    "from collections import defaultdict\n",
    "from datetime import datetime\n",
    "\n",
    "from IPython.display import display, HTML\n",
    "\n",
    "from ressources import config"
   ]
  },
  {
   "cell_type": "code",
   "execution_count": 2,
   "metadata": {
    "tags": []
   },
   "outputs": [],
   "source": [
    "RAW_DATA_FOLDER = config.RAW_DATA_FOLDER\n",
    "GENERATED_DATA_FOLDER = config.GENERATED_DATA_FOLDER"
   ]
  },
  {
   "cell_type": "markdown",
   "metadata": {},
   "source": [
    "## WIKIDATA Dataset\n",
    "Exploring and filtering of Wikidata Dataset"
   ]
  },
  {
   "cell_type": "code",
   "execution_count": null,
   "metadata": {
    "tags": []
   },
   "outputs": [],
   "source": [
    "# opening the parquet data\n",
    "wiki = pd.read_parquet(RAW_DATA_FOLDER / 'WIKIDATA')\n",
    "wiki = wiki[['id','aliases', 'label','date_of_birth','gender']]\n",
    "# Wikidata is unique so there's no double\n",
    "print(wiki['id'].is_unique)\n",
    "print(wiki.shape)\n",
    "wiki.sample(2)"
   ]
  },
  {
   "cell_type": "code",
   "execution_count": null,
   "metadata": {},
   "outputs": [],
   "source": [
    "wiki.sample(2)"
   ]
  },
  {
   "cell_type": "code",
   "execution_count": null,
   "metadata": {
    "tags": []
   },
   "outputs": [],
   "source": [
    "# Function to get rid of list in a column\n",
    "\n",
    "def try_join(cell):\n",
    "    try:\n",
    "        return ' '.join(map(str, cell))\n",
    "    except TypeError:\n",
    "        return np.nan"
   ]
  },
  {
   "cell_type": "code",
   "execution_count": 6,
   "metadata": {},
   "outputs": [],
   "source": [
    "# converting gender column (type: list / object) to a str\n",
    "wiki['genderlabel'] = [try_join(cell) for cell in wiki['gender']]"
   ]
  },
  {
   "cell_type": "code",
   "execution_count": 7,
   "metadata": {},
   "outputs": [],
   "source": [
    "gender_dict = defaultdict(lambda : 'other')\n",
    "gender_dict.update({\"Q6581097\" : 'male', \"Q6581072\" : 'female'})\n",
    "wiki['genderlabel'] = wiki['genderlabel'].map(gender_dict)"
   ]
  },
  {
   "cell_type": "code",
   "execution_count": 8,
   "metadata": {
    "tags": []
   },
   "outputs": [
    {
     "data": {
      "text/plain": [
       "male      5418464\n",
       "other     1953347\n",
       "female    1684170\n",
       "Name: genderlabel, dtype: int64"
      ]
     },
     "execution_count": 8,
     "metadata": {},
     "output_type": "execute_result"
    }
   ],
   "source": [
    "# Check we only have male female and other in Wikidata\n",
    "wiki['genderlabel'].value_counts()"
   ]
  },
  {
   "cell_type": "code",
   "execution_count": 9,
   "metadata": {},
   "outputs": [],
   "source": [
    "# converting date_of_birth column (type: list / object) to a str\n",
    "wiki['date_of_birth'] = [try_join(cell) for cell in wiki['date_of_birth']]"
   ]
  },
  {
   "cell_type": "code",
   "execution_count": 10,
   "metadata": {},
   "outputs": [
    {
     "data": {
      "text/plain": [
       "0    +1732-02-22T00:00:00Z\n",
       "1    +1952-03-11T00:00:00Z\n",
       "2    +1868-08-23T00:00:00Z\n",
       "3    +1946-07-06T00:00:00Z\n",
       "4    +1599-06-06T00:00:00Z\n",
       "Name: date_of_birth, dtype: object"
      ]
     },
     "execution_count": 10,
     "metadata": {},
     "output_type": "execute_result"
    }
   ],
   "source": [
    "# TODO: parse date and time to extract only date and calculate age of the speaker\n",
    "wiki['date_of_birth'].head(5)"
   ]
  },
  {
   "cell_type": "code",
   "execution_count": 11,
   "metadata": {},
   "outputs": [],
   "source": [
    "def parse_date(date):\n",
    "    try:\n",
    "        if not isinstance(date, str):\n",
    "            return np.NaN\n",
    "        elif len(date)%21 != 0:\n",
    "            return np.NaN\n",
    "        elif date == 'None' or date[0] == '-':\n",
    "            return np.NaN\n",
    "        elif '+0000-00-00T00:00:00Z' in date[0:21] :\n",
    "            return '01.01.0001'\n",
    "        elif '-00-00T00:00:00' in date[0:21] :\n",
    "            return datetime.strptime(date[0:21], '+%Y-00-00T00:00:00Z').strftime('%d.%m.%Y')\n",
    "        elif '-00T00:00:00' in date[0:21] :\n",
    "            return datetime.strptime(date[0:21], '+%Y-%m-00T00:00:00Z').strftime('%d.%m.%Y')\n",
    "        elif '+1939-02-29T00:00:00Z' in date:\n",
    "            return '28.02.1939'\n",
    "        else :\n",
    "            return datetime.strptime(date[0:21], '+%Y-%m-%dT%H:%M:%SZ').strftime('%d.%m.%Y')\n",
    "    except ValueError as e:\n",
    "        if str(e) == 'day is out of range for month':\n",
    "            return datetime.strptime(date[0:8], '+%Y-%m').strftime('%d.%m.%Y')\n",
    "        else:\n",
    "            print(date)\n",
    "            raise e"
   ]
  },
  {
   "cell_type": "code",
   "execution_count": 12,
   "metadata": {},
   "outputs": [],
   "source": [
    "wiki['dob_std'] = wiki['date_of_birth'].map(parse_date)"
   ]
  },
  {
   "cell_type": "code",
   "execution_count": 13,
   "metadata": {},
   "outputs": [
    {
     "data": {
      "text/plain": [
       "0    22.02.1732\n",
       "1    11.03.1952\n",
       "2    23.08.1868\n",
       "3    06.07.1946\n",
       "4    06.06.1599\n",
       "Name: dob_std, dtype: object"
      ]
     },
     "execution_count": 13,
     "metadata": {},
     "output_type": "execute_result"
    }
   ],
   "source": [
    "wiki['dob_std'].head()"
   ]
  },
  {
   "cell_type": "code",
   "execution_count": 14,
   "metadata": {},
   "outputs": [
    {
     "data": {
      "text/plain": [
       "4149336"
      ]
     },
     "execution_count": 14,
     "metadata": {},
     "output_type": "execute_result"
    }
   ],
   "source": [
    "wiki['dob_std'].isna().sum()"
   ]
  },
  {
   "cell_type": "code",
   "execution_count": 16,
   "metadata": {},
   "outputs": [],
   "source": [
    "#wiki['dob_std_auto'] = pd.to_datetime(wiki['date_of_birth'], errors = 'coerce', infer_datetime_format = True, exact = False)"
   ]
  },
  {
   "cell_type": "code",
   "execution_count": 17,
   "metadata": {},
   "outputs": [
    {
     "data": {
      "text/plain": [
       "9055981"
      ]
     },
     "execution_count": 17,
     "metadata": {},
     "output_type": "execute_result"
    }
   ],
   "source": [
    "#wiki['dob_std_auto'].isna().sum()"
   ]
  },
  {
   "cell_type": "code",
   "execution_count": 19,
   "metadata": {},
   "outputs": [
    {
     "data": {
      "text/plain": [
       "Series([], Name: dob_std_auto, dtype: int64)"
      ]
     },
     "execution_count": 19,
     "metadata": {},
     "output_type": "execute_result"
    }
   ],
   "source": [
    "wiki['dob_std_auto'].value_counts()"
   ]
  },
  {
   "cell_type": "code",
   "execution_count": 25,
   "metadata": {},
   "outputs": [
    {
     "data": {
      "text/plain": [
       "['id', 'aliases', 'label', 'genderlabel', 'dob_std']"
      ]
     },
     "execution_count": 25,
     "metadata": {},
     "output_type": "execute_result"
    }
   ],
   "source": [
    "wiki.drop(columns = 'gender', inplace=True)\n",
    "list(wiki)"
   ]
  },
  {
   "cell_type": "code",
   "execution_count": 26,
   "metadata": {},
   "outputs": [
    {
     "data": {
      "text/html": [
       "<div>\n",
       "<style scoped>\n",
       "    .dataframe tbody tr th:only-of-type {\n",
       "        vertical-align: middle;\n",
       "    }\n",
       "\n",
       "    .dataframe tbody tr th {\n",
       "        vertical-align: top;\n",
       "    }\n",
       "\n",
       "    .dataframe thead th {\n",
       "        text-align: right;\n",
       "    }\n",
       "</style>\n",
       "<table border=\"1\" class=\"dataframe\">\n",
       "  <thead>\n",
       "    <tr style=\"text-align: right;\">\n",
       "      <th></th>\n",
       "      <th>id</th>\n",
       "      <th>aliases</th>\n",
       "      <th>label</th>\n",
       "      <th>genderlabel</th>\n",
       "      <th>dob_std</th>\n",
       "    </tr>\n",
       "  </thead>\n",
       "  <tbody>\n",
       "    <tr>\n",
       "      <th>0</th>\n",
       "      <td>Q23</td>\n",
       "      <td>[Washington, President Washington, G. Washingt...</td>\n",
       "      <td>George Washington</td>\n",
       "      <td>male</td>\n",
       "      <td>22.02.1732</td>\n",
       "    </tr>\n",
       "    <tr>\n",
       "      <th>1</th>\n",
       "      <td>Q42</td>\n",
       "      <td>[Douglas Noel Adams, Douglas Noël Adams, Dougl...</td>\n",
       "      <td>Douglas Adams</td>\n",
       "      <td>male</td>\n",
       "      <td>11.03.1952</td>\n",
       "    </tr>\n",
       "    <tr>\n",
       "      <th>2</th>\n",
       "      <td>Q1868</td>\n",
       "      <td>[Paul Marie Ghislain Otlet, Paul Marie Otlet]</td>\n",
       "      <td>Paul Otlet</td>\n",
       "      <td>male</td>\n",
       "      <td>23.08.1868</td>\n",
       "    </tr>\n",
       "    <tr>\n",
       "      <th>3</th>\n",
       "      <td>Q207</td>\n",
       "      <td>[George Walker Bush, Bush Jr., Dubya, GWB, Bus...</td>\n",
       "      <td>George W. Bush</td>\n",
       "      <td>male</td>\n",
       "      <td>06.07.1946</td>\n",
       "    </tr>\n",
       "    <tr>\n",
       "      <th>4</th>\n",
       "      <td>Q297</td>\n",
       "      <td>[Velázquez, Diego Rodríguez de Silva y Velázqu...</td>\n",
       "      <td>Diego Velázquez</td>\n",
       "      <td>male</td>\n",
       "      <td>06.06.1599</td>\n",
       "    </tr>\n",
       "    <tr>\n",
       "      <th>...</th>\n",
       "      <td>...</td>\n",
       "      <td>...</td>\n",
       "      <td>...</td>\n",
       "      <td>...</td>\n",
       "      <td>...</td>\n",
       "    </tr>\n",
       "    <tr>\n",
       "      <th>9055976</th>\n",
       "      <td>Q106406560</td>\n",
       "      <td>[Barker Howard]</td>\n",
       "      <td>Barker B. Howard</td>\n",
       "      <td>male</td>\n",
       "      <td>NaN</td>\n",
       "    </tr>\n",
       "    <tr>\n",
       "      <th>9055977</th>\n",
       "      <td>Q106406571</td>\n",
       "      <td>[Charles Macomber]</td>\n",
       "      <td>Charles H. Macomber</td>\n",
       "      <td>male</td>\n",
       "      <td>NaN</td>\n",
       "    </tr>\n",
       "    <tr>\n",
       "      <th>9055978</th>\n",
       "      <td>Q106406588</td>\n",
       "      <td>None</td>\n",
       "      <td>Dina David</td>\n",
       "      <td>female</td>\n",
       "      <td>01.04.1848</td>\n",
       "    </tr>\n",
       "    <tr>\n",
       "      <th>9055979</th>\n",
       "      <td>Q106406593</td>\n",
       "      <td>None</td>\n",
       "      <td>Irma Dexinger</td>\n",
       "      <td>female</td>\n",
       "      <td>18.03.1899</td>\n",
       "    </tr>\n",
       "    <tr>\n",
       "      <th>9055980</th>\n",
       "      <td>Q106406643</td>\n",
       "      <td>[Fred Trull]</td>\n",
       "      <td>Fred F. Trull</td>\n",
       "      <td>male</td>\n",
       "      <td>NaN</td>\n",
       "    </tr>\n",
       "  </tbody>\n",
       "</table>\n",
       "<p>9055981 rows × 5 columns</p>\n",
       "</div>"
      ],
      "text/plain": [
       "                 id                                            aliases  \\\n",
       "0               Q23  [Washington, President Washington, G. Washingt...   \n",
       "1               Q42  [Douglas Noel Adams, Douglas Noël Adams, Dougl...   \n",
       "2             Q1868      [Paul Marie Ghislain Otlet, Paul Marie Otlet]   \n",
       "3              Q207  [George Walker Bush, Bush Jr., Dubya, GWB, Bus...   \n",
       "4              Q297  [Velázquez, Diego Rodríguez de Silva y Velázqu...   \n",
       "...             ...                                                ...   \n",
       "9055976  Q106406560                                    [Barker Howard]   \n",
       "9055977  Q106406571                                 [Charles Macomber]   \n",
       "9055978  Q106406588                                               None   \n",
       "9055979  Q106406593                                               None   \n",
       "9055980  Q106406643                                       [Fred Trull]   \n",
       "\n",
       "                       label genderlabel     dob_std  \n",
       "0          George Washington        male  22.02.1732  \n",
       "1              Douglas Adams        male  11.03.1952  \n",
       "2                 Paul Otlet        male  23.08.1868  \n",
       "3             George W. Bush        male  06.07.1946  \n",
       "4            Diego Velázquez        male  06.06.1599  \n",
       "...                      ...         ...         ...  \n",
       "9055976     Barker B. Howard        male         NaN  \n",
       "9055977  Charles H. Macomber        male         NaN  \n",
       "9055978           Dina David      female  01.04.1848  \n",
       "9055979        Irma Dexinger      female  18.03.1899  \n",
       "9055980        Fred F. Trull        male         NaN  \n",
       "\n",
       "[9055981 rows x 5 columns]"
      ]
     },
     "execution_count": 26,
     "metadata": {},
     "output_type": "execute_result"
    }
   ],
   "source": [
    "wiki"
   ]
  },
  {
   "cell_type": "code",
   "execution_count": 35,
   "metadata": {},
   "outputs": [],
   "source": [
    "wiki.to_pickle('../generated/WIKIDATA/df_wikidata_final.pickle')"
   ]
  },
  {
   "cell_type": "code",
   "execution_count": null,
   "metadata": {},
   "outputs": [],
   "source": [
    "#with open('../generated/WIKIDATA/df_wikidata_final.pickle', 'wb') as f: \n",
    "    #pickle.dump(wiki, f)"
   ]
  },
  {
   "cell_type": "code",
   "execution_count": 5,
   "metadata": {},
   "outputs": [],
   "source": [
    "with open('../generated/WIKIDATA/df_wikidata_final.pickle', 'rb') as f: \n",
    "     df_wikidata = pickle.loads(f.read())"
   ]
  },
  {
   "cell_type": "code",
   "execution_count": 6,
   "metadata": {},
   "outputs": [
    {
     "data": {
      "text/html": [
       "<div>\n",
       "<style scoped>\n",
       "    .dataframe tbody tr th:only-of-type {\n",
       "        vertical-align: middle;\n",
       "    }\n",
       "\n",
       "    .dataframe tbody tr th {\n",
       "        vertical-align: top;\n",
       "    }\n",
       "\n",
       "    .dataframe thead th {\n",
       "        text-align: right;\n",
       "    }\n",
       "</style>\n",
       "<table border=\"1\" class=\"dataframe\">\n",
       "  <thead>\n",
       "    <tr style=\"text-align: right;\">\n",
       "      <th></th>\n",
       "      <th>id</th>\n",
       "      <th>aliases</th>\n",
       "      <th>label</th>\n",
       "      <th>genderlabel</th>\n",
       "      <th>dob_std</th>\n",
       "    </tr>\n",
       "  </thead>\n",
       "  <tbody>\n",
       "    <tr>\n",
       "      <th>0</th>\n",
       "      <td>Q23</td>\n",
       "      <td>[Washington, President Washington, G. Washingt...</td>\n",
       "      <td>George Washington</td>\n",
       "      <td>male</td>\n",
       "      <td>22.02.1732</td>\n",
       "    </tr>\n",
       "    <tr>\n",
       "      <th>1</th>\n",
       "      <td>Q42</td>\n",
       "      <td>[Douglas Noel Adams, Douglas Noël Adams, Dougl...</td>\n",
       "      <td>Douglas Adams</td>\n",
       "      <td>male</td>\n",
       "      <td>11.03.1952</td>\n",
       "    </tr>\n",
       "    <tr>\n",
       "      <th>2</th>\n",
       "      <td>Q1868</td>\n",
       "      <td>[Paul Marie Ghislain Otlet, Paul Marie Otlet]</td>\n",
       "      <td>Paul Otlet</td>\n",
       "      <td>male</td>\n",
       "      <td>23.08.1868</td>\n",
       "    </tr>\n",
       "    <tr>\n",
       "      <th>3</th>\n",
       "      <td>Q207</td>\n",
       "      <td>[George Walker Bush, Bush Jr., Dubya, GWB, Bus...</td>\n",
       "      <td>George W. Bush</td>\n",
       "      <td>male</td>\n",
       "      <td>06.07.1946</td>\n",
       "    </tr>\n",
       "    <tr>\n",
       "      <th>4</th>\n",
       "      <td>Q297</td>\n",
       "      <td>[Velázquez, Diego Rodríguez de Silva y Velázqu...</td>\n",
       "      <td>Diego Velázquez</td>\n",
       "      <td>male</td>\n",
       "      <td>06.06.1599</td>\n",
       "    </tr>\n",
       "    <tr>\n",
       "      <th>...</th>\n",
       "      <td>...</td>\n",
       "      <td>...</td>\n",
       "      <td>...</td>\n",
       "      <td>...</td>\n",
       "      <td>...</td>\n",
       "    </tr>\n",
       "    <tr>\n",
       "      <th>9055976</th>\n",
       "      <td>Q106406560</td>\n",
       "      <td>[Barker Howard]</td>\n",
       "      <td>Barker B. Howard</td>\n",
       "      <td>male</td>\n",
       "      <td>NaN</td>\n",
       "    </tr>\n",
       "    <tr>\n",
       "      <th>9055977</th>\n",
       "      <td>Q106406571</td>\n",
       "      <td>[Charles Macomber]</td>\n",
       "      <td>Charles H. Macomber</td>\n",
       "      <td>male</td>\n",
       "      <td>NaN</td>\n",
       "    </tr>\n",
       "    <tr>\n",
       "      <th>9055978</th>\n",
       "      <td>Q106406588</td>\n",
       "      <td>None</td>\n",
       "      <td>Dina David</td>\n",
       "      <td>female</td>\n",
       "      <td>01.04.1848</td>\n",
       "    </tr>\n",
       "    <tr>\n",
       "      <th>9055979</th>\n",
       "      <td>Q106406593</td>\n",
       "      <td>None</td>\n",
       "      <td>Irma Dexinger</td>\n",
       "      <td>female</td>\n",
       "      <td>18.03.1899</td>\n",
       "    </tr>\n",
       "    <tr>\n",
       "      <th>9055980</th>\n",
       "      <td>Q106406643</td>\n",
       "      <td>[Fred Trull]</td>\n",
       "      <td>Fred F. Trull</td>\n",
       "      <td>male</td>\n",
       "      <td>NaN</td>\n",
       "    </tr>\n",
       "  </tbody>\n",
       "</table>\n",
       "<p>9055981 rows × 5 columns</p>\n",
       "</div>"
      ],
      "text/plain": [
       "                 id                                            aliases  \\\n",
       "0               Q23  [Washington, President Washington, G. Washingt...   \n",
       "1               Q42  [Douglas Noel Adams, Douglas Noël Adams, Dougl...   \n",
       "2             Q1868      [Paul Marie Ghislain Otlet, Paul Marie Otlet]   \n",
       "3              Q207  [George Walker Bush, Bush Jr., Dubya, GWB, Bus...   \n",
       "4              Q297  [Velázquez, Diego Rodríguez de Silva y Velázqu...   \n",
       "...             ...                                                ...   \n",
       "9055976  Q106406560                                    [Barker Howard]   \n",
       "9055977  Q106406571                                 [Charles Macomber]   \n",
       "9055978  Q106406588                                               None   \n",
       "9055979  Q106406593                                               None   \n",
       "9055980  Q106406643                                       [Fred Trull]   \n",
       "\n",
       "                       label genderlabel     dob_std  \n",
       "0          George Washington        male  22.02.1732  \n",
       "1              Douglas Adams        male  11.03.1952  \n",
       "2                 Paul Otlet        male  23.08.1868  \n",
       "3             George W. Bush        male  06.07.1946  \n",
       "4            Diego Velázquez        male  06.06.1599  \n",
       "...                      ...         ...         ...  \n",
       "9055976     Barker B. Howard        male         NaN  \n",
       "9055977  Charles H. Macomber        male         NaN  \n",
       "9055978           Dina David      female  01.04.1848  \n",
       "9055979        Irma Dexinger      female  18.03.1899  \n",
       "9055980        Fred F. Trull        male         NaN  \n",
       "\n",
       "[9055981 rows x 5 columns]"
      ]
     },
     "execution_count": 6,
     "metadata": {},
     "output_type": "execute_result"
    }
   ],
   "source": [
    "df_wikidata"
   ]
  },
  {
   "cell_type": "code",
   "execution_count": 72,
   "metadata": {},
   "outputs": [],
   "source": [
    "df_wikidata_dico = df_wikidata.drop(columns = 'aliases')\n",
    "df_wikidata_dico.set_index('id',inplace = True)"
   ]
  },
  {
   "cell_type": "code",
   "execution_count": 73,
   "metadata": {},
   "outputs": [],
   "source": [
    "dict_wikidata_people = test1.to_dict('index')"
   ]
  },
  {
   "cell_type": "code",
   "execution_count": 76,
   "metadata": {},
   "outputs": [],
   "source": [
    "with open('../generated/WIKIDATA/dict_wikidata_people.pickle', 'wb') as g:\n",
    "    pickle.dump(dict_wikidata_people, g, protocol=pickle.HIGHEST_PROTOCOL)"
   ]
  }
 ],
 "metadata": {
  "kernelspec": {
   "display_name": "Python 3",
   "language": "python",
   "name": "python3"
  },
  "language_info": {
   "codemirror_mode": {
    "name": "ipython",
    "version": 3
   },
   "file_extension": ".py",
   "mimetype": "text/x-python",
   "name": "python",
   "nbconvert_exporter": "python",
   "pygments_lexer": "ipython3",
   "version": "3.8.3"
  }
 },
 "nbformat": 4,
 "nbformat_minor": 5
}
