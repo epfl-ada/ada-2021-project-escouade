{
 "cells": [
  {
   "cell_type": "code",
   "execution_count": 3,
   "id": "5b07368c",
   "metadata": {
    "execution": {
     "iopub.execute_input": "2021-11-12T20:21:47.884162Z",
     "iopub.status.busy": "2021-11-12T20:21:47.883565Z",
     "iopub.status.idle": "2021-11-12T20:21:53.086772Z",
     "shell.execute_reply": "2021-11-12T20:21:53.085800Z",
     "shell.execute_reply.started": "2021-11-12T20:21:47.884117Z"
    },
    "tags": []
   },
   "outputs": [],
   "source": [
    "import bz2\n",
    "import json\n",
    "import numpy as np\n",
    "import pandas as pd\n",
    "import spacy\n",
    "import pickle\n",
    "from pathlib import Path\n",
    "\n",
    "from IPython.display import display, HTML\n",
    "\n",
    "from ressources import config"
   ]
  },
  {
   "cell_type": "code",
   "execution_count": 5,
   "id": "7dca3f7c",
   "metadata": {
    "execution": {
     "iopub.execute_input": "2021-11-12T20:21:56.475843Z",
     "iopub.status.busy": "2021-11-12T20:21:56.475240Z",
     "iopub.status.idle": "2021-11-12T20:21:56.489057Z",
     "shell.execute_reply": "2021-11-12T20:21:56.485127Z",
     "shell.execute_reply.started": "2021-11-12T20:21:56.475812Z"
    },
    "tags": []
   },
   "outputs": [],
   "source": [
    "RAW_DATA_FOLDER = config.RAW_DATA_FOLDER\n",
    "GENERATED_DATA_FOLDER = config.GENERATED_DATA_FOLDER"
   ]
  },
  {
   "cell_type": "code",
   "execution_count": null,
   "id": "8894c0f1-ed71-4dcb-85ed-5ff16a8ce67c",
   "metadata": {},
   "outputs": [],
   "source": [
    "def sanitarization(word_list):\n",
    "    nlp = spacy.load(\"en_core_web_sm\")\n",
    "    word_list_san = []   \n",
    "    for film in word_list:\n",
    "        doc_film_name = nlp(film)\n",
    "        tokens = [token.text for token in doc_film_name]\n",
    "        result = \" \".join(tokens)\n",
    "        word_list_san.append(result)\n",
    "    return word_list_san"
   ]
  },
  {
   "cell_type": "markdown",
   "id": "dbdae98c-4444-4248-9525-38eb898b976f",
   "metadata": {},
   "source": [
    "## WIKIDATA Dataset\n",
    "Exploring and filtering of Wikidata Dataset"
   ]
  },
  {
   "cell_type": "code",
   "execution_count": 13,
   "id": "dfa85e9e-0b0c-4936-9005-ef7f40f2862a",
   "metadata": {
    "execution": {
     "iopub.execute_input": "2021-11-12T21:03:57.610101Z",
     "iopub.status.busy": "2021-11-12T21:03:57.608887Z",
     "iopub.status.idle": "2021-11-12T21:04:53.568774Z",
     "shell.execute_reply": "2021-11-12T21:04:53.567672Z",
     "shell.execute_reply.started": "2021-11-12T21:03:57.610023Z"
    },
    "tags": []
   },
   "outputs": [
    {
     "name": "stdout",
     "output_type": "stream",
     "text": [
      "True\n"
     ]
    },
    {
     "data": {
      "text/plain": [
       "(9055981, 5)"
      ]
     },
     "execution_count": 13,
     "metadata": {},
     "output_type": "execute_result"
    }
   ],
   "source": [
    "# opening the parquet data\n",
    "wiki = pd.read_parquet(RAW_DATA_FOLDER / 'WIKIDATA')\n",
    "wiki = wiki[['id','aliases', 'label','date_of_birth','gender']]\n",
    "# Wikidata is unique so there's no double\n",
    "print(wiki['id'].is_unique)\n",
    "wiki.shape\n"
   ]
  },
  {
   "cell_type": "code",
   "execution_count": 7,
   "id": "8d31bd88-18bc-4f51-a8ca-8d2257ea3012",
   "metadata": {
    "execution": {
     "iopub.execute_input": "2021-11-12T20:22:32.606107Z",
     "iopub.status.busy": "2021-11-12T20:22:32.604810Z",
     "iopub.status.idle": "2021-11-12T20:22:32.621611Z",
     "shell.execute_reply": "2021-11-12T20:22:32.619877Z",
     "shell.execute_reply.started": "2021-11-12T20:22:32.606055Z"
    },
    "tags": []
   },
   "outputs": [],
   "source": [
    "# Function to get rid of list in a column\n",
    "\n",
    "def try_join(cell):\n",
    "    try:\n",
    "        return ''.join(map(str, cell))\n",
    "    except TypeError:\n",
    "        return np.nan"
   ]
  },
  {
   "cell_type": "code",
   "execution_count": 9,
   "id": "62bc421b-40dc-4e5f-b428-328d38980126",
   "metadata": {
    "execution": {
     "iopub.execute_input": "2021-11-12T20:30:01.350065Z",
     "iopub.status.busy": "2021-11-12T20:30:01.349701Z",
     "iopub.status.idle": "2021-11-12T20:30:19.054558Z",
     "shell.execute_reply": "2021-11-12T20:30:19.051548Z",
     "shell.execute_reply.started": "2021-11-12T20:30:01.350037Z"
    },
    "tags": []
   },
   "outputs": [],
   "source": [
    "# converting gender column (type: list / object) to a str\n",
    "wiki['genderlabel'] = [try_join(cell) for cell in wiki['gender']]\n",
    "\n",
    "# replacing gender wikidata id by male and female\n",
    "wiki['genderlabel'].replace(\"Q6581097\", 'male', inplace = True)\n",
    "wiki['genderlabel'].replace(\"Q6581072\", 'female', inplace = True)\n",
    "\n",
    "for item, row in wiki.iterrow():\n",
    "    if wiki['genderlabel'] not in ('male', 'female'):\n",
    "        wiki['genderlabel'] = 'Other'"
   ]
  },
  {
   "cell_type": "code",
   "execution_count": 10,
   "id": "1f1d05bc-597b-44bc-adaf-832ece8cf07c",
   "metadata": {
    "execution": {
     "iopub.execute_input": "2021-11-12T20:30:37.941008Z",
     "iopub.status.busy": "2021-11-12T20:30:37.940666Z",
     "iopub.status.idle": "2021-11-12T20:30:38.350398Z",
     "shell.execute_reply": "2021-11-12T20:30:38.346277Z",
     "shell.execute_reply.started": "2021-11-12T20:30:37.940980Z"
    }
   },
   "outputs": [
    {
     "data": {
      "text/plain": [
       "male                5418464\n",
       "female              1684170\n",
       "Q1052281                887\n",
       "Q6581097Q6581072        664\n",
       "Q48270                  307\n",
       "                     ...   \n",
       "Q6581097Q281833           1\n",
       "Q6581072Q1052281          1\n",
       "Q7130936                  1\n",
       "Q48270Q2449503            1\n",
       "Q6636                     1\n",
       "Name: genderlabel, Length: 106, dtype: int64"
      ]
     },
     "execution_count": 10,
     "metadata": {},
     "output_type": "execute_result"
    }
   ],
   "source": [
    "# We see that male and female are not the only two genders registred in Wikidata\n",
    "wiki['genderlabel'].value_counts()"
   ]
  },
  {
   "cell_type": "code",
   "execution_count": null,
   "id": "8dcf5f9f-deed-4dc3-b15e-fa63fded8d3b",
   "metadata": {},
   "outputs": [],
   "source": [
    "# converting date_of_birth column (type: list / object) to a str\n",
    "wiki['date_of_birth'] = [try_join(cell) for cell in wiki['date_of_birth']]\n",
    "\n",
    "# TODO: parse date and time to extract only date and calculate age of the speaker"
   ]
  }
 ],
 "metadata": {
  "kernelspec": {
   "display_name": "Python [conda env:ada] *",
   "language": "python",
   "name": "conda-env-ada-py"
  },
  "language_info": {
   "codemirror_mode": {
    "name": "ipython",
    "version": 3
   },
   "file_extension": ".py",
   "mimetype": "text/x-python",
   "name": "python",
   "nbconvert_exporter": "python",
   "pygments_lexer": "ipython3",
   "version": "3.8.11"
  }
 },
 "nbformat": 4,
 "nbformat_minor": 5
}
