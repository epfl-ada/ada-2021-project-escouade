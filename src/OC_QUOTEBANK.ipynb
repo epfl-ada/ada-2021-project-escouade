{
 "cells": [
  {
   "cell_type": "code",
   "execution_count": 1,
   "id": "5eba61a2-2139-4073-8b99-5ad4ae973497",
   "metadata": {
    "execution": {
     "iopub.execute_input": "2021-11-10T10:16:40.186819Z",
     "iopub.status.busy": "2021-11-10T10:16:40.185221Z",
     "iopub.status.idle": "2021-11-10T10:16:43.439736Z",
     "shell.execute_reply": "2021-11-10T10:16:43.438846Z",
     "shell.execute_reply.started": "2021-11-10T10:16:40.186680Z"
    },
    "tags": []
   },
   "outputs": [],
   "source": [
    "import bz2\n",
    "import json\n",
    "import pandas as pd\n",
    "import vaex as vx\n",
    "from pathlib import Path\n",
    "\n",
    "from IPython.display import display, HTML\n",
    "\n",
    "from ressources import config"
   ]
  },
  {
   "cell_type": "code",
   "execution_count": 2,
   "id": "ae202c0d-f9c9-4f5b-a466-71979d56cf50",
   "metadata": {
    "execution": {
     "iopub.execute_input": "2021-11-10T10:16:44.720727Z",
     "iopub.status.busy": "2021-11-10T10:16:44.720004Z",
     "iopub.status.idle": "2021-11-10T10:16:44.739884Z",
     "shell.execute_reply": "2021-11-10T10:16:44.738391Z",
     "shell.execute_reply.started": "2021-11-10T10:16:44.720675Z"
    },
    "tags": []
   },
   "outputs": [],
   "source": [
    "DATA_FOLDER = config.DATA_FOLDER\n",
    "TEMP_FOLDER = config.TEMP_FOLDER"
   ]
  },
  {
   "cell_type": "code",
   "execution_count": 3,
   "id": "53d16d9b-4865-487e-a9a9-34dbfcc6258d",
   "metadata": {
    "execution": {
     "iopub.execute_input": "2021-11-10T10:16:45.691904Z",
     "iopub.status.busy": "2021-11-10T10:16:45.689126Z",
     "iopub.status.idle": "2021-11-10T10:16:45.970993Z",
     "shell.execute_reply": "2021-11-10T10:16:45.969808Z",
     "shell.execute_reply.started": "2021-11-10T10:16:45.691829Z"
    },
    "tags": []
   },
   "outputs": [
    {
     "name": "stdout",
     "output_type": "stream",
     "text": [
      "{'quoteID': '2020-01-28-000082', 'quotation': '[ D ] espite the efforts of the partners to create a non-political award that unites the Jewish people, some have incorrectly interpreted the participation of the Office of the Prime Minister in the Genesis Prize as bringing a political dimension to this important initiative,', 'speaker': 'None', 'qids': [], 'date': '2020-01-28 08:04:05', 'numOccurrences': 1, 'probas': [['None', '0.7272'], ['Prime Minister Netanyahu', '0.2445'], ['Natan Sharansky', '0.0283']], 'urls': ['http://israelnationalnews.com/News/News.aspx/275210'], 'phase': 'E'}\n",
      "{'quoteID': '2020-01-16-000088', 'quotation': '[ Department of Homeland Security ] was livid and strongly urged to have the agenda pulled.', 'speaker': 'Sue Myrick', 'qids': ['Q367796'], 'date': '2020-01-16 12:00:13', 'numOccurrences': 1, 'probas': [['Sue Myrick', '0.8867'], ['None', '0.0992'], ['Ron Wyden', '0.0141']], 'urls': ['http://thehill.com/opinion/international/478224-saudi-critics-should-revisit-sue-myricks-wake-up-america-agenda'], 'phase': 'E'}\n",
      "{'quoteID': '2020-01-28-000082', 'quotation': '[ D ] espite the efforts of the partners to create a non-political award that unites the Jewish people, some have incorrectly interpreted the participation of the Office of the Prime Minister in the Genesis Prize as bringing a political dimension to this important initiative,', 'speaker': 'None', 'qids': [], 'date': '2020-01-28 08:04:05', 'numOccurrences': 1, 'probas': [['None', '0.7272'], ['Prime Minister Netanyahu', '0.2445'], ['Natan Sharansky', '0.0283']], 'urls': ['http://israelnationalnews.com/News/News.aspx/275210'], 'phase': 'E'}\n",
      "{'quoteID': '2020-01-16-000088', 'quotation': '[ Department of Homeland Security ] was livid and strongly urged to have the agenda pulled.', 'speaker': 'Sue Myrick', 'qids': ['Q367796'], 'date': '2020-01-16 12:00:13', 'numOccurrences': 1, 'probas': [['Sue Myrick', '0.8867'], ['None', '0.0992'], ['Ron Wyden', '0.0141']], 'urls': ['http://thehill.com/opinion/international/478224-saudi-critics-should-revisit-sue-myricks-wake-up-america-agenda'], 'phase': 'E'}\n"
     ]
    }
   ],
   "source": [
    "path_to_file = DATA_FOLDER / \"QUOTEBANK/quotes-2020.json.bz2\"\n",
    "path_to_out = TEMP_FOLDER / \"QUOTEBANK/quotes-2020.json.bz2\"\n",
    "\n",
    "# Read json file as dictionary with json.load\n",
    "with bz2.open(path_to_file, 'rb') as s_file:\n",
    "    with bz2.open(path_to_out, 'wb') as d_file:\n",
    "    # We could also use 'ab' mode to append to an existing file\n",
    "        n = 0\n",
    "        for instance in s_file:\n",
    "            if n >= 2:\n",
    "                break\n",
    "            else:\n",
    "                n += 1\n",
    "            instance = json.loads(instance)\n",
    "            print(instance)\n",
    "            d_file.write((json.dumps(instance)+'\\n').encode('utf-8'))\n",
    "            \n",
    "with bz2.open(path_to_out, 'rb') as f:\n",
    "    for instance in f:\n",
    "        instance = json.loads(instance)\n",
    "        print(instance)"
   ]
  },
  {
   "cell_type": "code",
   "execution_count": 4,
   "id": "125f50a1-abc3-4dad-97ea-26798027e7dc",
   "metadata": {
    "execution": {
     "iopub.execute_input": "2021-11-10T10:16:47.223964Z",
     "iopub.status.busy": "2021-11-10T10:16:47.223452Z",
     "iopub.status.idle": "2021-11-10T10:16:47.520023Z",
     "shell.execute_reply": "2021-11-10T10:16:47.517793Z",
     "shell.execute_reply.started": "2021-11-10T10:16:47.223919Z"
    },
    "tags": []
   },
   "outputs": [
    {
     "data": {
      "text/html": [
       "<div>\n",
       "<style scoped>\n",
       "    .dataframe tbody tr th:only-of-type {\n",
       "        vertical-align: middle;\n",
       "    }\n",
       "\n",
       "    .dataframe tbody tr th {\n",
       "        vertical-align: top;\n",
       "    }\n",
       "\n",
       "    .dataframe thead th {\n",
       "        text-align: right;\n",
       "    }\n",
       "</style>\n",
       "<table border=\"1\" class=\"dataframe\">\n",
       "  <thead>\n",
       "    <tr style=\"text-align: right;\">\n",
       "      <th></th>\n",
       "      <th>quoteID</th>\n",
       "      <th>quotation</th>\n",
       "      <th>speaker</th>\n",
       "      <th>qids</th>\n",
       "      <th>date</th>\n",
       "      <th>numOccurrences</th>\n",
       "      <th>probas</th>\n",
       "      <th>urls</th>\n",
       "      <th>phase</th>\n",
       "    </tr>\n",
       "  </thead>\n",
       "  <tbody>\n",
       "    <tr>\n",
       "      <th>0</th>\n",
       "      <td>2020-01-28-000082</td>\n",
       "      <td>[ D ] espite the efforts of the partners to cr...</td>\n",
       "      <td>None</td>\n",
       "      <td>[]</td>\n",
       "      <td>2020-01-28 08:04:05</td>\n",
       "      <td>1</td>\n",
       "      <td>[[None, 0.7272], [Prime Minister Netanyahu, 0....</td>\n",
       "      <td>[http://israelnationalnews.com/News/News.aspx/...</td>\n",
       "      <td>E</td>\n",
       "    </tr>\n",
       "  </tbody>\n",
       "</table>\n",
       "</div>"
      ],
      "text/plain": [
       "             quoteID                                          quotation  \\\n",
       "0  2020-01-28-000082  [ D ] espite the efforts of the partners to cr...   \n",
       "\n",
       "  speaker qids                date  numOccurrences  \\\n",
       "0    None   [] 2020-01-28 08:04:05               1   \n",
       "\n",
       "                                              probas  \\\n",
       "0  [[None, 0.7272], [Prime Minister Netanyahu, 0....   \n",
       "\n",
       "                                                urls phase  \n",
       "0  [http://israelnationalnews.com/News/News.aspx/...     E  "
      ]
     },
     "metadata": {},
     "output_type": "display_data"
    },
    {
     "data": {
      "text/html": [
       "<div>\n",
       "<style scoped>\n",
       "    .dataframe tbody tr th:only-of-type {\n",
       "        vertical-align: middle;\n",
       "    }\n",
       "\n",
       "    .dataframe tbody tr th {\n",
       "        vertical-align: top;\n",
       "    }\n",
       "\n",
       "    .dataframe thead th {\n",
       "        text-align: right;\n",
       "    }\n",
       "</style>\n",
       "<table border=\"1\" class=\"dataframe\">\n",
       "  <thead>\n",
       "    <tr style=\"text-align: right;\">\n",
       "      <th></th>\n",
       "      <th>quoteID</th>\n",
       "      <th>quotation</th>\n",
       "      <th>speaker</th>\n",
       "      <th>qids</th>\n",
       "      <th>date</th>\n",
       "      <th>numOccurrences</th>\n",
       "      <th>probas</th>\n",
       "      <th>urls</th>\n",
       "      <th>phase</th>\n",
       "    </tr>\n",
       "  </thead>\n",
       "  <tbody>\n",
       "    <tr>\n",
       "      <th>1</th>\n",
       "      <td>2020-01-16-000088</td>\n",
       "      <td>[ Department of Homeland Security ] was livid ...</td>\n",
       "      <td>Sue Myrick</td>\n",
       "      <td>[Q367796]</td>\n",
       "      <td>2020-01-16 12:00:13</td>\n",
       "      <td>1</td>\n",
       "      <td>[[Sue Myrick, 0.8867], [None, 0.0992], [Ron Wy...</td>\n",
       "      <td>[http://thehill.com/opinion/international/4782...</td>\n",
       "      <td>E</td>\n",
       "    </tr>\n",
       "  </tbody>\n",
       "</table>\n",
       "</div>"
      ],
      "text/plain": [
       "             quoteID                                          quotation  \\\n",
       "1  2020-01-16-000088  [ Department of Homeland Security ] was livid ...   \n",
       "\n",
       "      speaker       qids                date  numOccurrences  \\\n",
       "1  Sue Myrick  [Q367796] 2020-01-16 12:00:13               1   \n",
       "\n",
       "                                              probas  \\\n",
       "1  [[Sue Myrick, 0.8867], [None, 0.0992], [Ron Wy...   \n",
       "\n",
       "                                                urls phase  \n",
       "1  [http://thehill.com/opinion/international/4782...     E  "
      ]
     },
     "metadata": {},
     "output_type": "display_data"
    },
    {
     "data": {
      "text/html": [
       "<div>\n",
       "<style scoped>\n",
       "    .dataframe tbody tr th:only-of-type {\n",
       "        vertical-align: middle;\n",
       "    }\n",
       "\n",
       "    .dataframe tbody tr th {\n",
       "        vertical-align: top;\n",
       "    }\n",
       "\n",
       "    .dataframe thead th {\n",
       "        text-align: right;\n",
       "    }\n",
       "</style>\n",
       "<table border=\"1\" class=\"dataframe\">\n",
       "  <thead>\n",
       "    <tr style=\"text-align: right;\">\n",
       "      <th></th>\n",
       "      <th>quoteID</th>\n",
       "      <th>quotation</th>\n",
       "      <th>speaker</th>\n",
       "      <th>qids</th>\n",
       "      <th>date</th>\n",
       "      <th>numOccurrences</th>\n",
       "      <th>probas</th>\n",
       "      <th>urls</th>\n",
       "      <th>phase</th>\n",
       "    </tr>\n",
       "  </thead>\n",
       "  <tbody>\n",
       "    <tr>\n",
       "      <th>0</th>\n",
       "      <td>2020-01-28-000082</td>\n",
       "      <td>[ D ] espite the efforts of the partners to cr...</td>\n",
       "      <td>None</td>\n",
       "      <td>[]</td>\n",
       "      <td>2020-01-28 08:04:05</td>\n",
       "      <td>1</td>\n",
       "      <td>[[None, 0.7272], [Prime Minister Netanyahu, 0....</td>\n",
       "      <td>[http://israelnationalnews.com/News/News.aspx/...</td>\n",
       "      <td>E</td>\n",
       "    </tr>\n",
       "  </tbody>\n",
       "</table>\n",
       "</div>"
      ],
      "text/plain": [
       "             quoteID                                          quotation  \\\n",
       "0  2020-01-28-000082  [ D ] espite the efforts of the partners to cr...   \n",
       "\n",
       "  speaker qids                date  numOccurrences  \\\n",
       "0    None   [] 2020-01-28 08:04:05               1   \n",
       "\n",
       "                                              probas  \\\n",
       "0  [[None, 0.7272], [Prime Minister Netanyahu, 0....   \n",
       "\n",
       "                                                urls phase  \n",
       "0  [http://israelnationalnews.com/News/News.aspx/...     E  "
      ]
     },
     "metadata": {},
     "output_type": "display_data"
    },
    {
     "data": {
      "text/html": [
       "<div>\n",
       "<style scoped>\n",
       "    .dataframe tbody tr th:only-of-type {\n",
       "        vertical-align: middle;\n",
       "    }\n",
       "\n",
       "    .dataframe tbody tr th {\n",
       "        vertical-align: top;\n",
       "    }\n",
       "\n",
       "    .dataframe thead th {\n",
       "        text-align: right;\n",
       "    }\n",
       "</style>\n",
       "<table border=\"1\" class=\"dataframe\">\n",
       "  <thead>\n",
       "    <tr style=\"text-align: right;\">\n",
       "      <th></th>\n",
       "      <th>quoteID</th>\n",
       "      <th>quotation</th>\n",
       "      <th>speaker</th>\n",
       "      <th>qids</th>\n",
       "      <th>date</th>\n",
       "      <th>numOccurrences</th>\n",
       "      <th>probas</th>\n",
       "      <th>urls</th>\n",
       "      <th>phase</th>\n",
       "    </tr>\n",
       "  </thead>\n",
       "  <tbody>\n",
       "    <tr>\n",
       "      <th>1</th>\n",
       "      <td>2020-01-16-000088</td>\n",
       "      <td>[ Department of Homeland Security ] was livid ...</td>\n",
       "      <td>Sue Myrick</td>\n",
       "      <td>[Q367796]</td>\n",
       "      <td>2020-01-16 12:00:13</td>\n",
       "      <td>1</td>\n",
       "      <td>[[Sue Myrick, 0.8867], [None, 0.0992], [Ron Wy...</td>\n",
       "      <td>[http://thehill.com/opinion/international/4782...</td>\n",
       "      <td>E</td>\n",
       "    </tr>\n",
       "  </tbody>\n",
       "</table>\n",
       "</div>"
      ],
      "text/plain": [
       "             quoteID                                          quotation  \\\n",
       "1  2020-01-16-000088  [ Department of Homeland Security ] was livid ...   \n",
       "\n",
       "      speaker       qids                date  numOccurrences  \\\n",
       "1  Sue Myrick  [Q367796] 2020-01-16 12:00:13               1   \n",
       "\n",
       "                                              probas  \\\n",
       "1  [[Sue Myrick, 0.8867], [None, 0.0992], [Ron Wy...   \n",
       "\n",
       "                                                urls phase  \n",
       "1  [http://thehill.com/opinion/international/4782...     E  "
      ]
     },
     "metadata": {},
     "output_type": "display_data"
    }
   ],
   "source": [
    "# Read json file as dataframe with pd.read_json\n",
    "\n",
    "with pd.read_json(path_to_file, lines=True, compression='bz2', chunksize=1) as df_reader:\n",
    "    with open(path_to_out, 'wb') as d_file:\n",
    "    # We could also use 'ab' mode to append to an existing file\n",
    "        n = 0\n",
    "        for chunk in df_reader:\n",
    "            if n >= 2:\n",
    "                break\n",
    "            else:\n",
    "                n += 1\n",
    "            display(chunk)\n",
    "            chunk.to_json(d_file, orient = 'records', compression='bz2', lines = True)\n",
    "        \n",
    "with pd.read_json(path_to_out, orient = 'records', lines=True, compression='bz2', chunksize=1) as df_reader:\n",
    "    for chunk in df_reader:\n",
    "            display(chunk)"
   ]
  },
  {
   "cell_type": "code",
   "execution_count": null,
   "id": "8510f252-5ee5-4752-94bc-06effe718801",
   "metadata": {
    "execution": {
     "iopub.execute_input": "2021-11-10T10:16:48.156907Z",
     "iopub.status.busy": "2021-11-10T10:16:48.155135Z"
    },
    "tags": []
   },
   "outputs": [],
   "source": [
    "df_tmp = vx.from_json(path_to_file, \n",
    "                      copy_index = False, \n",
    "                      orient = 'records', \n",
    "                      compression = 'bz2', \n",
    "                      lines = True,\n",
    "                      chunksize = None)\n",
    "        \n"
   ]
  },
  {
   "cell_type": "code",
   "execution_count": null,
   "id": "7afc5958-e0ba-4eb1-a247-63bd59ca83ea",
   "metadata": {},
   "outputs": [],
   "source": []
  },
  {
   "cell_type": "code",
   "execution_count": null,
   "id": "11836701-0242-419b-9e8d-b88f63b489e1",
   "metadata": {},
   "outputs": [],
   "source": []
  }
 ],
 "metadata": {
  "kernelspec": {
   "display_name": "Python [conda env:ada] *",
   "language": "python",
   "name": "conda-env-ada-py"
  },
  "language_info": {
   "codemirror_mode": {
    "name": "ipython",
    "version": 3
   },
   "file_extension": ".py",
   "mimetype": "text/x-python",
   "name": "python",
   "nbconvert_exporter": "python",
   "pygments_lexer": "ipython3",
   "version": "3.8.11"
  }
 },
 "nbformat": 4,
 "nbformat_minor": 5
}
