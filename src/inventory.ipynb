{
 "cells": [
  {
   "cell_type": "code",
   "execution_count": 3,
   "id": "88dce3a8-cccf-426e-aae8-c15ce52e9462",
   "metadata": {
    "execution": {
     "iopub.execute_input": "2021-11-10T09:42:18.265031Z",
     "iopub.status.busy": "2021-11-10T09:42:18.264140Z",
     "iopub.status.idle": "2021-11-10T09:42:18.275489Z",
     "shell.execute_reply": "2021-11-10T09:42:18.270508Z",
     "shell.execute_reply.started": "2021-11-10T09:42:18.264982Z"
    }
   },
   "outputs": [],
   "source": [
    "import bz2\n",
    "import json\n",
    "import pandas as pd\n",
    "import vaex as vx\n",
    "from pathlib import Path\n",
    "\n",
    "from IPython.display import display, HTML\n",
    "\n",
    "from ressources import config"
   ]
  },
  {
   "cell_type": "code",
   "execution_count": 4,
   "id": "e226aae1-8862-464c-a275-30367b4ac9b4",
   "metadata": {
    "execution": {
     "iopub.execute_input": "2021-11-10T09:42:19.884459Z",
     "iopub.status.busy": "2021-11-10T09:42:19.884034Z",
     "iopub.status.idle": "2021-11-10T09:42:19.893973Z",
     "shell.execute_reply": "2021-11-10T09:42:19.889172Z",
     "shell.execute_reply.started": "2021-11-10T09:42:19.884419Z"
    }
   },
   "outputs": [],
   "source": [
    "DATA_FOLDER = config.DATA_FOLDER"
   ]
  },
  {
   "cell_type": "code",
   "execution_count": 5,
   "id": "1f44d13e-e68e-497c-9579-6dd6cbee6a1a",
   "metadata": {
    "execution": {
     "iopub.execute_input": "2021-11-10T09:42:20.775163Z",
     "iopub.status.busy": "2021-11-10T09:42:20.774635Z",
     "iopub.status.idle": "2021-11-10T09:42:20.780694Z",
     "shell.execute_reply": "2021-11-10T09:42:20.779720Z",
     "shell.execute_reply.started": "2021-11-10T09:42:20.775125Z"
    }
   },
   "outputs": [],
   "source": [
    "QUOTEBANK_FOLDER = DATA_FOLDER / \"QUOTEBANK\"\n",
    "file_list = list(QUOTEBANK_FOLDER.glob('*.json.bz2'))"
   ]
  },
  {
   "cell_type": "code",
   "execution_count": 6,
   "id": "99cc7db0-1cbe-4760-bc35-9e764171a8a5",
   "metadata": {
    "execution": {
     "iopub.execute_input": "2021-11-10T09:42:21.489223Z",
     "iopub.status.busy": "2021-11-10T09:42:21.487860Z",
     "iopub.status.idle": "2021-11-10T09:42:21.550663Z",
     "shell.execute_reply": "2021-11-10T09:42:21.549869Z",
     "shell.execute_reply.started": "2021-11-10T09:42:21.489168Z"
    }
   },
   "outputs": [],
   "source": [
    "with pd.read_json(file_list[0], lines=True, compression='bz2', chunksize=1) as df_reader:\n",
    "    for chunk in df_reader:\n",
    "        df_quotebank = chunk\n",
    "        break\n"
   ]
  },
  {
   "cell_type": "code",
   "execution_count": 7,
   "id": "df1105fe-5ced-47cc-8760-7735ff01463b",
   "metadata": {
    "execution": {
     "iopub.execute_input": "2021-11-10T09:42:22.061769Z",
     "iopub.status.busy": "2021-11-10T09:42:22.061406Z",
     "iopub.status.idle": "2021-11-10T09:42:22.078925Z",
     "shell.execute_reply": "2021-11-10T09:42:22.076160Z",
     "shell.execute_reply.started": "2021-11-10T09:42:22.061743Z"
    }
   },
   "outputs": [
    {
     "name": "stdout",
     "output_type": "stream",
     "text": [
      "\n",
      "Columns quotebank:\n",
      "Index(['quoteID', 'quotation', 'speaker', 'qids', 'date', 'numOccurrences',\n",
      "       'probas', 'urls', 'phase'],\n",
      "      dtype='object')\n"
     ]
    }
   ],
   "source": [
    "# column list for each dataset\n",
    "print(f\"\\nColumns quotebank:\\n{df_quotebank.columns}\")"
   ]
  },
  {
   "cell_type": "code",
   "execution_count": 8,
   "id": "9108d582-f81a-4dde-b2b8-fb689e549013",
   "metadata": {
    "execution": {
     "iopub.execute_input": "2021-11-10T09:42:23.154911Z",
     "iopub.status.busy": "2021-11-10T09:42:23.154412Z",
     "iopub.status.idle": "2021-11-10T09:42:23.236228Z",
     "shell.execute_reply": "2021-11-10T09:42:23.229005Z",
     "shell.execute_reply.started": "2021-11-10T09:42:23.154856Z"
    }
   },
   "outputs": [
    {
     "name": "stdout",
     "output_type": "stream",
     "text": [
      "\n",
      "Sample quotebank:\n",
      "\n"
     ]
    },
    {
     "data": {
      "text/html": [
       "<div>\n",
       "<style scoped>\n",
       "    .dataframe tbody tr th:only-of-type {\n",
       "        vertical-align: middle;\n",
       "    }\n",
       "\n",
       "    .dataframe tbody tr th {\n",
       "        vertical-align: top;\n",
       "    }\n",
       "\n",
       "    .dataframe thead th {\n",
       "        text-align: right;\n",
       "    }\n",
       "</style>\n",
       "<table border=\"1\" class=\"dataframe\">\n",
       "  <thead>\n",
       "    <tr style=\"text-align: right;\">\n",
       "      <th></th>\n",
       "      <th>quoteID</th>\n",
       "      <th>quotation</th>\n",
       "      <th>speaker</th>\n",
       "      <th>qids</th>\n",
       "      <th>date</th>\n",
       "      <th>numOccurrences</th>\n",
       "      <th>probas</th>\n",
       "      <th>urls</th>\n",
       "      <th>phase</th>\n",
       "    </tr>\n",
       "  </thead>\n",
       "  <tbody>\n",
       "    <tr>\n",
       "      <th>0</th>\n",
       "      <td>2018-06-30-000005</td>\n",
       "      <td>... a minimum of 5.25 trillion (plastic) parti...</td>\n",
       "      <td>Marcus Eriksen</td>\n",
       "      <td>[Q55997400]</td>\n",
       "      <td>2018-06-30 07:00:00</td>\n",
       "      <td>3</td>\n",
       "      <td>[[Marcus Eriksen, 0.6814], [None, 0.3186]]</td>\n",
       "      <td>[http://www.santacruzsentinel.com/environment-...</td>\n",
       "      <td>E</td>\n",
       "    </tr>\n",
       "  </tbody>\n",
       "</table>\n",
       "</div>"
      ],
      "text/plain": [
       "             quoteID                                          quotation  \\\n",
       "0  2018-06-30-000005  ... a minimum of 5.25 trillion (plastic) parti...   \n",
       "\n",
       "          speaker         qids                date  numOccurrences  \\\n",
       "0  Marcus Eriksen  [Q55997400] 2018-06-30 07:00:00               3   \n",
       "\n",
       "                                       probas  \\\n",
       "0  [[Marcus Eriksen, 0.6814], [None, 0.3186]]   \n",
       "\n",
       "                                                urls phase  \n",
       "0  [http://www.santacruzsentinel.com/environment-...     E  "
      ]
     },
     "metadata": {},
     "output_type": "display_data"
    }
   ],
   "source": [
    "# Sample for each dataset\n",
    "print(\"\\nSample quotebank:\\n\")\n",
    "display(df_quotebank)"
   ]
  },
  {
   "cell_type": "code",
   "execution_count": null,
   "id": "0a8ca257-d24a-4dc3-99f7-0b6cf7340c09",
   "metadata": {
    "execution": {
     "iopub.execute_input": "2021-11-10T09:42:24.070186Z",
     "iopub.status.busy": "2021-11-10T09:42:24.067422Z"
    }
   },
   "outputs": [
    {
     "name": "stdout",
     "output_type": "stream",
     "text": [
      "Processing file quotes-2018.json.bz2\n",
      "27228451 rows in quotes-2018.json.bz2\n",
      "Processing file quotes-2019.json.bz2\n",
      "6240000\r"
     ]
    }
   ],
   "source": [
    "# Number of rows for quotebank dataset\n",
    "chunksize = 10000\n",
    "for file in file_list:\n",
    "    n = 0\n",
    "    print(f\"Processing file {file.name}\")\n",
    "    with pd.read_json(file, lines=True, compression='bz2', chunksize=chunksize) as df_reader:\n",
    "        for chunk in df_reader:\n",
    "            n += len(chunk)\n",
    "            print(n, end = \"\\r\")\n",
    "    \n",
    "    print(f\"{n} rows in {file.name}\")"
   ]
  },
  {
   "cell_type": "code",
   "execution_count": null,
   "id": "ae01c6a1-b2e9-4845-98ad-8827847457dd",
   "metadata": {},
   "outputs": [],
   "source": []
  },
  {
   "cell_type": "code",
   "execution_count": null,
   "id": "9f4f3935-82bb-4982-a9df-c85dee360c55",
   "metadata": {},
   "outputs": [],
   "source": []
  }
 ],
 "metadata": {
  "kernelspec": {
   "display_name": "Python [conda env:ada] *",
   "language": "python",
   "name": "conda-env-ada-py"
  },
  "language_info": {
   "codemirror_mode": {
    "name": "ipython",
    "version": 3
   },
   "file_extension": ".py",
   "mimetype": "text/x-python",
   "name": "python",
   "nbconvert_exporter": "python",
   "pygments_lexer": "ipython3",
   "version": "3.8.11"
  }
 },
 "nbformat": 4,
 "nbformat_minor": 5
}
